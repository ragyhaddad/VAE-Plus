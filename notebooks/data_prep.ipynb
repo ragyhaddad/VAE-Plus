{
 "cells": [
  {
   "cell_type": "code",
   "execution_count": 3,
   "id": "24218657-7716-402d-83d4-ad72e6c5e896",
   "metadata": {},
   "outputs": [
    {
     "data": {
      "text/html": [
       "<div>\n",
       "<style scoped>\n",
       "    .dataframe tbody tr th:only-of-type {\n",
       "        vertical-align: middle;\n",
       "    }\n",
       "\n",
       "    .dataframe tbody tr th {\n",
       "        vertical-align: top;\n",
       "    }\n",
       "\n",
       "    .dataframe thead th {\n",
       "        text-align: right;\n",
       "    }\n",
       "</style>\n",
       "<table border=\"1\" class=\"dataframe\">\n",
       "  <thead>\n",
       "    <tr style=\"text-align: right;\">\n",
       "      <th></th>\n",
       "      <th>Header</th>\n",
       "      <th>Sequence</th>\n",
       "    </tr>\n",
       "  </thead>\n",
       "  <tbody>\n",
       "    <tr>\n",
       "      <th>0</th>\n",
       "      <td>sp|Q6GZX4|001R_FRG3G</td>\n",
       "      <td>MAFSAEDVLKEYDRRRRMEALLLSLYYPNDRKLLDYKEWSPPRVQV...</td>\n",
       "    </tr>\n",
       "    <tr>\n",
       "      <th>1</th>\n",
       "      <td>sp|Q6GZX3|002L_FRG3G</td>\n",
       "      <td>MSIIGATRLQNDKSDTYSAGPCYAGGCSAFTPRGTCGKDWDLGEQT...</td>\n",
       "    </tr>\n",
       "    <tr>\n",
       "      <th>2</th>\n",
       "      <td>sp|Q197F8|002R_IIV3</td>\n",
       "      <td>MASNTVSAQGGSNRPVRDFSNIQDVAQFLLFDPIWNEQPGSIVPWK...</td>\n",
       "    </tr>\n",
       "    <tr>\n",
       "      <th>3</th>\n",
       "      <td>sp|Q197F7|003L_IIV3</td>\n",
       "      <td>MYQAINPCPQSWYGSPQLEREIVCKMSGAPHYPNYYPVHPNALGGA...</td>\n",
       "    </tr>\n",
       "    <tr>\n",
       "      <th>4</th>\n",
       "      <td>sp|Q6GZX2|003R_FRG3G</td>\n",
       "      <td>MARPLLGKTSSVRRRLESLSACSIFFFLRKFCQKMASLVFLNSPVY...</td>\n",
       "    </tr>\n",
       "  </tbody>\n",
       "</table>\n",
       "</div>"
      ],
      "text/plain": [
       "                 Header                                           Sequence\n",
       "0  sp|Q6GZX4|001R_FRG3G  MAFSAEDVLKEYDRRRRMEALLLSLYYPNDRKLLDYKEWSPPRVQV...\n",
       "1  sp|Q6GZX3|002L_FRG3G  MSIIGATRLQNDKSDTYSAGPCYAGGCSAFTPRGTCGKDWDLGEQT...\n",
       "2   sp|Q197F8|002R_IIV3  MASNTVSAQGGSNRPVRDFSNIQDVAQFLLFDPIWNEQPGSIVPWK...\n",
       "3   sp|Q197F7|003L_IIV3  MYQAINPCPQSWYGSPQLEREIVCKMSGAPHYPNYYPVHPNALGGA...\n",
       "4  sp|Q6GZX2|003R_FRG3G  MARPLLGKTSSVRRRLESLSACSIFFFLRKFCQKMASLVFLNSPVY..."
      ]
     },
     "execution_count": 3,
     "metadata": {},
     "output_type": "execute_result"
    }
   ],
   "source": [
    "from Bio import SeqIO\n",
    "import pandas as pd\n",
    "\n",
    "# Define a function to parse the FASTA file and convert to DataFrame\n",
    "def fasta_to_dataframe(fasta_file):\n",
    "    # Create lists to hold sequence IDs and sequences\n",
    "    headers = []\n",
    "    sequences = []\n",
    "\n",
    "    # Parse the FASTA file\n",
    "    for record in SeqIO.parse(fasta_file, \"fasta\"):\n",
    "        headers.append(record.id)  # Record header\n",
    "        sequences.append(str(record.seq))  # Sequence\n",
    "\n",
    "    # Create a DataFrame from the lists\n",
    "    df = pd.DataFrame({\"Header\": headers, \"Sequence\": sequences})\n",
    "    return df\n",
    "\n",
    "# Specify the FASTA file\n",
    "fasta_file = \"../datasets/uniprot_sprot.fasta\"\n",
    "\n",
    "# Convert FASTA to DataFrame\n",
    "df = fasta_to_dataframe(fasta_file)\n",
    "\n",
    "df.head()\n"
   ]
  },
  {
   "cell_type": "code",
   "execution_count": 4,
   "id": "fbfc1f58-4247-4752-9211-e9b517728f79",
   "metadata": {},
   "outputs": [],
   "source": [
    "df['len'] = df.Sequence.str.len()"
   ]
  },
  {
   "cell_type": "code",
   "execution_count": 5,
   "id": "ca7cbd40-347d-4ba8-bc61-20ecf1323351",
   "metadata": {},
   "outputs": [],
   "source": [
    "df = df[df.len <= 100]"
   ]
  },
  {
   "cell_type": "code",
   "execution_count": 6,
   "id": "095bf07c-5a37-4be1-b328-94869f271fb3",
   "metadata": {},
   "outputs": [],
   "source": [
    "df = df.to_csv('../datasets/peptides_small.csv', index=False)"
   ]
  },
  {
   "cell_type": "code",
   "execution_count": null,
   "id": "024b1676-2522-4dd9-9afb-710b3eb6d32e",
   "metadata": {},
   "outputs": [],
   "source": []
  }
 ],
 "metadata": {
  "kernelspec": {
   "display_name": "Python 3 (ipykernel)",
   "language": "python",
   "name": "python3"
  },
  "language_info": {
   "codemirror_mode": {
    "name": "ipython",
    "version": 3
   },
   "file_extension": ".py",
   "mimetype": "text/x-python",
   "name": "python",
   "nbconvert_exporter": "python",
   "pygments_lexer": "ipython3",
   "version": "3.10.12"
  }
 },
 "nbformat": 4,
 "nbformat_minor": 5
}
