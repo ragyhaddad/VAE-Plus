{
 "cells": [
  {
   "cell_type": "code",
   "execution_count": 4,
   "id": "24218657-7716-402d-83d4-ad72e6c5e896",
   "metadata": {},
   "outputs": [
    {
     "name": "stderr",
     "output_type": "stream",
     "text": [
      "66527032it [05:59, 185095.82it/s]                              \n"
     ]
    },
    {
     "data": {
      "text/html": [
       "<div>\n",
       "<style scoped>\n",
       "    .dataframe tbody tr th:only-of-type {\n",
       "        vertical-align: middle;\n",
       "    }\n",
       "\n",
       "    .dataframe tbody tr th {\n",
       "        vertical-align: top;\n",
       "    }\n",
       "\n",
       "    .dataframe thead th {\n",
       "        text-align: right;\n",
       "    }\n",
       "</style>\n",
       "<table border=\"1\" class=\"dataframe\">\n",
       "  <thead>\n",
       "    <tr style=\"text-align: right;\">\n",
       "      <th></th>\n",
       "      <th>Header</th>\n",
       "      <th>Sequence</th>\n",
       "    </tr>\n",
       "  </thead>\n",
       "  <tbody>\n",
       "    <tr>\n",
       "      <th>0</th>\n",
       "      <td>UniRef50_UPI002E2621C6</td>\n",
       "      <td>MGRIRVWVGTSIPNPVNAHQLVYLKGMAKTKKLILLLFVAAQPNFK...</td>\n",
       "    </tr>\n",
       "    <tr>\n",
       "      <th>1</th>\n",
       "      <td>UniRef50_A0A5A9P0L4</td>\n",
       "      <td>MEEITQIKKRLSQTVRLEGKEDLLSKKDSITNLKTEEHVSVKKMVI...</td>\n",
       "    </tr>\n",
       "    <tr>\n",
       "      <th>2</th>\n",
       "      <td>UniRef50_UPI00312B5ECC</td>\n",
       "      <td>MGRRWALSPSPSSTPKMSSTSHLQLVIFTLLALATMSSAQPTLTVS...</td>\n",
       "    </tr>\n",
       "    <tr>\n",
       "      <th>3</th>\n",
       "      <td>UniRef50_UPI0016133188</td>\n",
       "      <td>MATPTAPARRRSSAAGSMVLRGLLSVAASLSFGKVLLGAAMLWMAA...</td>\n",
       "    </tr>\n",
       "    <tr>\n",
       "      <th>4</th>\n",
       "      <td>UniRef50_UPI002E22A622</td>\n",
       "      <td>MAIPFPPAELAWALGWVAGSEIPVGNEDFAEVMRTGFQDLQKQIKE...</td>\n",
       "    </tr>\n",
       "  </tbody>\n",
       "</table>\n",
       "</div>"
      ],
      "text/plain": [
       "                   Header                                           Sequence\n",
       "0  UniRef50_UPI002E2621C6  MGRIRVWVGTSIPNPVNAHQLVYLKGMAKTKKLILLLFVAAQPNFK...\n",
       "1     UniRef50_A0A5A9P0L4  MEEITQIKKRLSQTVRLEGKEDLLSKKDSITNLKTEEHVSVKKMVI...\n",
       "2  UniRef50_UPI00312B5ECC  MGRRWALSPSPSSTPKMSSTSHLQLVIFTLLALATMSSAQPTLTVS...\n",
       "3  UniRef50_UPI0016133188  MATPTAPARRRSSAAGSMVLRGLLSVAASLSFGKVLLGAAMLWMAA...\n",
       "4  UniRef50_UPI002E22A622  MAIPFPPAELAWALGWVAGSEIPVGNEDFAEVMRTGFQDLQKQIKE..."
      ]
     },
     "execution_count": 4,
     "metadata": {},
     "output_type": "execute_result"
    }
   ],
   "source": [
    "from Bio import SeqIO\n",
    "import pandas as pd\n",
    "from tqdm import tqdm\n",
    "# Define a function to parse the FASTA file and convert to DataFrame\n",
    "def fasta_to_dataframe(fasta_file):\n",
    "    # Create lists to hold sequence IDs and sequences\n",
    "    headers = []\n",
    "    sequences = []\n",
    "    \n",
    "    # Parse the FASTA file\n",
    "    for record in  tqdm(SeqIO.parse(fasta_file, \"fasta\"), total=45000000):\n",
    "        headers.append(record.id)  # Record header\n",
    "        sequences.append(str(record.seq))  # Sequence\n",
    "\n",
    "    # Create a DataFrame from the lists\n",
    "    df = pd.DataFrame({\"Header\": headers, \"Sequence\": sequences})\n",
    "    return df\n",
    "\n",
    "# Specify the FASTA file\n",
    "fasta_file = \"/workspace/uniref50.fasta\"\n",
    "\n",
    "# Convert FASTA to DataFrame\n",
    "df = fasta_to_dataframe(fasta_file)\n",
    "\n",
    "df.head()\n"
   ]
  },
  {
   "cell_type": "code",
   "execution_count": 5,
   "id": "06782e05-0e30-47a8-a353-6d97d2b3fe1b",
   "metadata": {},
   "outputs": [
    {
     "data": {
      "text/plain": [
       "66527032"
      ]
     },
     "execution_count": 5,
     "metadata": {},
     "output_type": "execute_result"
    }
   ],
   "source": [
    "len(df)"
   ]
  },
  {
   "cell_type": "code",
   "execution_count": 6,
   "id": "fbfc1f58-4247-4752-9211-e9b517728f79",
   "metadata": {},
   "outputs": [],
   "source": [
    "df['len'] = df.Sequence.str.len()"
   ]
  },
  {
   "cell_type": "code",
   "execution_count": 9,
   "id": "e03b9ef8-f27d-4133-ac7e-bc81dd7cbb45",
   "metadata": {},
   "outputs": [],
   "source": [
    "df = df[df.len <= 500]"
   ]
  },
  {
   "cell_type": "code",
   "execution_count": 11,
   "id": "76eea06d-45c7-4dd5-a0a2-a131eab2ca40",
   "metadata": {},
   "outputs": [
    {
     "data": {
      "text/plain": [
       "196.80901510489764"
      ]
     },
     "execution_count": 11,
     "metadata": {},
     "output_type": "execute_result"
    }
   ],
   "source": [
    "df.len.mean()"
   ]
  },
  {
   "cell_type": "code",
   "execution_count": 12,
   "id": "095bf07c-5a37-4be1-b328-94869f271fb3",
   "metadata": {},
   "outputs": [],
   "source": [
    "df = df.to_csv('/workspace/uniref50.csv', index=False)"
   ]
  }
 ],
 "metadata": {
  "kernelspec": {
   "display_name": "Python 3 (ipykernel)",
   "language": "python",
   "name": "python3"
  },
  "language_info": {
   "codemirror_mode": {
    "name": "ipython",
    "version": 3
   },
   "file_extension": ".py",
   "mimetype": "text/x-python",
   "name": "python",
   "nbconvert_exporter": "python",
   "pygments_lexer": "ipython3",
   "version": "3.10.12"
  }
 },
 "nbformat": 4,
 "nbformat_minor": 5
}
