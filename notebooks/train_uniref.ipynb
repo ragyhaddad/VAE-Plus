{
 "cells": [
  {
   "cell_type": "code",
   "execution_count": 2,
   "id": "67a8d247-14c2-4aba-b4eb-91073541e1c0",
   "metadata": {},
   "outputs": [],
   "source": [
    "%load_ext autoreload\n",
    "%autoreload 2"
   ]
  },
  {
   "cell_type": "code",
   "execution_count": 3,
   "id": "aeaa0023-57b8-4001-96cc-033d1449dda8",
   "metadata": {},
   "outputs": [],
   "source": [
    "import vae_cyc as vc\n",
    "import pandas as pd \n",
    "import lightning as pl\n",
    "import wandb\n",
    "from torch.utils.data import DataLoader \n",
    "from pytorch_lightning.loggers import WandbLogger\n",
    "from lightning.pytorch.callbacks import ModelCheckpoint\n",
    "from sklearn.model_selection import train_test_split"
   ]
  },
  {
   "cell_type": "code",
   "execution_count": 122,
   "id": "b2004457-accc-4430-b29f-d9e78d4362ed",
   "metadata": {},
   "outputs": [],
   "source": [
    "df = pd.read_csv('/workspace/uniref50_small.csv')"
   ]
  },
  {
   "cell_type": "code",
   "execution_count": 123,
   "id": "4a23abf6-5d57-49d1-afd2-f6dc4919b519",
   "metadata": {},
   "outputs": [],
   "source": [
    "df['len'] = df.Sequence.str.len()\n",
    "df = df[df.len <= 500]"
   ]
  },
  {
   "cell_type": "code",
   "execution_count": 124,
   "id": "cddac201-ba49-4fe8-850b-d5540f427f4c",
   "metadata": {},
   "outputs": [
    {
     "data": {
      "text/plain": [
       "999999"
      ]
     },
     "execution_count": 124,
     "metadata": {},
     "output_type": "execute_result"
    }
   ],
   "source": [
    "len(df)"
   ]
  },
  {
   "cell_type": "code",
   "execution_count": 125,
   "id": "5221ff7e-c8da-4c1c-96e0-3a0e0a0d758d",
   "metadata": {},
   "outputs": [],
   "source": [
    "vocab = vc.vocab.AminoAcidVocab()"
   ]
  },
  {
   "cell_type": "code",
   "execution_count": 116,
   "id": "fc386cdf-b669-4ba8-80d8-6a40a3729c2f",
   "metadata": {},
   "outputs": [],
   "source": [
    "# df.to_parquet('/workspace/uniref50.parquet')"
   ]
  },
  {
   "cell_type": "code",
   "execution_count": 117,
   "id": "195873f9-3891-484f-a9c0-eed066bcf584",
   "metadata": {},
   "outputs": [],
   "source": [
    "train_df, val_df = train_test_split(df, test_size=0.001)"
   ]
  },
  {
   "cell_type": "code",
   "execution_count": 118,
   "id": "0c1ded2c-032b-4fd4-a176-f4280870a58a",
   "metadata": {},
   "outputs": [],
   "source": [
    "train_dataset = vc.Dataset(train_df, vocab, 'Sequence',100)"
   ]
  },
  {
   "cell_type": "code",
   "execution_count": 119,
   "id": "1894e701-c6d3-4b97-aa86-cf21163692cf",
   "metadata": {},
   "outputs": [],
   "source": [
    "val_dataset = vc.Dataset(val_df, vocab, 'Sequence',100)"
   ]
  },
  {
   "cell_type": "code",
   "execution_count": 79,
   "id": "8b347114-22b3-43fb-a39f-2e2a23cc0be9",
   "metadata": {},
   "outputs": [],
   "source": [
    "checkpoint_callback = ModelCheckpoint(dirpath='/workspace/uniref50-vae-large/', verbose=True, save_top_k=3,monitor='val/loss', every_n_train_steps=5000)"
   ]
  },
  {
   "cell_type": "code",
   "execution_count": 80,
   "id": "68919280-7f98-45ba-aefc-a44097f08575",
   "metadata": {},
   "outputs": [],
   "source": [
    "train_dl = DataLoader(train_dataset,batch_size=32,shuffle=True, collate_fn=train_dataset.collate,num_workers=0)\n",
    "val_dl = DataLoader(val_dataset, batch_size=32, shuffle=False, collate_fn=val_dataset.collate, num_workers=0)"
   ]
  },
  {
   "cell_type": "code",
   "execution_count": 81,
   "id": "bf76e46d-f21e-43d5-a9ce-c039cd82f6e5",
   "metadata": {},
   "outputs": [
    {
     "data": {
      "text/html": [
       "Finishing last run (ID:pcr5trga) before initializing another..."
      ],
      "text/plain": [
       "<IPython.core.display.HTML object>"
      ]
     },
     "metadata": {},
     "output_type": "display_data"
    },
    {
     "data": {
      "text/html": [
       "\n",
       "    <style>\n",
       "        .wandb-row {\n",
       "            display: flex;\n",
       "            flex-direction: row;\n",
       "            flex-wrap: wrap;\n",
       "            justify-content: flex-start;\n",
       "            width: 100%;\n",
       "        }\n",
       "        .wandb-col {\n",
       "            display: flex;\n",
       "            flex-direction: column;\n",
       "            flex-basis: 100%;\n",
       "            flex: 1;\n",
       "            padding: 10px;\n",
       "        }\n",
       "    </style>\n",
       "<div class=\"wandb-row\"><div class=\"wandb-col\"><h3>Run history:</h3><br/><table class=\"wandb\"><tr><td>epoch</td><td>▁▁▁▁▂▂▂▃▃▃▃▃▃▃▄▄▄▄▄▄▅▅▅▅▅▅▅▆▆▆▆▆▇▇▇▇▇███</td></tr><tr><td>train/global_step</td><td>▁▁▁▁▂▂▂▂▂▃▃▃▃▃▃▄▄▄▄▄▅▅▅▅▅▆▆▆▆▇▇▇▇▇▇█████</td></tr><tr><td>train/kl_loss</td><td>▁▁▃▃▅▄▄▆▅▅▅▄▄▄▅▅▆▆▅▅▇▄▇▄▂▄▅▅▇▇▆█▇▇▆▆▇▅▆▆</td></tr><tr><td>train/kl_weight</td><td>▁▃▃▄▄▆▇█████████████████▁▁▂▃▃▄▆▆▇███████</td></tr><tr><td>train/loss</td><td>▅▂▅▂█▅▂▆▅▆▄▄▁▅▂▅▄▄▄▄▄▄▂▂▄▃▅▄▃▅█▄▂▆▃▄▅▆▃▃</td></tr><tr><td>train/lr</td><td>▁▁▁▁▁▁▁▁▁▁▁▁▁▁▁▁▁▁▁▁▁▁▁▁▁▁▁▁▁▁▁▁▁▁▁▁▁▁▁▁</td></tr><tr><td>train/r_loss</td><td>▄▄█▅▅▆▇▄▅▂▂▅▃▅▅█▇▂▃▆▅▃▅▅▁▁▅▃▃▅▄▇▅▇▆▄▆▅▆▂</td></tr><tr><td>trainer/global_step</td><td>▁▁▁▁▁▂▂▂▂▂▃▃▃▃▃▄▄▄▄▄▄▄▅▅▅▅▆▆▆▆▆▆▆▆▇▇▇███</td></tr><tr><td>val/kl_loss</td><td>▁▂▃▃▃▄▄▄▄▄▄▄▄▄▄▄▄▄▄▄▄▄▂▃▅▆▆▇▇█████▇▇▇███</td></tr><tr><td>val/loss</td><td>█▇▆▆▆▆▆▆▆▆▆▆▅▅▅▅▅▅▅▅▅▅▁▁▁▁▁▂▂▂▂▃▂▂▂▃▂▂▂▂</td></tr><tr><td>val/r_loss</td><td>█▇▆▆▆▆▆▆▅▅▅▅▅▅▅▅▅▅▅▄▅▄▂▁▁▁▁▁▂▁▁▂▁▂▁▂▂▁▁▁</td></tr></table><br/></div><div class=\"wandb-col\"><h3>Run summary:</h3><br/><table class=\"wandb\"><tr><td>epoch</td><td>40</td></tr><tr><td>train/global_step</td><td>8949</td></tr><tr><td>train/kl_loss</td><td>90.70609</td></tr><tr><td>train/kl_weight</td><td>1</td></tr><tr><td>train/loss</td><td>5887.25293</td></tr><tr><td>train/lr</td><td>0.001</td></tr><tr><td>train/r_loss</td><td>5796.54688</td></tr><tr><td>trainer/global_step</td><td>8949</td></tr><tr><td>val/kl_loss</td><td>61.13449</td></tr><tr><td>val/loss</td><td>1663.41858</td></tr><tr><td>val/r_loss</td><td>1602.28406</td></tr></table><br/></div></div>"
      ],
      "text/plain": [
       "<IPython.core.display.HTML object>"
      ]
     },
     "metadata": {},
     "output_type": "display_data"
    },
    {
     "data": {
      "text/html": [
       " View run <strong style=\"color:#cdcd00\">tough-vortex-17</strong> at: <a href='https://wandb.ai/rhaddad7/vae-cyc-notebooks_workspace_vae-cyc_notebooks/runs/pcr5trga' target=\"_blank\">https://wandb.ai/rhaddad7/vae-cyc-notebooks_workspace_vae-cyc_notebooks/runs/pcr5trga</a><br/> View project at: <a href='https://wandb.ai/rhaddad7/vae-cyc-notebooks_workspace_vae-cyc_notebooks' target=\"_blank\">https://wandb.ai/rhaddad7/vae-cyc-notebooks_workspace_vae-cyc_notebooks</a><br/>Synced 5 W&B file(s), 0 media file(s), 0 artifact file(s) and 0 other file(s)"
      ],
      "text/plain": [
       "<IPython.core.display.HTML object>"
      ]
     },
     "metadata": {},
     "output_type": "display_data"
    },
    {
     "data": {
      "text/html": [
       "Find logs at: <code>./wandb/run-20241112_154328-pcr5trga/logs</code>"
      ],
      "text/plain": [
       "<IPython.core.display.HTML object>"
      ]
     },
     "metadata": {},
     "output_type": "display_data"
    },
    {
     "data": {
      "text/html": [
       "Successfully finished last run (ID:pcr5trga). Initializing new run:<br/>"
      ],
      "text/plain": [
       "<IPython.core.display.HTML object>"
      ]
     },
     "metadata": {},
     "output_type": "display_data"
    },
    {
     "data": {
      "text/html": [
       "Tracking run with wandb version 0.18.6"
      ],
      "text/plain": [
       "<IPython.core.display.HTML object>"
      ]
     },
     "metadata": {},
     "output_type": "display_data"
    },
    {
     "data": {
      "text/html": [
       "Run data is saved locally in <code>/workspace/vae-cyc/notebooks/wandb/run-20241112_155340-80ko6pjs</code>"
      ],
      "text/plain": [
       "<IPython.core.display.HTML object>"
      ]
     },
     "metadata": {},
     "output_type": "display_data"
    },
    {
     "data": {
      "text/html": [
       "Syncing run <strong><a href='https://wandb.ai/rhaddad7/vae-cyc-notebooks_workspace_vae-cyc_notebooks/runs/80ko6pjs' target=\"_blank\">sage-music-18</a></strong> to <a href='https://wandb.ai/rhaddad7/vae-cyc-notebooks_workspace_vae-cyc_notebooks' target=\"_blank\">Weights & Biases</a> (<a href='https://wandb.me/developer-guide' target=\"_blank\">docs</a>)<br/>"
      ],
      "text/plain": [
       "<IPython.core.display.HTML object>"
      ]
     },
     "metadata": {},
     "output_type": "display_data"
    },
    {
     "data": {
      "text/html": [
       " View project at <a href='https://wandb.ai/rhaddad7/vae-cyc-notebooks_workspace_vae-cyc_notebooks' target=\"_blank\">https://wandb.ai/rhaddad7/vae-cyc-notebooks_workspace_vae-cyc_notebooks</a>"
      ],
      "text/plain": [
       "<IPython.core.display.HTML object>"
      ]
     },
     "metadata": {},
     "output_type": "display_data"
    },
    {
     "data": {
      "text/html": [
       " View run at <a href='https://wandb.ai/rhaddad7/vae-cyc-notebooks_workspace_vae-cyc_notebooks/runs/80ko6pjs' target=\"_blank\">https://wandb.ai/rhaddad7/vae-cyc-notebooks_workspace_vae-cyc_notebooks/runs/80ko6pjs</a>"
      ],
      "text/plain": [
       "<IPython.core.display.HTML object>"
      ]
     },
     "metadata": {},
     "output_type": "display_data"
    },
    {
     "data": {
      "text/html": [
       "<button onClick=\"this.nextSibling.style.display='block';this.style.display='none';\">Display W&B run</button><iframe src='https://wandb.ai/rhaddad7/vae-cyc-notebooks_workspace_vae-cyc_notebooks/runs/80ko6pjs?jupyter=true' style='border:none;width:100%;height:420px;display:none;'></iframe>"
      ],
      "text/plain": [
       "<wandb.sdk.wandb_run.Run at 0x77ab08134460>"
      ]
     },
     "execution_count": 81,
     "metadata": {},
     "output_type": "execute_result"
    }
   ],
   "source": [
    "wandb_logger = WandbLogger(project=\"run_pod\", log_model=True)\n",
    "wandb.init()"
   ]
  },
  {
   "cell_type": "code",
   "execution_count": 82,
   "id": "370709f1-fb30-41ff-ab71-5431f9bb78af",
   "metadata": {},
   "outputs": [
    {
     "name": "stderr",
     "output_type": "stream",
     "text": [
      "Using 16bit Automatic Mixed Precision (AMP)\n",
      "GPU available: True (cuda), used: True\n",
      "TPU available: False, using: 0 TPU cores\n",
      "HPU available: False, using: 0 HPUs\n"
     ]
    }
   ],
   "source": [
    "trainer = pl.Trainer(devices=1, logger=wandb_logger, precision='16-mixed', callbacks=[checkpoint_callback])"
   ]
  },
  {
   "cell_type": "code",
   "execution_count": 84,
   "id": "702b29f9-daad-4aca-9b50-a8d5a272c1a3",
   "metadata": {},
   "outputs": [],
   "source": [
    "model = vc.VAE(128,32,2, enc_num_layers=2, vocab=vocab, c_step=100000, n_cycles_anneal=50, lr=0.0001)"
   ]
  },
  {
   "cell_type": "code",
   "execution_count": 85,
   "id": "eab0e3f8-12fc-4c86-95c5-7cb313aa76ec",
   "metadata": {},
   "outputs": [
    {
     "name": "stderr",
     "output_type": "stream",
     "text": [
      "/usr/local/lib/python3.10/dist-packages/lightning/pytorch/loops/utilities.py:72: `max_epochs` was not set. Setting it to 1000 epochs. To train without an epoch limit, set `max_epochs=-1`.\n",
      "/usr/local/lib/python3.10/dist-packages/pytorch_lightning/loggers/wandb.py:396: There is a wandb run already in progress and newly created instances of `WandbLogger` will reuse this run. If this is not desired, call `wandb.finish()` before instantiating `WandbLogger`.\n",
      "/usr/local/lib/python3.10/dist-packages/lightning/pytorch/callbacks/model_checkpoint.py:654: Checkpoint directory /workspace/uniref50-vae-large exists and is not empty.\n",
      "LOCAL_RANK: 0 - CUDA_VISIBLE_DEVICES: [0]\n",
      "\n",
      "  | Name          | Type             | Params | Mode \n",
      "-----------------------------------------------------------\n",
      "0 | encoder       | GRU              | 31.5 K | train\n",
      "1 | decoder       | GRU              | 25.0 K | train\n",
      "2 | mu_fc         | Linear           | 16.5 K | train\n",
      "3 | logvar_fc     | Linear           | 16.5 K | train\n",
      "4 | embedding     | Embedding        | 928    | train\n",
      "5 | latent2hidden | Linear           | 8.3 K  | train\n",
      "6 | outputs2vocab | Linear           | 957    | train\n",
      "7 | criterion     | CrossEntropyLoss | 0      | train\n",
      "-----------------------------------------------------------\n",
      "99.6 K    Trainable params\n",
      "0         Non-trainable params\n",
      "99.6 K    Total params\n",
      "0.398     Total estimated model params size (MB)\n",
      "8         Modules in train mode\n",
      "0         Modules in eval mode\n"
     ]
    },
    {
     "data": {
      "application/vnd.jupyter.widget-view+json": {
       "model_id": "",
       "version_major": 2,
       "version_minor": 0
      },
      "text/plain": [
       "Sanity Checking: |          | 0/? [00:00<?, ?it/s]"
      ]
     },
     "metadata": {},
     "output_type": "display_data"
    },
    {
     "name": "stderr",
     "output_type": "stream",
     "text": [
      "/usr/local/lib/python3.10/dist-packages/lightning/pytorch/trainer/connectors/data_connector.py:424: The 'val_dataloader' does not have many workers which may be a bottleneck. Consider increasing the value of the `num_workers` argument` to `num_workers=95` in the `DataLoader` to improve performance.\n",
      "/usr/local/lib/python3.10/dist-packages/lightning/pytorch/trainer/connectors/data_connector.py:424: The 'train_dataloader' does not have many workers which may be a bottleneck. Consider increasing the value of the `num_workers` argument` to `num_workers=95` in the `DataLoader` to improve performance.\n"
     ]
    },
    {
     "data": {
      "application/vnd.jupyter.widget-view+json": {
       "model_id": "7c1108f351414a6c848ce9d62256652b",
       "version_major": 2,
       "version_minor": 0
      },
      "text/plain": [
       "Training: |          | 0/? [00:00<?, ?it/s]"
      ]
     },
     "metadata": {},
     "output_type": "display_data"
    },
    {
     "data": {
      "application/vnd.jupyter.widget-view+json": {
       "model_id": "",
       "version_major": 2,
       "version_minor": 0
      },
      "text/plain": [
       "Validation: |          | 0/? [00:00<?, ?it/s]"
      ]
     },
     "metadata": {},
     "output_type": "display_data"
    },
    {
     "data": {
      "application/vnd.jupyter.widget-view+json": {
       "model_id": "",
       "version_major": 2,
       "version_minor": 0
      },
      "text/plain": [
       "Validation: |          | 0/? [00:00<?, ?it/s]"
      ]
     },
     "metadata": {},
     "output_type": "display_data"
    },
    {
     "data": {
      "application/vnd.jupyter.widget-view+json": {
       "model_id": "",
       "version_major": 2,
       "version_minor": 0
      },
      "text/plain": [
       "Validation: |          | 0/? [00:00<?, ?it/s]"
      ]
     },
     "metadata": {},
     "output_type": "display_data"
    },
    {
     "data": {
      "application/vnd.jupyter.widget-view+json": {
       "model_id": "",
       "version_major": 2,
       "version_minor": 0
      },
      "text/plain": [
       "Validation: |          | 0/? [00:00<?, ?it/s]"
      ]
     },
     "metadata": {},
     "output_type": "display_data"
    },
    {
     "data": {
      "application/vnd.jupyter.widget-view+json": {
       "model_id": "",
       "version_major": 2,
       "version_minor": 0
      },
      "text/plain": [
       "Validation: |          | 0/? [00:00<?, ?it/s]"
      ]
     },
     "metadata": {},
     "output_type": "display_data"
    },
    {
     "data": {
      "application/vnd.jupyter.widget-view+json": {
       "model_id": "",
       "version_major": 2,
       "version_minor": 0
      },
      "text/plain": [
       "Validation: |          | 0/? [00:00<?, ?it/s]"
      ]
     },
     "metadata": {},
     "output_type": "display_data"
    },
    {
     "data": {
      "application/vnd.jupyter.widget-view+json": {
       "model_id": "",
       "version_major": 2,
       "version_minor": 0
      },
      "text/plain": [
       "Validation: |          | 0/? [00:00<?, ?it/s]"
      ]
     },
     "metadata": {},
     "output_type": "display_data"
    },
    {
     "data": {
      "application/vnd.jupyter.widget-view+json": {
       "model_id": "",
       "version_major": 2,
       "version_minor": 0
      },
      "text/plain": [
       "Validation: |          | 0/? [00:00<?, ?it/s]"
      ]
     },
     "metadata": {},
     "output_type": "display_data"
    },
    {
     "data": {
      "application/vnd.jupyter.widget-view+json": {
       "model_id": "",
       "version_major": 2,
       "version_minor": 0
      },
      "text/plain": [
       "Validation: |          | 0/? [00:00<?, ?it/s]"
      ]
     },
     "metadata": {},
     "output_type": "display_data"
    },
    {
     "data": {
      "application/vnd.jupyter.widget-view+json": {
       "model_id": "",
       "version_major": 2,
       "version_minor": 0
      },
      "text/plain": [
       "Validation: |          | 0/? [00:00<?, ?it/s]"
      ]
     },
     "metadata": {},
     "output_type": "display_data"
    },
    {
     "data": {
      "application/vnd.jupyter.widget-view+json": {
       "model_id": "",
       "version_major": 2,
       "version_minor": 0
      },
      "text/plain": [
       "Validation: |          | 0/? [00:00<?, ?it/s]"
      ]
     },
     "metadata": {},
     "output_type": "display_data"
    },
    {
     "data": {
      "application/vnd.jupyter.widget-view+json": {
       "model_id": "",
       "version_major": 2,
       "version_minor": 0
      },
      "text/plain": [
       "Validation: |          | 0/? [00:00<?, ?it/s]"
      ]
     },
     "metadata": {},
     "output_type": "display_data"
    },
    {
     "data": {
      "application/vnd.jupyter.widget-view+json": {
       "model_id": "",
       "version_major": 2,
       "version_minor": 0
      },
      "text/plain": [
       "Validation: |          | 0/? [00:00<?, ?it/s]"
      ]
     },
     "metadata": {},
     "output_type": "display_data"
    },
    {
     "data": {
      "application/vnd.jupyter.widget-view+json": {
       "model_id": "",
       "version_major": 2,
       "version_minor": 0
      },
      "text/plain": [
       "Validation: |          | 0/? [00:00<?, ?it/s]"
      ]
     },
     "metadata": {},
     "output_type": "display_data"
    },
    {
     "data": {
      "application/vnd.jupyter.widget-view+json": {
       "model_id": "",
       "version_major": 2,
       "version_minor": 0
      },
      "text/plain": [
       "Validation: |          | 0/? [00:00<?, ?it/s]"
      ]
     },
     "metadata": {},
     "output_type": "display_data"
    },
    {
     "data": {
      "application/vnd.jupyter.widget-view+json": {
       "model_id": "",
       "version_major": 2,
       "version_minor": 0
      },
      "text/plain": [
       "Validation: |          | 0/? [00:00<?, ?it/s]"
      ]
     },
     "metadata": {},
     "output_type": "display_data"
    },
    {
     "data": {
      "application/vnd.jupyter.widget-view+json": {
       "model_id": "",
       "version_major": 2,
       "version_minor": 0
      },
      "text/plain": [
       "Validation: |          | 0/? [00:00<?, ?it/s]"
      ]
     },
     "metadata": {},
     "output_type": "display_data"
    },
    {
     "data": {
      "application/vnd.jupyter.widget-view+json": {
       "model_id": "",
       "version_major": 2,
       "version_minor": 0
      },
      "text/plain": [
       "Validation: |          | 0/? [00:00<?, ?it/s]"
      ]
     },
     "metadata": {},
     "output_type": "display_data"
    },
    {
     "data": {
      "application/vnd.jupyter.widget-view+json": {
       "model_id": "",
       "version_major": 2,
       "version_minor": 0
      },
      "text/plain": [
       "Validation: |          | 0/? [00:00<?, ?it/s]"
      ]
     },
     "metadata": {},
     "output_type": "display_data"
    },
    {
     "data": {
      "application/vnd.jupyter.widget-view+json": {
       "model_id": "",
       "version_major": 2,
       "version_minor": 0
      },
      "text/plain": [
       "Validation: |          | 0/? [00:00<?, ?it/s]"
      ]
     },
     "metadata": {},
     "output_type": "display_data"
    },
    {
     "data": {
      "application/vnd.jupyter.widget-view+json": {
       "model_id": "",
       "version_major": 2,
       "version_minor": 0
      },
      "text/plain": [
       "Validation: |          | 0/? [00:00<?, ?it/s]"
      ]
     },
     "metadata": {},
     "output_type": "display_data"
    },
    {
     "data": {
      "application/vnd.jupyter.widget-view+json": {
       "model_id": "",
       "version_major": 2,
       "version_minor": 0
      },
      "text/plain": [
       "Validation: |          | 0/? [00:00<?, ?it/s]"
      ]
     },
     "metadata": {},
     "output_type": "display_data"
    },
    {
     "name": "stderr",
     "output_type": "stream",
     "text": [
      "Epoch 22, global step 5000: 'val/loss' reached 1886.63440 (best 1886.63440), saving model to '/workspace/uniref50-vae-large/epoch=22-step=5000.ckpt' as top 3\n"
     ]
    },
    {
     "data": {
      "application/vnd.jupyter.widget-view+json": {
       "model_id": "",
       "version_major": 2,
       "version_minor": 0
      },
      "text/plain": [
       "Validation: |          | 0/? [00:00<?, ?it/s]"
      ]
     },
     "metadata": {},
     "output_type": "display_data"
    },
    {
     "data": {
      "application/vnd.jupyter.widget-view+json": {
       "model_id": "",
       "version_major": 2,
       "version_minor": 0
      },
      "text/plain": [
       "Validation: |          | 0/? [00:00<?, ?it/s]"
      ]
     },
     "metadata": {},
     "output_type": "display_data"
    },
    {
     "data": {
      "application/vnd.jupyter.widget-view+json": {
       "model_id": "",
       "version_major": 2,
       "version_minor": 0
      },
      "text/plain": [
       "Validation: |          | 0/? [00:00<?, ?it/s]"
      ]
     },
     "metadata": {},
     "output_type": "display_data"
    },
    {
     "data": {
      "application/vnd.jupyter.widget-view+json": {
       "model_id": "",
       "version_major": 2,
       "version_minor": 0
      },
      "text/plain": [
       "Validation: |          | 0/? [00:00<?, ?it/s]"
      ]
     },
     "metadata": {},
     "output_type": "display_data"
    },
    {
     "data": {
      "application/vnd.jupyter.widget-view+json": {
       "model_id": "",
       "version_major": 2,
       "version_minor": 0
      },
      "text/plain": [
       "Validation: |          | 0/? [00:00<?, ?it/s]"
      ]
     },
     "metadata": {},
     "output_type": "display_data"
    },
    {
     "data": {
      "application/vnd.jupyter.widget-view+json": {
       "model_id": "",
       "version_major": 2,
       "version_minor": 0
      },
      "text/plain": [
       "Validation: |          | 0/? [00:00<?, ?it/s]"
      ]
     },
     "metadata": {},
     "output_type": "display_data"
    },
    {
     "data": {
      "application/vnd.jupyter.widget-view+json": {
       "model_id": "",
       "version_major": 2,
       "version_minor": 0
      },
      "text/plain": [
       "Validation: |          | 0/? [00:00<?, ?it/s]"
      ]
     },
     "metadata": {},
     "output_type": "display_data"
    },
    {
     "data": {
      "application/vnd.jupyter.widget-view+json": {
       "model_id": "",
       "version_major": 2,
       "version_minor": 0
      },
      "text/plain": [
       "Validation: |          | 0/? [00:00<?, ?it/s]"
      ]
     },
     "metadata": {},
     "output_type": "display_data"
    },
    {
     "name": "stderr",
     "output_type": "stream",
     "text": [
      "\n",
      "Detected KeyboardInterrupt, attempting graceful shutdown ...\n",
      "\n",
      "KeyboardInterrupt\n",
      "\n"
     ]
    }
   ],
   "source": [
    "trainer.fit(model, train_dl, val_dl)"
   ]
  },
  {
   "cell_type": "code",
   "execution_count": 109,
   "id": "c640cded-58bb-45cc-ba9e-8bbc0cab8781",
   "metadata": {
    "scrolled": true
   },
   "outputs": [
    {
     "name": "stdout",
     "output_type": "stream",
     "text": [
      "batch:  0\n",
      "Total generated:  10\n"
     ]
    }
   ],
   "source": [
    "o = model.multinomial_generation_batched(10, max_len=250, batch_size=10)"
   ]
  }
 ],
 "metadata": {
  "kernelspec": {
   "display_name": "Python 3 (ipykernel)",
   "language": "python",
   "name": "python3"
  },
  "language_info": {
   "codemirror_mode": {
    "name": "ipython",
    "version": 3
   },
   "file_extension": ".py",
   "mimetype": "text/x-python",
   "name": "python",
   "nbconvert_exporter": "python",
   "pygments_lexer": "ipython3",
   "version": "3.10.12"
  }
 },
 "nbformat": 4,
 "nbformat_minor": 5
}
