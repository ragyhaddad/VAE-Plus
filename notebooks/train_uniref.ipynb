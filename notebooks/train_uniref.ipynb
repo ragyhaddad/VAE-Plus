{
 "cells": [
  {
   "cell_type": "code",
   "execution_count": 1,
   "id": "67a8d247-14c2-4aba-b4eb-91073541e1c0",
   "metadata": {},
   "outputs": [],
   "source": [
    "%load_ext autoreload\n",
    "%autoreload 2"
   ]
  },
  {
   "cell_type": "code",
   "execution_count": 2,
   "id": "aeaa0023-57b8-4001-96cc-033d1449dda8",
   "metadata": {},
   "outputs": [],
   "source": [
    "import vae_cyc as vc\n",
    "import pandas as pd \n",
    "import lightning as pl\n",
    "import wandb\n",
    "from torch.utils.data import DataLoader \n",
    "from pytorch_lightning.loggers import WandbLogger\n",
    "from lightning.pytorch.callbacks import ModelCheckpoint\n",
    "from sklearn.model_selection import train_test_split"
   ]
  },
  {
   "cell_type": "code",
   "execution_count": 3,
   "id": "b2004457-accc-4430-b29f-d9e78d4362ed",
   "metadata": {},
   "outputs": [],
   "source": [
    "df = pd.read_csv('/workspace/uniref50_small.csv')"
   ]
  },
  {
   "cell_type": "code",
   "execution_count": 4,
   "id": "5221ff7e-c8da-4c1c-96e0-3a0e0a0d758d",
   "metadata": {},
   "outputs": [],
   "source": [
    "vocab = vc.vocab.AminoAcidVocab()"
   ]
  },
  {
   "cell_type": "code",
   "execution_count": 5,
   "id": "195873f9-3891-484f-a9c0-eed066bcf584",
   "metadata": {},
   "outputs": [],
   "source": [
    "train_df, val_df = train_test_split(df, test_size=0.05)"
   ]
  },
  {
   "cell_type": "code",
   "execution_count": 6,
   "id": "0c1ded2c-032b-4fd4-a176-f4280870a58a",
   "metadata": {},
   "outputs": [
    {
     "name": "stdout",
     "output_type": "stream",
     "text": [
      "Tokenizing...\n"
     ]
    },
    {
     "name": "stderr",
     "output_type": "stream",
     "text": [
      "100%|██████████| 949999/949999 [00:55<00:00, 17177.23it/s]"
     ]
    },
    {
     "name": "stdout",
     "output_type": "stream",
     "text": [
      "Tokenization complete\n"
     ]
    },
    {
     "name": "stderr",
     "output_type": "stream",
     "text": [
      "\n"
     ]
    }
   ],
   "source": [
    "train_dataset = vc.Dataset(train_df, vocab, 'Sequence',100)"
   ]
  },
  {
   "cell_type": "code",
   "execution_count": 7,
   "id": "1894e701-c6d3-4b97-aa86-cf21163692cf",
   "metadata": {},
   "outputs": [
    {
     "name": "stdout",
     "output_type": "stream",
     "text": [
      "Tokenizing...\n"
     ]
    },
    {
     "name": "stderr",
     "output_type": "stream",
     "text": [
      "100%|██████████| 50000/50000 [00:03<00:00, 14730.63it/s]"
     ]
    },
    {
     "name": "stdout",
     "output_type": "stream",
     "text": [
      "Tokenization complete\n"
     ]
    },
    {
     "name": "stderr",
     "output_type": "stream",
     "text": [
      "\n"
     ]
    }
   ],
   "source": [
    "val_dataset = vc.Dataset(val_df, vocab, 'Sequence',100)"
   ]
  },
  {
   "cell_type": "code",
   "execution_count": 16,
   "id": "4134ccc3-f2d8-4c65-b700-08561e8f0f98",
   "metadata": {},
   "outputs": [],
   "source": [
    "train_dl = DataLoader(train_dataset,batch_size=128,shuffle=True, collate_fn=train_dataset.collate,num_workers=95)\n",
    "val_dl = DataLoader(val_dataset, batch_size=128, shuffle=False, collate_fn=val_dataset.collate, num_workers=95)"
   ]
  },
  {
   "cell_type": "code",
   "execution_count": 17,
   "id": "78ff02cc-4390-4c1d-a43c-8d4dac815810",
   "metadata": {},
   "outputs": [
    {
     "data": {
      "text/html": [
       "Finishing last run (ID:ahwbppp7) before initializing another..."
      ],
      "text/plain": [
       "<IPython.core.display.HTML object>"
      ]
     },
     "metadata": {},
     "output_type": "display_data"
    },
    {
     "data": {
      "application/vnd.jupyter.widget-view+json": {
       "model_id": "",
       "version_major": 2,
       "version_minor": 0
      },
      "text/plain": [
       "VBox(children=(Label(value='0.004 MB of 0.004 MB uploaded\\r'), FloatProgress(value=1.0, max=1.0)))"
      ]
     },
     "metadata": {},
     "output_type": "display_data"
    },
    {
     "data": {
      "text/html": [
       "\n",
       "    <style>\n",
       "        .wandb-row {\n",
       "            display: flex;\n",
       "            flex-direction: row;\n",
       "            flex-wrap: wrap;\n",
       "            justify-content: flex-start;\n",
       "            width: 100%;\n",
       "        }\n",
       "        .wandb-col {\n",
       "            display: flex;\n",
       "            flex-direction: column;\n",
       "            flex-basis: 100%;\n",
       "            flex: 1;\n",
       "            padding: 10px;\n",
       "        }\n",
       "    </style>\n",
       "<div class=\"wandb-row\"><div class=\"wandb-col\"><h3>Run history:</h3><br/><table class=\"wandb\"><tr><td>epoch</td><td>▁▁▁▁▁▁▁▁▁▁▁▁▁▁▁▁▁▁▁▁▁▁▁▁████████████████</td></tr><tr><td>train/global_step</td><td>▁▁▁▁▁▂▂▂▂▃▃▃▃▃▄▄▄▄▄▅▅▅▅▅▅▆▆▆▆▆▆▆▆▆▆▇████</td></tr><tr><td>train/kl_loss</td><td>▁▁▁▁▁▁▁▁▁▁▁▁▁▁▁▁▁▁▁▁▁▁▁▁▁▁▁▁▅█▆▆▆▆▂▄▆▆▆▅</td></tr><tr><td>train/kl_weight</td><td>██▁█▆▁█████▁██▁███▁▃██▁████▁███▆███▃████</td></tr><tr><td>train/loss</td><td>█▆▁▃▃▆▇▇▇▅▃▅▆▆▅▄▅▅▇▄▁▄▄▇▆               </td></tr><tr><td>train/lr</td><td>▁▁▁▁▁▁▁▁▁▁▁▁▁▁▁▁▁▁▁▁▁▁▁▁▁▁▁▁▁▁▁▁▁▁▁▁▁▁▁▁</td></tr><tr><td>train/r_loss</td><td>█▅▆▂▃▄▄▂▅▄▅▃▃▁▁▄▃▂▂▄▃▄▂▁▇               </td></tr><tr><td>trainer/global_step</td><td>▁▁▁▁▁▂▂▂▂▂▂▃▃▃▃▃▃▄▄▄▄▄▅▅▅▅▅▅▅▅▆▆▆▆▆▇▇▇██</td></tr><tr><td>val/kl_loss</td><td>▁</td></tr><tr><td>val/loss</td><td>▁</td></tr><tr><td>val/r_loss</td><td>▁</td></tr></table><br/></div><div class=\"wandb-col\"><h3>Run summary:</h3><br/><table class=\"wandb\"><tr><td>epoch</td><td>1</td></tr><tr><td>train/global_step</td><td>13849</td></tr><tr><td>train/kl_loss</td><td>1419420762112.0</td></tr><tr><td>train/kl_weight</td><td>1</td></tr><tr><td>train/loss</td><td>nan</td></tr><tr><td>train/lr</td><td>0.001</td></tr><tr><td>train/r_loss</td><td>nan</td></tr><tr><td>trainer/global_step</td><td>13849</td></tr><tr><td>val/kl_loss</td><td>378.33539</td></tr><tr><td>val/loss</td><td>165513.96875</td></tr><tr><td>val/r_loss</td><td>165135.64062</td></tr></table><br/></div></div>"
      ],
      "text/plain": [
       "<IPython.core.display.HTML object>"
      ]
     },
     "metadata": {},
     "output_type": "display_data"
    },
    {
     "data": {
      "text/html": [
       " View run <strong style=\"color:#cdcd00\">jolly-puddle-4</strong> at: <a href='https://wandb.ai/rhaddad7/vae-cyc-notebooks_workspace_vae-cyc_notebooks/runs/ahwbppp7' target=\"_blank\">https://wandb.ai/rhaddad7/vae-cyc-notebooks_workspace_vae-cyc_notebooks/runs/ahwbppp7</a><br/> View project at: <a href='https://wandb.ai/rhaddad7/vae-cyc-notebooks_workspace_vae-cyc_notebooks' target=\"_blank\">https://wandb.ai/rhaddad7/vae-cyc-notebooks_workspace_vae-cyc_notebooks</a><br/>Synced 4 W&B file(s), 0 media file(s), 3 artifact file(s) and 0 other file(s)"
      ],
      "text/plain": [
       "<IPython.core.display.HTML object>"
      ]
     },
     "metadata": {},
     "output_type": "display_data"
    },
    {
     "data": {
      "text/html": [
       "Find logs at: <code>./wandb/run-20241111_164727-ahwbppp7/logs</code>"
      ],
      "text/plain": [
       "<IPython.core.display.HTML object>"
      ]
     },
     "metadata": {},
     "output_type": "display_data"
    },
    {
     "data": {
      "text/html": [
       "Successfully finished last run (ID:ahwbppp7). Initializing new run:<br/>"
      ],
      "text/plain": [
       "<IPython.core.display.HTML object>"
      ]
     },
     "metadata": {},
     "output_type": "display_data"
    },
    {
     "data": {
      "text/html": [
       "Tracking run with wandb version 0.18.6"
      ],
      "text/plain": [
       "<IPython.core.display.HTML object>"
      ]
     },
     "metadata": {},
     "output_type": "display_data"
    },
    {
     "data": {
      "text/html": [
       "Run data is saved locally in <code>/workspace/vae-cyc/notebooks/wandb/run-20241111_175939-tk23slt2</code>"
      ],
      "text/plain": [
       "<IPython.core.display.HTML object>"
      ]
     },
     "metadata": {},
     "output_type": "display_data"
    },
    {
     "data": {
      "text/html": [
       "Syncing run <strong><a href='https://wandb.ai/rhaddad7/vae-cyc-notebooks_workspace_vae-cyc_notebooks/runs/tk23slt2' target=\"_blank\">super-aardvark-5</a></strong> to <a href='https://wandb.ai/rhaddad7/vae-cyc-notebooks_workspace_vae-cyc_notebooks' target=\"_blank\">Weights & Biases</a> (<a href='https://wandb.me/developer-guide' target=\"_blank\">docs</a>)<br/>"
      ],
      "text/plain": [
       "<IPython.core.display.HTML object>"
      ]
     },
     "metadata": {},
     "output_type": "display_data"
    },
    {
     "data": {
      "text/html": [
       " View project at <a href='https://wandb.ai/rhaddad7/vae-cyc-notebooks_workspace_vae-cyc_notebooks' target=\"_blank\">https://wandb.ai/rhaddad7/vae-cyc-notebooks_workspace_vae-cyc_notebooks</a>"
      ],
      "text/plain": [
       "<IPython.core.display.HTML object>"
      ]
     },
     "metadata": {},
     "output_type": "display_data"
    },
    {
     "data": {
      "text/html": [
       " View run at <a href='https://wandb.ai/rhaddad7/vae-cyc-notebooks_workspace_vae-cyc_notebooks/runs/tk23slt2' target=\"_blank\">https://wandb.ai/rhaddad7/vae-cyc-notebooks_workspace_vae-cyc_notebooks/runs/tk23slt2</a>"
      ],
      "text/plain": [
       "<IPython.core.display.HTML object>"
      ]
     },
     "metadata": {},
     "output_type": "display_data"
    },
    {
     "data": {
      "text/html": [
       "<button onClick=\"this.nextSibling.style.display='block';this.style.display='none';\">Display W&B run</button><iframe src='https://wandb.ai/rhaddad7/vae-cyc-notebooks_workspace_vae-cyc_notebooks/runs/tk23slt2?jupyter=true' style='border:none;width:100%;height:420px;display:none;'></iframe>"
      ],
      "text/plain": [
       "<wandb.sdk.wandb_run.Run at 0x7f3f4ec6e800>"
      ]
     },
     "execution_count": 17,
     "metadata": {},
     "output_type": "execute_result"
    }
   ],
   "source": [
    "wandb_logger = WandbLogger(project=\"run_pod\", log_model=True)\n",
    "wandb.init()"
   ]
  },
  {
   "cell_type": "code",
   "execution_count": 18,
   "id": "8b347114-22b3-43fb-a39f-2e2a23cc0be9",
   "metadata": {},
   "outputs": [],
   "source": [
    "checkpoint_callback = ModelCheckpoint(dirpath='/workspace/uniref50-vae/', verbose=True, save_top_k=3,monitor='val/loss')"
   ]
  },
  {
   "cell_type": "code",
   "execution_count": 19,
   "id": "370709f1-fb30-41ff-ab71-5431f9bb78af",
   "metadata": {},
   "outputs": [
    {
     "name": "stderr",
     "output_type": "stream",
     "text": [
      "Using 16bit Automatic Mixed Precision (AMP)\n",
      "GPU available: True (cuda), used: True\n",
      "TPU available: False, using: 0 TPU cores\n",
      "HPU available: False, using: 0 HPUs\n"
     ]
    }
   ],
   "source": [
    "trainer = pl.Trainer(devices=1, logger=wandb_logger, precision='16-mixed', callbacks=[checkpoint_callback])"
   ]
  },
  {
   "cell_type": "code",
   "execution_count": 20,
   "id": "702b29f9-daad-4aca-9b50-a8d5a272c1a3",
   "metadata": {},
   "outputs": [],
   "source": [
    "model = vc.VAE(256,512,4, enc_num_layers=6, vocab=vocab, c_step=50000, n_cycles_anneal=100, lr=0.001)"
   ]
  },
  {
   "cell_type": "code",
   "execution_count": null,
   "id": "eab0e3f8-12fc-4c86-95c5-7cb313aa76ec",
   "metadata": {},
   "outputs": [
    {
     "name": "stderr",
     "output_type": "stream",
     "text": [
      "/usr/local/lib/python3.10/dist-packages/lightning/pytorch/loops/utilities.py:72: `max_epochs` was not set. Setting it to 1000 epochs. To train without an epoch limit, set `max_epochs=-1`.\n",
      "/usr/local/lib/python3.10/dist-packages/pytorch_lightning/loggers/wandb.py:396: There is a wandb run already in progress and newly created instances of `WandbLogger` will reuse this run. If this is not desired, call `wandb.finish()` before instantiating `WandbLogger`.\n",
      "LOCAL_RANK: 0 - CUDA_VISIBLE_DEVICES: [0]\n",
      "\n",
      "  | Name          | Type             | Params | Mode \n",
      "-----------------------------------------------------------\n",
      "0 | encoder       | GRU              | 25.3 M | train\n",
      "1 | decoder       | GRU              | 6.0 M  | train\n",
      "2 | mu_fc         | Linear           | 1.6 M  | train\n",
      "3 | logvar_fc     | Linear           | 1.6 M  | train\n",
      "4 | embedding     | Embedding        | 928    | train\n",
      "5 | latent2hidden | Linear           | 526 K  | train\n",
      "6 | outputs2vocab | Linear           | 14.9 K | train\n",
      "7 | criterion     | CrossEntropyLoss | 0      | train\n",
      "-----------------------------------------------------------\n",
      "34.9 M    Trainable params\n",
      "0         Non-trainable params\n",
      "34.9 M    Total params\n",
      "139.796   Total estimated model params size (MB)\n",
      "8         Modules in train mode\n",
      "0         Modules in eval mode\n"
     ]
    },
    {
     "data": {
      "application/vnd.jupyter.widget-view+json": {
       "model_id": "",
       "version_major": 2,
       "version_minor": 0
      },
      "text/plain": [
       "Sanity Checking: |          | 0/? [00:00<?, ?it/s]"
      ]
     },
     "metadata": {},
     "output_type": "display_data"
    },
    {
     "data": {
      "application/vnd.jupyter.widget-view+json": {
       "model_id": "5e45134fd28040dd88d9d4d8eb897ec4",
       "version_major": 2,
       "version_minor": 0
      },
      "text/plain": [
       "Training: |          | 0/? [00:02<?, ?it/s]"
      ]
     },
     "metadata": {},
     "output_type": "display_data"
    },
    {
     "data": {
      "application/vnd.jupyter.widget-view+json": {
       "model_id": "",
       "version_major": 2,
       "version_minor": 0
      },
      "text/plain": [
       "Validation: |          | 0/? [00:00<?, ?it/s]"
      ]
     },
     "metadata": {},
     "output_type": "display_data"
    }
   ],
   "source": [
    "trainer.fit(model, train_dl, val_dl)"
   ]
  },
  {
   "cell_type": "code",
   "execution_count": null,
   "id": "8dd7ad5e-a6a5-46f5-85a9-a20291ecc856",
   "metadata": {},
   "outputs": [],
   "source": []
  }
 ],
 "metadata": {
  "kernelspec": {
   "display_name": "Python 3 (ipykernel)",
   "language": "python",
   "name": "python3"
  },
  "language_info": {
   "codemirror_mode": {
    "name": "ipython",
    "version": 3
   },
   "file_extension": ".py",
   "mimetype": "text/x-python",
   "name": "python",
   "nbconvert_exporter": "python",
   "pygments_lexer": "ipython3",
   "version": "3.10.12"
  }
 },
 "nbformat": 4,
 "nbformat_minor": 5
}
