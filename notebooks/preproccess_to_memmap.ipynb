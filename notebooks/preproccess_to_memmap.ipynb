{
 "cells": [
  {
   "cell_type": "markdown",
   "id": "5e887fe4-60a9-447b-aed1-a0f701d16f1c",
   "metadata": {},
   "source": [
    "## Create a Memmap dataset"
   ]
  },
  {
   "cell_type": "code",
   "execution_count": 1,
   "id": "0b5617da-4cfc-4cb5-88dd-3c6ded9558b2",
   "metadata": {
    "execution": {
     "iopub.execute_input": "2024-11-22T15:54:41.272717Z",
     "iopub.status.busy": "2024-11-22T15:54:41.272441Z",
     "iopub.status.idle": "2024-11-22T15:54:41.295515Z",
     "shell.execute_reply": "2024-11-22T15:54:41.294943Z",
     "shell.execute_reply.started": "2024-11-22T15:54:41.272693Z"
    }
   },
   "outputs": [],
   "source": [
    "%load_ext autoreload\n",
    "%autoreload 2"
   ]
  },
  {
   "cell_type": "code",
   "execution_count": 22,
   "id": "9da3ef44-e738-4f45-950f-db7130c80f76",
   "metadata": {
    "execution": {
     "iopub.execute_input": "2024-11-22T16:35:23.459449Z",
     "iopub.status.busy": "2024-11-22T16:35:23.458998Z",
     "iopub.status.idle": "2024-11-22T16:35:23.509817Z",
     "shell.execute_reply": "2024-11-22T16:35:23.509224Z",
     "shell.execute_reply.started": "2024-11-22T16:35:23.459430Z"
    }
   },
   "outputs": [],
   "source": [
    "import pandas as pd\n",
    "import vae_cyc as vc\n",
    "import numpy as np\n",
    "import torch\n",
    "import pytorch_lightning as pl\n",
    "from tqdm import tqdm \n",
    "from torch.utils.data import DataLoader\n",
    "from pytorch_lightning.loggers import WandbLogger"
   ]
  },
  {
   "cell_type": "code",
   "execution_count": 3,
   "id": "d2262695-d4c3-40ec-ac6e-c16aca3aa746",
   "metadata": {
    "execution": {
     "iopub.execute_input": "2024-11-22T15:54:46.766114Z",
     "iopub.status.busy": "2024-11-22T15:54:46.765934Z",
     "iopub.status.idle": "2024-11-22T15:56:00.089589Z",
     "shell.execute_reply": "2024-11-22T15:56:00.088873Z",
     "shell.execute_reply.started": "2024-11-22T15:54:46.766098Z"
    }
   },
   "outputs": [],
   "source": [
    "df = pd.read_parquet('/home/jovyan/data/random_subset_1.parquet')\n",
    "df = df.dropna()\n",
    "max_len = 128\n",
    "smiles_col = 'smiles'\n",
    "vocab = vc.Vocab.load('zinc-vocab.json')"
   ]
  },
  {
   "cell_type": "code",
   "execution_count": 4,
   "id": "05b0c7d1-4b1c-4c5f-96c8-00ad9fedd994",
   "metadata": {
    "execution": {
     "iopub.execute_input": "2024-11-22T15:56:00.090754Z",
     "iopub.status.busy": "2024-11-22T15:56:00.090448Z",
     "iopub.status.idle": "2024-11-22T15:56:00.151056Z",
     "shell.execute_reply": "2024-11-22T15:56:00.150306Z",
     "shell.execute_reply.started": "2024-11-22T15:56:00.090736Z"
    }
   },
   "outputs": [],
   "source": [
    "testset = pd.read_csv('/home/jovyan/data/testset.csv')"
   ]
  },
  {
   "cell_type": "code",
   "execution_count": 5,
   "id": "2f31de9b-1a77-41f0-9852-8ee53e539f85",
   "metadata": {
    "execution": {
     "iopub.execute_input": "2024-11-22T15:56:00.160960Z",
     "iopub.status.busy": "2024-11-22T15:56:00.160645Z",
     "iopub.status.idle": "2024-11-22T15:56:00.207194Z",
     "shell.execute_reply": "2024-11-22T15:56:00.206520Z",
     "shell.execute_reply.started": "2024-11-22T15:56:00.160942Z"
    }
   },
   "outputs": [],
   "source": [
    "def process_df(df, smiles_col):\n",
    "    all_tokens = np.zeros(shape=(len(df), max_len), dtype=np.int8)\n",
    "    for idx, smi in enumerate(tqdm(df[smiles_col].values)):\n",
    "        smi = vocab.encode_special(smi)\n",
    "        tokens = [vocab.sos_idx] + [vocab.char2idx[i] for i in smi] + [vocab.eos_idx]\n",
    "        tokens = tokens + [vocab.pad_idx] * (max_len - len(tokens)) \n",
    "        tokens = np.array(tokens, dtype=np.int8)\n",
    "        all_tokens[idx] = tokens \n",
    "    return all_tokens"
   ]
  },
  {
   "cell_type": "code",
   "execution_count": 14,
   "id": "9b15df2a-2731-4eab-a3ba-c0c79b6c937b",
   "metadata": {
    "execution": {
     "iopub.execute_input": "2024-11-22T16:32:59.703538Z",
     "iopub.status.busy": "2024-11-22T16:32:59.702781Z",
     "iopub.status.idle": "2024-11-22T16:32:59.763020Z",
     "shell.execute_reply": "2024-11-22T16:32:59.762351Z",
     "shell.execute_reply.started": "2024-11-22T16:32:59.703513Z"
    }
   },
   "outputs": [],
   "source": [
    "def save_memmap(vectors, fname, split, dtype='int8'):\n",
    "    import json\n",
    "    meta = {'shape':vectors.shape, 'dtype':'int8'}\n",
    "    with open(f'{fname}_{split}.json', 'w') as f:\n",
    "        json.dump(meta, f)\n",
    "    data = np.memmap(f'{fname}_{split}.dat', dtype=dtype, mode='w+', shape=vectors.shape)\n",
    "    data[:] = vectors \n",
    "    data.flush()"
   ]
  },
  {
   "cell_type": "code",
   "execution_count": 18,
   "id": "4116f1e2-4243-4cdc-8577-26abe64c29ce",
   "metadata": {
    "execution": {
     "iopub.execute_input": "2024-11-22T16:34:20.511666Z",
     "iopub.status.busy": "2024-11-22T16:34:20.511363Z",
     "iopub.status.idle": "2024-11-22T16:34:20.562082Z",
     "shell.execute_reply": "2024-11-22T16:34:20.561349Z",
     "shell.execute_reply.started": "2024-11-22T16:34:20.511647Z"
    }
   },
   "outputs": [
    {
     "data": {
      "text/plain": [
       "99999976"
      ]
     },
     "execution_count": 18,
     "metadata": {},
     "output_type": "execute_result"
    }
   ],
   "source": [
    "len(df)"
   ]
  },
  {
   "cell_type": "code",
   "execution_count": 7,
   "id": "1d743b51-6ebb-4a31-b02c-8994a0a85b78",
   "metadata": {
    "execution": {
     "iopub.execute_input": "2024-11-22T15:56:02.183971Z",
     "iopub.status.busy": "2024-11-22T15:56:02.183451Z",
     "iopub.status.idle": "2024-11-22T16:16:48.376019Z",
     "shell.execute_reply": "2024-11-22T16:16:48.375034Z",
     "shell.execute_reply.started": "2024-11-22T15:56:02.183950Z"
    },
    "scrolled": true
   },
   "outputs": [
    {
     "name": "stderr",
     "output_type": "stream",
     "text": [
      "100%|██████████| 99999976/99999976 [19:00<00:00, 87695.23it/s]\n"
     ]
    }
   ],
   "source": [
    "save_memmap(process_df(df, 'smiles'), 'random_subset_1', 'train')"
   ]
  },
  {
   "cell_type": "code",
   "execution_count": 9,
   "id": "47b02eec-3a7e-48e5-a09f-ac501bdf00f6",
   "metadata": {
    "execution": {
     "iopub.execute_input": "2024-11-22T16:27:05.303721Z",
     "iopub.status.busy": "2024-11-22T16:27:05.303274Z",
     "iopub.status.idle": "2024-11-22T16:27:05.545278Z",
     "shell.execute_reply": "2024-11-22T16:27:05.544497Z",
     "shell.execute_reply.started": "2024-11-22T16:27:05.303695Z"
    }
   },
   "outputs": [
    {
     "name": "stderr",
     "output_type": "stream",
     "text": [
      "100%|██████████| 9736/9736 [00:00<00:00, 53819.05it/s]\n"
     ]
    }
   ],
   "source": [
    "save_memmap(process_df(testset, 'smiles'), 'random_subset_1', 'val')"
   ]
  },
  {
   "cell_type": "code",
   "execution_count": null,
   "id": "9ea1702b-f8b5-4d45-8beb-2124fcc806e2",
   "metadata": {
    "execution": {
     "iopub.execute_input": "2024-11-22T16:34:35.219370Z",
     "iopub.status.busy": "2024-11-22T16:34:35.218914Z",
     "iopub.status.idle": "2024-11-22T16:34:35.277112Z",
     "shell.execute_reply": "2024-11-22T16:34:35.276328Z",
     "shell.execute_reply.started": "2024-11-22T16:34:35.219350Z"
    }
   },
   "outputs": [],
   "source": [
    "train_ds = vc.TransformerMemapDataset('random_subset_1_train', vocab=vocab)\n",
    "\n",
    "val_ds = vc.TransformerMemapDataset('random_subset_1_val', vocab=vocab)"
   ]
  },
  {
   "cell_type": "code",
   "execution_count": null,
   "id": "3d291781-23d1-4c70-9a80-9f96fcd98cf5",
   "metadata": {
    "execution": {
     "iopub.execute_input": "2024-11-22T16:51:26.195010Z",
     "iopub.status.busy": "2024-11-22T16:51:26.194679Z",
     "iopub.status.idle": "2024-11-22T16:51:26.249754Z",
     "shell.execute_reply": "2024-11-22T16:51:26.249149Z",
     "shell.execute_reply.started": "2024-11-22T16:51:26.194992Z"
    }
   },
   "outputs": [],
   "source": [
    "train_dl = torch.utils.data.DataLoader(train_ds,batch_size=128, collate_fn=ds.collate,num_workers=45)\n",
    "val_dl = torch.utils.data.DataLoader(val_ds,batch_size=128, collate_fn=ds.collate,num_workers=45)\n",
    "\n",
    "wandb_logger = WandbLogger(project=\"run_pod\", log_model=True, name='transformer-memmap-moses')\n",
    "\n",
    "trainer = pl.Trainer(devices=[2], logger=wandb_logger, precision=16)\n",
    "model = vc.Transformer(vocab_size=len(vocab.char2idx), \n",
    "                       num_heads=10, \n",
    "                       hidden_dim=128, \n",
    "                       num_layers=10, \n",
    "                       embed_size=200, \n",
    "                       latent_dim=64, \n",
    "                       vocab=vocab, \n",
    "                       max_seq_length=129, lr=0.0001)\n",
    "\n",
    "trainer.fit(model, train_dl, val_dl)\n",
    "\n",
    "model = model.eval()"
   ]
  }
 ],
 "metadata": {
  "kernelspec": {
   "display_name": "saturn (Python 3)",
   "language": "python",
   "name": "python3"
  },
  "language_info": {
   "codemirror_mode": {
    "name": "ipython",
    "version": 3
   },
   "file_extension": ".py",
   "mimetype": "text/x-python",
   "name": "python",
   "nbconvert_exporter": "python",
   "pygments_lexer": "ipython3",
   "version": "3.10.12"
  }
 },
 "nbformat": 4,
 "nbformat_minor": 5
}
