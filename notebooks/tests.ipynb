{
 "cells": [
  {
   "cell_type": "code",
   "execution_count": 1,
   "id": "a26e04b1-4aa4-4373-80f2-1facf29c7489",
   "metadata": {},
   "outputs": [],
   "source": [
    "%load_ext autoreload\n",
    "%autoreload 2"
   ]
  },
  {
   "cell_type": "code",
   "execution_count": 2,
   "id": "4ddc7d41-af3d-45c3-9b25-07690151fd15",
   "metadata": {},
   "outputs": [],
   "source": [
    "import vae_cyc as vc\n",
    "import pandas as pd \n",
    "import lightning as pl\n",
    "from torch.utils.data import DataLoader "
   ]
  },
  {
   "cell_type": "code",
   "execution_count": 3,
   "id": "8f7ef8b2-8af5-457c-b3b1-40fcc0c78e01",
   "metadata": {},
   "outputs": [],
   "source": [
    "df = pd.read_csv('../datasets/peptides_small.csv')"
   ]
  },
  {
   "cell_type": "code",
   "execution_count": 4,
   "id": "f92092b0-7577-4973-ba3a-f5cb850a9bdb",
   "metadata": {},
   "outputs": [
    {
     "name": "stdout",
     "output_type": "stream",
     "text": [
      "extracting charset...\n"
     ]
    },
    {
     "name": "stderr",
     "output_type": "stream",
     "text": [
      "100%|██████████| 58094/58094 [00:02<00:00, 27941.31it/s]\n"
     ]
    }
   ],
   "source": [
    "vocab = vc.Vocab(df, 'Sequence')"
   ]
  },
  {
   "cell_type": "code",
   "execution_count": 5,
   "id": "15b7de7d-fa7e-41f9-8b6d-116e0346ecfe",
   "metadata": {},
   "outputs": [
    {
     "name": "stdout",
     "output_type": "stream",
     "text": [
      "Tokenizing...\n"
     ]
    },
    {
     "name": "stderr",
     "output_type": "stream",
     "text": [
      "100%|██████████| 58094/58094 [00:01<00:00, 29883.62it/s]"
     ]
    },
    {
     "name": "stdout",
     "output_type": "stream",
     "text": [
      "Tokenization complete\n"
     ]
    },
    {
     "name": "stderr",
     "output_type": "stream",
     "text": [
      "\n"
     ]
    }
   ],
   "source": [
    "dataset = vc.Dataset(df, vocab, 'Sequence',100)"
   ]
  },
  {
   "cell_type": "code",
   "execution_count": 67,
   "id": "01a81d83-a840-4cbd-b25f-4d164d781dae",
   "metadata": {},
   "outputs": [
    {
     "data": {
      "text/html": [
       "Finishing last run (ID:9f6916jw) before initializing another..."
      ],
      "text/plain": [
       "<IPython.core.display.HTML object>"
      ]
     },
     "metadata": {},
     "output_type": "display_data"
    },
    {
     "data": {
      "text/html": [
       "\n",
       "    <style>\n",
       "        .wandb-row {\n",
       "            display: flex;\n",
       "            flex-direction: row;\n",
       "            flex-wrap: wrap;\n",
       "            justify-content: flex-start;\n",
       "            width: 100%;\n",
       "        }\n",
       "        .wandb-col {\n",
       "            display: flex;\n",
       "            flex-direction: column;\n",
       "            flex-basis: 100%;\n",
       "            flex: 1;\n",
       "            padding: 10px;\n",
       "        }\n",
       "    </style>\n",
       "<div class=\"wandb-row\"><div class=\"wandb-col\"><h3>Run history:</h3><br/><table class=\"wandb\"><tr><td>epoch</td><td>▁▁▁▁▁▁▂▂▂▂▂▂▃▃▃▃▃▃▅▅▅▅▅▅▅▆▆▆▆▆▆▇▇▇▇▇▇███</td></tr><tr><td>train/kl_loss</td><td>▁▁▁▁▁▁▁▁▁▁▁▁▁▁▁▁▁▁▁▁▁▁▁▁▁▁▁▁▁▁▁▁▁▁▁▁▁▁▁▁</td></tr><tr><td>train/kl_weight</td><td>▁▁▁▁▁▁▁▁▁▁▁▁▁▁▁▁▁▁▁▁▁▁▁▁▁▁▁▁▁▁▁▁▁▁▁▁▁▁▁▁</td></tr><tr><td>train/loss</td><td>█▆▅▇▃▄▅▅▂▄▄▄▄▄▄▂▄▄▂▄▃▂▄▄▄▅▂▁▃▅▄▂▄▄▂▅▄▄▃▂</td></tr><tr><td>train/lr</td><td>▁▁▁▁▁▁▁▁▁▁▁▁▁▁▁▁▁▁▁▁▁▁▁▁▁▁▁▁▁▁▁▁▁▁▁▁▁▁▁▁</td></tr><tr><td>train/r_loss</td><td>▇█▅▃▅▅▅▂▄▅▆▅▄▄▄▃▂▄▅▂▅▃▂▄▅▁▂▄▅▆▅▂▄▄▂▅▄▅▃▃</td></tr><tr><td>trainer/global_step</td><td>▁▁▁▁▂▂▂▂▂▃▃▃▃▃▃▄▄▄▄▄▅▅▅▅▅▆▆▆▆▆▆▆▇▇▇▇▇▇██</td></tr><tr><td>val/kl_loss</td><td>▁▁▁▁▁▁</td></tr><tr><td>val/loss</td><td>█▅▄▃▂▁</td></tr><tr><td>val/r_loss</td><td>█▅▄▃▂▁</td></tr></table><br/></div><div class=\"wandb-col\"><h3>Run summary:</h3><br/><table class=\"wandb\"><tr><td>epoch</td><td>6</td></tr><tr><td>train/kl_loss</td><td>0</td></tr><tr><td>train/kl_weight</td><td>0</td></tr><tr><td>train/loss</td><td>23389.61133</td></tr><tr><td>train/lr</td><td>0.0001</td></tr><tr><td>train/r_loss</td><td>23389.61133</td></tr><tr><td>trainer/global_step</td><td>2999</td></tr><tr><td>val/kl_loss</td><td>0</td></tr><tr><td>val/loss</td><td>23639.44727</td></tr><tr><td>val/r_loss</td><td>23639.44727</td></tr></table><br/></div></div>"
      ],
      "text/plain": [
       "<IPython.core.display.HTML object>"
      ]
     },
     "metadata": {},
     "output_type": "display_data"
    },
    {
     "data": {
      "text/html": [
       " View run <strong style=\"color:#cdcd00\">ethereal-leaf-8</strong> at: <a href='https://wandb.ai/rhaddad7/VAE-CYC-notebooks_home_VAE-CYC_notebooks/runs/9f6916jw' target=\"_blank\">https://wandb.ai/rhaddad7/VAE-CYC-notebooks_home_VAE-CYC_notebooks/runs/9f6916jw</a><br/> View project at: <a href='https://wandb.ai/rhaddad7/VAE-CYC-notebooks_home_VAE-CYC_notebooks' target=\"_blank\">https://wandb.ai/rhaddad7/VAE-CYC-notebooks_home_VAE-CYC_notebooks</a><br/>Synced 5 W&B file(s), 0 media file(s), 0 artifact file(s) and 0 other file(s)"
      ],
      "text/plain": [
       "<IPython.core.display.HTML object>"
      ]
     },
     "metadata": {},
     "output_type": "display_data"
    },
    {
     "data": {
      "text/html": [
       "Find logs at: <code>./wandb/run-20241110_173506-9f6916jw/logs</code>"
      ],
      "text/plain": [
       "<IPython.core.display.HTML object>"
      ]
     },
     "metadata": {},
     "output_type": "display_data"
    },
    {
     "data": {
      "text/html": [
       "Successfully finished last run (ID:9f6916jw). Initializing new run:<br/>"
      ],
      "text/plain": [
       "<IPython.core.display.HTML object>"
      ]
     },
     "metadata": {},
     "output_type": "display_data"
    },
    {
     "data": {
      "text/html": [
       "Tracking run with wandb version 0.18.6"
      ],
      "text/plain": [
       "<IPython.core.display.HTML object>"
      ]
     },
     "metadata": {},
     "output_type": "display_data"
    },
    {
     "data": {
      "text/html": [
       "Run data is saved locally in <code>/home/VAE-CYC/notebooks/wandb/run-20241110_174416-etvlitnr</code>"
      ],
      "text/plain": [
       "<IPython.core.display.HTML object>"
      ]
     },
     "metadata": {},
     "output_type": "display_data"
    },
    {
     "data": {
      "text/html": [
       "Syncing run <strong><a href='https://wandb.ai/rhaddad7/VAE-CYC-notebooks_home_VAE-CYC_notebooks/runs/etvlitnr' target=\"_blank\">sleek-morning-9</a></strong> to <a href='https://wandb.ai/rhaddad7/VAE-CYC-notebooks_home_VAE-CYC_notebooks' target=\"_blank\">Weights & Biases</a> (<a href='https://wandb.me/developer-guide' target=\"_blank\">docs</a>)<br/>"
      ],
      "text/plain": [
       "<IPython.core.display.HTML object>"
      ]
     },
     "metadata": {},
     "output_type": "display_data"
    },
    {
     "data": {
      "text/html": [
       " View project at <a href='https://wandb.ai/rhaddad7/VAE-CYC-notebooks_home_VAE-CYC_notebooks' target=\"_blank\">https://wandb.ai/rhaddad7/VAE-CYC-notebooks_home_VAE-CYC_notebooks</a>"
      ],
      "text/plain": [
       "<IPython.core.display.HTML object>"
      ]
     },
     "metadata": {},
     "output_type": "display_data"
    },
    {
     "data": {
      "text/html": [
       " View run at <a href='https://wandb.ai/rhaddad7/VAE-CYC-notebooks_home_VAE-CYC_notebooks/runs/etvlitnr' target=\"_blank\">https://wandb.ai/rhaddad7/VAE-CYC-notebooks_home_VAE-CYC_notebooks/runs/etvlitnr</a>"
      ],
      "text/plain": [
       "<IPython.core.display.HTML object>"
      ]
     },
     "metadata": {},
     "output_type": "display_data"
    },
    {
     "data": {
      "text/html": [
       "<button onClick=\"this.nextSibling.style.display='block';this.style.display='none';\">Display W&B run</button><iframe src='https://wandb.ai/rhaddad7/VAE-CYC-notebooks_home_VAE-CYC_notebooks/runs/etvlitnr?jupyter=true' style='border:none;width:100%;height:420px;display:none;'></iframe>"
      ],
      "text/plain": [
       "<wandb.sdk.wandb_run.Run at 0x73a4b1c28190>"
      ]
     },
     "execution_count": 67,
     "metadata": {},
     "output_type": "execute_result"
    }
   ],
   "source": [
    "import wandb\n",
    "from pytorch_lightning.loggers import WandbLogger\n",
    "\n"
   ]
  },
  {
   "cell_type": "code",
   "execution_count": 69,
   "id": "af0236d7-59c1-4514-b77e-6f4386f10ea4",
   "metadata": {},
   "outputs": [],
   "source": [
    "train_dl = DataLoader(dataset,batch_size=128,shuffle=True, collate_fn=dataset.collate,num_workers=95)\n",
    "val_dl = DataLoader(dataset, batch_size=128, shuffle=False, collate_fn=dataset.collate, num_workers=95)"
   ]
  },
  {
   "cell_type": "code",
   "execution_count": 70,
   "id": "8a46d83d-8e3c-4db4-9067-5f3849f1a829",
   "metadata": {},
   "outputs": [
    {
     "name": "stderr",
     "output_type": "stream",
     "text": [
      "GPU available: True (cuda), used: True\n",
      "TPU available: False, using: 0 TPU cores\n",
      "HPU available: False, using: 0 HPUs\n"
     ]
    }
   ],
   "source": [
    "trainer = pl.Trainer(devices=1, logger=wandb_logger)"
   ]
  },
  {
   "cell_type": "code",
   "execution_count": 76,
   "id": "cca7a206-6939-4155-a22f-0af66aba54ba",
   "metadata": {},
   "outputs": [],
   "source": [
    "model = vc.VAE(32,128,2, vocab=vocab, c_step=1000000, lr=0.0001)"
   ]
  },
  {
   "cell_type": "code",
   "execution_count": null,
   "id": "d2eaba5d-ce99-4c31-8202-4fb15279c048",
   "metadata": {
    "scrolled": true
   },
   "outputs": [
    {
     "name": "stderr",
     "output_type": "stream",
     "text": [
      "LOCAL_RANK: 0 - CUDA_VISIBLE_DEVICES: [0]\n",
      "\n",
      "  | Name          | Type             | Params | Mode \n",
      "-----------------------------------------------------------\n",
      "0 | encoder       | GRU              | 420 K  | train\n",
      "1 | decoder       | GRU              | 173 K  | train\n",
      "2 | mu_fc         | Linear           | 16.4 K | train\n",
      "3 | logvar_fc     | Linear           | 16.4 K | train\n",
      "4 | embedding     | Embedding        | 896    | train\n",
      "5 | latent2hidden | Linear           | 8.4 K  | train\n",
      "6 | outputs2vocab | Linear           | 3.6 K  | train\n",
      "7 | criterion     | CrossEntropyLoss | 0      | train\n",
      "-----------------------------------------------------------\n",
      "640 K     Trainable params\n",
      "0         Non-trainable params\n",
      "640 K     Total params\n",
      "2.561     Total estimated model params size (MB)\n",
      "8         Modules in train mode\n",
      "0         Modules in eval mode\n"
     ]
    },
    {
     "data": {
      "application/vnd.jupyter.widget-view+json": {
       "model_id": "",
       "version_major": 2,
       "version_minor": 0
      },
      "text/plain": [
       "Sanity Checking: |          | 0/? [00:00<?, ?it/s]"
      ]
     },
     "metadata": {},
     "output_type": "display_data"
    },
    {
     "data": {
      "application/vnd.jupyter.widget-view+json": {
       "model_id": "68559377bbcd43018b6ae26b2d429643",
       "version_major": 2,
       "version_minor": 0
      },
      "text/plain": [
       "Training: |          | 0/? [00:00<?, ?it/s]"
      ]
     },
     "metadata": {},
     "output_type": "display_data"
    },
    {
     "data": {
      "application/vnd.jupyter.widget-view+json": {
       "model_id": "",
       "version_major": 2,
       "version_minor": 0
      },
      "text/plain": [
       "Validation: |          | 0/? [00:00<?, ?it/s]"
      ]
     },
     "metadata": {},
     "output_type": "display_data"
    },
    {
     "data": {
      "application/vnd.jupyter.widget-view+json": {
       "model_id": "",
       "version_major": 2,
       "version_minor": 0
      },
      "text/plain": [
       "Validation: |          | 0/? [00:00<?, ?it/s]"
      ]
     },
     "metadata": {},
     "output_type": "display_data"
    }
   ],
   "source": [
    "trainer.fit(model, train_dl, val_dl)"
   ]
  },
  {
   "cell_type": "code",
   "execution_count": 55,
   "id": "219bcd67-ce9c-4e8f-a649-812b488c1895",
   "metadata": {},
   "outputs": [
    {
     "name": "stdout",
     "output_type": "stream",
     "text": [
      "Tokenizing...\n"
     ]
    },
    {
     "name": "stderr",
     "output_type": "stream",
     "text": [
      "\n",
      "100%|██████████| 1/1 [00:00<00:00, 1286.20it/s]\n"
     ]
    },
    {
     "name": "stdout",
     "output_type": "stream",
     "text": [
      "Tokenization complete\n"
     ]
    },
    {
     "name": "stderr",
     "output_type": "stream",
     "text": [
      "\n",
      "  0%|          | 0/1 [00:00<?, ?it/s]\u001b[A\n",
      "100%|██████████| 1/1 [00:00<00:00,  2.20it/s]\u001b[A\n"
     ]
    }
   ],
   "source": [
    "z = model.seq_to_latent(['MYKMYFLKDQKFSLSGTIRINDKTQSEYGSVWCPGLSITGLHHDAIDHNMFEEMETEIIEYLGPWVQAEYRRIKG'])"
   ]
  },
  {
   "cell_type": "code",
   "execution_count": 56,
   "id": "71767f82-fe97-4f46-89de-8bf6266f549f",
   "metadata": {},
   "outputs": [
    {
     "data": {
      "text/plain": [
       "['MKKKKIILLLLLLLLLLLLLLLLLLLLLLLLLLLLLLLLLLLLLLLLLLLLLLLLLLLLLLLLLLLLLLLLLLLLLLLLLLLLLLL']"
      ]
     },
     "execution_count": 56,
     "metadata": {},
     "output_type": "execute_result"
    }
   ],
   "source": [
    "model.latent_to_seq_batched(z)"
   ]
  },
  {
   "cell_type": "code",
   "execution_count": null,
   "id": "75091219-622b-4919-a497-aad0fba7fc42",
   "metadata": {},
   "outputs": [],
   "source": []
  }
 ],
 "metadata": {
  "kernelspec": {
   "display_name": "Python 3 (ipykernel)",
   "language": "python",
   "name": "python3"
  },
  "language_info": {
   "codemirror_mode": {
    "name": "ipython",
    "version": 3
   },
   "file_extension": ".py",
   "mimetype": "text/x-python",
   "name": "python",
   "nbconvert_exporter": "python",
   "pygments_lexer": "ipython3",
   "version": "3.10.12"
  }
 },
 "nbformat": 4,
 "nbformat_minor": 5
}
