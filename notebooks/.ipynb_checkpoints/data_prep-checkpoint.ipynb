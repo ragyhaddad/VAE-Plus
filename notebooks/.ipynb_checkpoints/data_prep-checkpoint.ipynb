{
 "cells": [
  {
   "cell_type": "code",
   "execution_count": 7,
   "id": "24218657-7716-402d-83d4-ad72e6c5e896",
   "metadata": {},
   "outputs": [
    {
     "name": "stdout",
     "output_type": "stream",
     "text": [
      "                      Header  \\\n",
      "0       sp|Q6GZX4|001R_FRG3G   \n",
      "1       sp|Q6GZX3|002L_FRG3G   \n",
      "2        sp|Q197F8|002R_IIV3   \n",
      "3        sp|Q197F7|003L_IIV3   \n",
      "4       sp|Q6GZX2|003R_FRG3G   \n",
      "...                      ...   \n",
      "572209     sp|Q6UY62|Z_SABVB   \n",
      "572210     sp|P08105|Z_SHEEP   \n",
      "572211     sp|Q88470|Z_TACVF   \n",
      "572212     sp|A9JR22|Z_TAMVU   \n",
      "572213     sp|B2ZDY1|Z_WWAVU   \n",
      "\n",
      "                                                 Sequence  \n",
      "0       MAFSAEDVLKEYDRRRRMEALLLSLYYPNDRKLLDYKEWSPPRVQV...  \n",
      "1       MSIIGATRLQNDKSDTYSAGPCYAGGCSAFTPRGTCGKDWDLGEQT...  \n",
      "2       MASNTVSAQGGSNRPVRDFSNIQDVAQFLLFDPIWNEQPGSIVPWK...  \n",
      "3       MYQAINPCPQSWYGSPQLEREIVCKMSGAPHYPNYYPVHPNALGGA...  \n",
      "4       MARPLLGKTSSVRRRLESLSACSIFFFLRKFCQKMASLVFLNSPVY...  \n",
      "...                                                   ...  \n",
      "572209  MGNSKSKSKLSANQYEQQTVNSTKQVAILKRQAEPSLYGRHNCRCC...  \n",
      "572210  MSSSLEITSFYSFIWTPHIGPLLFGIGLWFSMFKEPSHFCPCQHPH...  \n",
      "572211  MGNCNRTQKPSSSSNNLEKPPQAAEFRRTAEPSLYGRYNCKCCWFA...  \n",
      "572212  MGLRYSKEVRDRHGDKDPEGRIPITQTMPQTLYGRYNCKSCWFANK...  \n",
      "572213  MGLRYSKDVKDRYGDREPEGRIPITLNMPQSLYGRYNCKSCWFANK...  \n",
      "\n",
      "[572214 rows x 2 columns]\n"
     ]
    }
   ],
   "source": [
    "from Bio import SeqIO\n",
    "import pandas as pd\n",
    "\n",
    "# Define a function to parse the FASTA file and convert to DataFrame\n",
    "def fasta_to_dataframe(fasta_file):\n",
    "    # Create lists to hold sequence IDs and sequences\n",
    "    headers = []\n",
    "    sequences = []\n",
    "\n",
    "    # Parse the FASTA file\n",
    "    for record in SeqIO.parse(fasta_file, \"fasta\"):\n",
    "        headers.append(record.id)  # Record header\n",
    "        sequences.append(str(record.seq))  # Sequence\n",
    "\n",
    "    # Create a DataFrame from the lists\n",
    "    df = pd.DataFrame({\"Header\": headers, \"Sequence\": sequences})\n",
    "    return df\n",
    "\n",
    "# Specify the FASTA file\n",
    "fasta_file = \"/Users/ragyhaddad/git-repos/datasets/uniprot_sprot.fasta\"\n",
    "\n",
    "# Convert FASTA to DataFrame\n",
    "df = fasta_to_dataframe(fasta_file)\n",
    "\n",
    "# Display the DataFrame\n",
    "print(df)\n",
    "\n",
    "# Optionally, save the DataFrame to a CSV file\n",
    "df.to_csv(\"peptides.csv\", index=False)\n"
   ]
  },
  {
   "cell_type": "code",
   "execution_count": 10,
   "id": "fbfc1f58-4247-4752-9211-e9b517728f79",
   "metadata": {},
   "outputs": [],
   "source": [
    "df['len'] = df.Sequence.str.len()"
   ]
  },
  {
   "cell_type": "code",
   "execution_count": 14,
   "id": "ca7cbd40-347d-4ba8-bc61-20ecf1323351",
   "metadata": {},
   "outputs": [],
   "source": [
    "df = df[df.len <= 100]"
   ]
  },
  {
   "cell_type": "code",
   "execution_count": 17,
   "id": "095bf07c-5a37-4be1-b328-94869f271fb3",
   "metadata": {},
   "outputs": [],
   "source": [
    "df = df.to_csv('~/git-repos/datasets/peptides_small.csv', index=False)"
   ]
  }
 ],
 "metadata": {
  "kernelspec": {
   "display_name": "base",
   "language": "python",
   "name": "base"
  },
  "language_info": {
   "codemirror_mode": {
    "name": "ipython",
    "version": 3
   },
   "file_extension": ".py",
   "mimetype": "text/x-python",
   "name": "python",
   "nbconvert_exporter": "python",
   "pygments_lexer": "ipython3",
   "version": "3.12.7"
  }
 },
 "nbformat": 4,
 "nbformat_minor": 5
}
