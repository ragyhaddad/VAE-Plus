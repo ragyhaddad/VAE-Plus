{
 "cells": [
  {
   "cell_type": "code",
   "execution_count": null,
   "id": "8762f027-126c-4d41-a691-bc40840c4957",
   "metadata": {},
   "outputs": [
    {
     "data": {
      "application/vnd.jupyter.widget-view+json": {
       "model_id": "9136f45d574543ae8318143ae0a66705",
       "version_major": 2,
       "version_minor": 0
      },
      "text/plain": [
       "Resolving data files:   0%|          | 0/96 [00:00<?, ?it/s]"
      ]
     },
     "metadata": {},
     "output_type": "display_data"
    },
    {
     "data": {
      "application/vnd.jupyter.widget-view+json": {
       "model_id": "efa22fb05b8449449f7262ec8a095473",
       "version_major": 2,
       "version_minor": 0
      },
      "text/plain": [
       "Downloading data:   0%|          | 0/96 [00:00<?, ?files/s]"
      ]
     },
     "metadata": {},
     "output_type": "display_data"
    },
    {
     "data": {
      "application/vnd.jupyter.widget-view+json": {
       "model_id": "e2fb7eca8eec4b85b7f98e75d8f40e84",
       "version_major": 2,
       "version_minor": 0
      },
      "text/plain": [
       "train_00.csv:   0%|          | 0.00/1.40G [00:00<?, ?B/s]"
      ]
     },
     "metadata": {},
     "output_type": "display_data"
    },
    {
     "data": {
      "application/vnd.jupyter.widget-view+json": {
       "model_id": "12b9ec65c9f54b96873be3690885ad7e",
       "version_major": 2,
       "version_minor": 0
      },
      "text/plain": [
       "train_01.csv:   0%|          | 0.00/782M [00:00<?, ?B/s]"
      ]
     },
     "metadata": {},
     "output_type": "display_data"
    },
    {
     "data": {
      "application/vnd.jupyter.widget-view+json": {
       "model_id": "4ff3fc69b41b4aa8aa0523b4ba731723",
       "version_major": 2,
       "version_minor": 0
      },
      "text/plain": [
       "train_02.csv:   0%|          | 0.00/648M [00:00<?, ?B/s]"
      ]
     },
     "metadata": {},
     "output_type": "display_data"
    },
    {
     "data": {
      "application/vnd.jupyter.widget-view+json": {
       "model_id": "6cb8917f3c5a446496a85010d74d6329",
       "version_major": 2,
       "version_minor": 0
      },
      "text/plain": [
       "train_03.csv:   0%|          | 0.00/568M [00:00<?, ?B/s]"
      ]
     },
     "metadata": {},
     "output_type": "display_data"
    },
    {
     "data": {
      "application/vnd.jupyter.widget-view+json": {
       "model_id": "5f1863f4ef2648f1a2443bdbee89f129",
       "version_major": 2,
       "version_minor": 0
      },
      "text/plain": [
       "train_04.csv:   0%|          | 0.00/514M [00:00<?, ?B/s]"
      ]
     },
     "metadata": {},
     "output_type": "display_data"
    },
    {
     "data": {
      "application/vnd.jupyter.widget-view+json": {
       "model_id": "8a9d9547587947de9739a1630b412df3",
       "version_major": 2,
       "version_minor": 0
      },
      "text/plain": [
       "train_05.csv:   0%|          | 0.00/473M [00:00<?, ?B/s]"
      ]
     },
     "metadata": {},
     "output_type": "display_data"
    },
    {
     "data": {
      "application/vnd.jupyter.widget-view+json": {
       "model_id": "ac47b8d11b674562813c7d86311eca2e",
       "version_major": 2,
       "version_minor": 0
      },
      "text/plain": [
       "train_06.csv:   0%|          | 0.00/441M [00:00<?, ?B/s]"
      ]
     },
     "metadata": {},
     "output_type": "display_data"
    },
    {
     "data": {
      "application/vnd.jupyter.widget-view+json": {
       "model_id": "96863b2c1d90408999eada612a77dc5a",
       "version_major": 2,
       "version_minor": 0
      },
      "text/plain": [
       "train_07.csv:   0%|          | 0.00/414M [00:00<?, ?B/s]"
      ]
     },
     "metadata": {},
     "output_type": "display_data"
    },
    {
     "data": {
      "application/vnd.jupyter.widget-view+json": {
       "model_id": "7b48db018f4749c19e631e6487683274",
       "version_major": 2,
       "version_minor": 0
      },
      "text/plain": [
       "train_08.csv:   0%|          | 0.00/391M [00:00<?, ?B/s]"
      ]
     },
     "metadata": {},
     "output_type": "display_data"
    },
    {
     "data": {
      "application/vnd.jupyter.widget-view+json": {
       "model_id": "b317ed5d00014db9987542bcd07bf322",
       "version_major": 2,
       "version_minor": 0
      },
      "text/plain": [
       "train_09.csv:   0%|          | 0.00/371M [00:00<?, ?B/s]"
      ]
     },
     "metadata": {},
     "output_type": "display_data"
    },
    {
     "data": {
      "application/vnd.jupyter.widget-view+json": {
       "model_id": "78ec1c8da6634d52b616072db3bbe851",
       "version_major": 2,
       "version_minor": 0
      },
      "text/plain": [
       "train_10.csv:   0%|          | 0.00/355M [00:00<?, ?B/s]"
      ]
     },
     "metadata": {},
     "output_type": "display_data"
    },
    {
     "data": {
      "application/vnd.jupyter.widget-view+json": {
       "model_id": "3b9822e65f64411191f7455132ca81d9",
       "version_major": 2,
       "version_minor": 0
      },
      "text/plain": [
       "train_11.csv:   0%|          | 0.00/340M [00:00<?, ?B/s]"
      ]
     },
     "metadata": {},
     "output_type": "display_data"
    },
    {
     "data": {
      "application/vnd.jupyter.widget-view+json": {
       "model_id": "e879e86b782441c49d8d60b7116252d0",
       "version_major": 2,
       "version_minor": 0
      },
      "text/plain": [
       "train_12.csv:   0%|          | 0.00/326M [00:00<?, ?B/s]"
      ]
     },
     "metadata": {},
     "output_type": "display_data"
    },
    {
     "data": {
      "application/vnd.jupyter.widget-view+json": {
       "model_id": "016ca5ae06f74968aa8815ad366d72f5",
       "version_major": 2,
       "version_minor": 0
      },
      "text/plain": [
       "train_13.csv:   0%|          | 0.00/314M [00:00<?, ?B/s]"
      ]
     },
     "metadata": {},
     "output_type": "display_data"
    },
    {
     "data": {
      "application/vnd.jupyter.widget-view+json": {
       "model_id": "8dab37d9e5c64b919a03a2a25c436aff",
       "version_major": 2,
       "version_minor": 0
      },
      "text/plain": [
       "train_14.csv:   0%|          | 0.00/303M [00:00<?, ?B/s]"
      ]
     },
     "metadata": {},
     "output_type": "display_data"
    },
    {
     "data": {
      "application/vnd.jupyter.widget-view+json": {
       "model_id": "5d9a37d453274246be5962e7de9c44ae",
       "version_major": 2,
       "version_minor": 0
      },
      "text/plain": [
       "train_15.csv:   0%|          | 0.00/293M [00:00<?, ?B/s]"
      ]
     },
     "metadata": {},
     "output_type": "display_data"
    },
    {
     "data": {
      "application/vnd.jupyter.widget-view+json": {
       "model_id": "c24f5b0a010448a4b8c326cb6a8b8fc2",
       "version_major": 2,
       "version_minor": 0
      },
      "text/plain": [
       "train_16.csv:   0%|          | 0.00/285M [00:00<?, ?B/s]"
      ]
     },
     "metadata": {},
     "output_type": "display_data"
    },
    {
     "data": {
      "application/vnd.jupyter.widget-view+json": {
       "model_id": "6e0a3b247523488788f0080514491abe",
       "version_major": 2,
       "version_minor": 0
      },
      "text/plain": [
       "train_17.csv:   0%|          | 0.00/276M [00:00<?, ?B/s]"
      ]
     },
     "metadata": {},
     "output_type": "display_data"
    },
    {
     "data": {
      "application/vnd.jupyter.widget-view+json": {
       "model_id": "65aa0ea58b514dacaa1ff137cbce5633",
       "version_major": 2,
       "version_minor": 0
      },
      "text/plain": [
       "train_18.csv:   0%|          | 0.00/269M [00:00<?, ?B/s]"
      ]
     },
     "metadata": {},
     "output_type": "display_data"
    },
    {
     "data": {
      "application/vnd.jupyter.widget-view+json": {
       "model_id": "f3f80995debf4684b05a5d4cba9c01dd",
       "version_major": 2,
       "version_minor": 0
      },
      "text/plain": [
       "train_19.csv:   0%|          | 0.00/261M [00:00<?, ?B/s]"
      ]
     },
     "metadata": {},
     "output_type": "display_data"
    },
    {
     "data": {
      "application/vnd.jupyter.widget-view+json": {
       "model_id": "519c644f82ba4aecb3812f86c7af5291",
       "version_major": 2,
       "version_minor": 0
      },
      "text/plain": [
       "train_20.csv:   0%|          | 0.00/254M [00:00<?, ?B/s]"
      ]
     },
     "metadata": {},
     "output_type": "display_data"
    },
    {
     "data": {
      "application/vnd.jupyter.widget-view+json": {
       "model_id": "bad22062160e444abc4a4e0f514ab482",
       "version_major": 2,
       "version_minor": 0
      },
      "text/plain": [
       "train_21.csv:   0%|          | 0.00/248M [00:00<?, ?B/s]"
      ]
     },
     "metadata": {},
     "output_type": "display_data"
    },
    {
     "data": {
      "application/vnd.jupyter.widget-view+json": {
       "model_id": "7b019b820f2743e09ef7bd6e23630956",
       "version_major": 2,
       "version_minor": 0
      },
      "text/plain": [
       "train_22.csv:   0%|          | 0.00/241M [00:00<?, ?B/s]"
      ]
     },
     "metadata": {},
     "output_type": "display_data"
    },
    {
     "data": {
      "application/vnd.jupyter.widget-view+json": {
       "model_id": "c6811f97daf94372bdbc3d13b33a3034",
       "version_major": 2,
       "version_minor": 0
      },
      "text/plain": [
       "train_23.csv:   0%|          | 0.00/235M [00:00<?, ?B/s]"
      ]
     },
     "metadata": {},
     "output_type": "display_data"
    },
    {
     "data": {
      "application/vnd.jupyter.widget-view+json": {
       "model_id": "d0eb45adb4374a13aa5b39bc139ce7fb",
       "version_major": 2,
       "version_minor": 0
      },
      "text/plain": [
       "train_24.csv:   0%|          | 0.00/230M [00:00<?, ?B/s]"
      ]
     },
     "metadata": {},
     "output_type": "display_data"
    },
    {
     "data": {
      "application/vnd.jupyter.widget-view+json": {
       "model_id": "131f670f910541e285e2565c3666cfef",
       "version_major": 2,
       "version_minor": 0
      },
      "text/plain": [
       "train_25.csv:   0%|          | 0.00/224M [00:00<?, ?B/s]"
      ]
     },
     "metadata": {},
     "output_type": "display_data"
    },
    {
     "data": {
      "application/vnd.jupyter.widget-view+json": {
       "model_id": "4c2b513bf8c2438c8421280a8905eb41",
       "version_major": 2,
       "version_minor": 0
      },
      "text/plain": [
       "train_26.csv:   0%|          | 0.00/219M [00:00<?, ?B/s]"
      ]
     },
     "metadata": {},
     "output_type": "display_data"
    },
    {
     "data": {
      "application/vnd.jupyter.widget-view+json": {
       "model_id": "84405b5e58e04ac7bb819f79a211014b",
       "version_major": 2,
       "version_minor": 0
      },
      "text/plain": [
       "train_27.csv:   0%|          | 0.00/214M [00:00<?, ?B/s]"
      ]
     },
     "metadata": {},
     "output_type": "display_data"
    },
    {
     "data": {
      "application/vnd.jupyter.widget-view+json": {
       "model_id": "48877b7c04284623869d76031331d05f",
       "version_major": 2,
       "version_minor": 0
      },
      "text/plain": [
       "train_28.csv:   0%|          | 0.00/209M [00:00<?, ?B/s]"
      ]
     },
     "metadata": {},
     "output_type": "display_data"
    },
    {
     "data": {
      "application/vnd.jupyter.widget-view+json": {
       "model_id": "44b066e0c1344835b5a5291e90aaa090",
       "version_major": 2,
       "version_minor": 0
      },
      "text/plain": [
       "train_29.csv:   0%|          | 0.00/205M [00:00<?, ?B/s]"
      ]
     },
     "metadata": {},
     "output_type": "display_data"
    },
    {
     "data": {
      "application/vnd.jupyter.widget-view+json": {
       "model_id": "e9f7f63373e944bf92b13455e5b84af9",
       "version_major": 2,
       "version_minor": 0
      },
      "text/plain": [
       "train_30.csv:   0%|          | 0.00/200M [00:00<?, ?B/s]"
      ]
     },
     "metadata": {},
     "output_type": "display_data"
    },
    {
     "data": {
      "application/vnd.jupyter.widget-view+json": {
       "model_id": "96ae4686132c444da1328e34b2104e91",
       "version_major": 2,
       "version_minor": 0
      },
      "text/plain": [
       "train_31.csv:   0%|          | 0.00/196M [00:00<?, ?B/s]"
      ]
     },
     "metadata": {},
     "output_type": "display_data"
    },
    {
     "data": {
      "application/vnd.jupyter.widget-view+json": {
       "model_id": "ed1269644889455ea8ce622297853232",
       "version_major": 2,
       "version_minor": 0
      },
      "text/plain": [
       "train_32.csv:   0%|          | 0.00/191M [00:00<?, ?B/s]"
      ]
     },
     "metadata": {},
     "output_type": "display_data"
    },
    {
     "data": {
      "application/vnd.jupyter.widget-view+json": {
       "model_id": "32e54890ca9f4b8d91fc955f0f574cb7",
       "version_major": 2,
       "version_minor": 0
      },
      "text/plain": [
       "train_33.csv:   0%|          | 0.00/187M [00:00<?, ?B/s]"
      ]
     },
     "metadata": {},
     "output_type": "display_data"
    },
    {
     "data": {
      "application/vnd.jupyter.widget-view+json": {
       "model_id": "14656f048ba6466f8b9aa7a169f5fe3e",
       "version_major": 2,
       "version_minor": 0
      },
      "text/plain": [
       "train_34.csv:   0%|          | 0.00/183M [00:00<?, ?B/s]"
      ]
     },
     "metadata": {},
     "output_type": "display_data"
    },
    {
     "data": {
      "application/vnd.jupyter.widget-view+json": {
       "model_id": "1ff6a73ca7fe4c6baf9923473946b9a6",
       "version_major": 2,
       "version_minor": 0
      },
      "text/plain": [
       "train_35.csv:   0%|          | 0.00/179M [00:00<?, ?B/s]"
      ]
     },
     "metadata": {},
     "output_type": "display_data"
    },
    {
     "data": {
      "application/vnd.jupyter.widget-view+json": {
       "model_id": "22621079cf904c7086e0066b2e2a10e3",
       "version_major": 2,
       "version_minor": 0
      },
      "text/plain": [
       "train_36.csv:   0%|          | 0.00/176M [00:00<?, ?B/s]"
      ]
     },
     "metadata": {},
     "output_type": "display_data"
    },
    {
     "data": {
      "application/vnd.jupyter.widget-view+json": {
       "model_id": "89a8c66f28c747989d1c843f34e7be16",
       "version_major": 2,
       "version_minor": 0
      },
      "text/plain": [
       "train_37.csv:   0%|          | 0.00/172M [00:00<?, ?B/s]"
      ]
     },
     "metadata": {},
     "output_type": "display_data"
    },
    {
     "data": {
      "application/vnd.jupyter.widget-view+json": {
       "model_id": "54b7d9bf24fa472a8a879bb0c65c1bc7",
       "version_major": 2,
       "version_minor": 0
      },
      "text/plain": [
       "train_38.csv:   0%|          | 0.00/168M [00:00<?, ?B/s]"
      ]
     },
     "metadata": {},
     "output_type": "display_data"
    },
    {
     "data": {
      "application/vnd.jupyter.widget-view+json": {
       "model_id": "8e397672192245fe92e010fd545186a0",
       "version_major": 2,
       "version_minor": 0
      },
      "text/plain": [
       "train_39.csv:   0%|          | 0.00/165M [00:00<?, ?B/s]"
      ]
     },
     "metadata": {},
     "output_type": "display_data"
    },
    {
     "data": {
      "application/vnd.jupyter.widget-view+json": {
       "model_id": "14bc113ff8784176a69f69432b87d7e3",
       "version_major": 2,
       "version_minor": 0
      },
      "text/plain": [
       "train_40.csv:   0%|          | 0.00/161M [00:00<?, ?B/s]"
      ]
     },
     "metadata": {},
     "output_type": "display_data"
    },
    {
     "data": {
      "application/vnd.jupyter.widget-view+json": {
       "model_id": "9de5c7575232458ebb150b9f9a0c1e84",
       "version_major": 2,
       "version_minor": 0
      },
      "text/plain": [
       "train_41.csv:   0%|          | 0.00/158M [00:00<?, ?B/s]"
      ]
     },
     "metadata": {},
     "output_type": "display_data"
    },
    {
     "data": {
      "application/vnd.jupyter.widget-view+json": {
       "model_id": "914f79a459b7441cae8ada56899bec74",
       "version_major": 2,
       "version_minor": 0
      },
      "text/plain": [
       "train_42.csv:   0%|          | 0.00/155M [00:00<?, ?B/s]"
      ]
     },
     "metadata": {},
     "output_type": "display_data"
    },
    {
     "data": {
      "application/vnd.jupyter.widget-view+json": {
       "model_id": "b00b20f40c134b2498fc7de2244da435",
       "version_major": 2,
       "version_minor": 0
      },
      "text/plain": [
       "train_43.csv:   0%|          | 0.00/152M [00:00<?, ?B/s]"
      ]
     },
     "metadata": {},
     "output_type": "display_data"
    },
    {
     "data": {
      "application/vnd.jupyter.widget-view+json": {
       "model_id": "ad30db3c6d214c20ac5227f54fc4993d",
       "version_major": 2,
       "version_minor": 0
      },
      "text/plain": [
       "train_44.csv:   0%|          | 0.00/149M [00:00<?, ?B/s]"
      ]
     },
     "metadata": {},
     "output_type": "display_data"
    },
    {
     "data": {
      "application/vnd.jupyter.widget-view+json": {
       "model_id": "b52302ba6e9540ae81e86eab91f53fc8",
       "version_major": 2,
       "version_minor": 0
      },
      "text/plain": [
       "train_45.csv:   0%|          | 0.00/146M [00:00<?, ?B/s]"
      ]
     },
     "metadata": {},
     "output_type": "display_data"
    },
    {
     "data": {
      "application/vnd.jupyter.widget-view+json": {
       "model_id": "00863c48ca974b74bea89493fcb95b3e",
       "version_major": 2,
       "version_minor": 0
      },
      "text/plain": [
       "train_46.csv:   0%|          | 0.00/143M [00:00<?, ?B/s]"
      ]
     },
     "metadata": {},
     "output_type": "display_data"
    },
    {
     "data": {
      "application/vnd.jupyter.widget-view+json": {
       "model_id": "69c7ff77445d4935a078b9fe7b69289f",
       "version_major": 2,
       "version_minor": 0
      },
      "text/plain": [
       "train_47.csv:   0%|          | 0.00/140M [00:00<?, ?B/s]"
      ]
     },
     "metadata": {},
     "output_type": "display_data"
    },
    {
     "data": {
      "application/vnd.jupyter.widget-view+json": {
       "model_id": "3b65faa827a34c448f588d221cb61022",
       "version_major": 2,
       "version_minor": 0
      },
      "text/plain": [
       "train_48.csv:   0%|          | 0.00/137M [00:00<?, ?B/s]"
      ]
     },
     "metadata": {},
     "output_type": "display_data"
    },
    {
     "data": {
      "application/vnd.jupyter.widget-view+json": {
       "model_id": "8da129b8189b48f9bb044953b0d29cc4",
       "version_major": 2,
       "version_minor": 0
      },
      "text/plain": [
       "train_49.csv:   0%|          | 0.00/134M [00:00<?, ?B/s]"
      ]
     },
     "metadata": {},
     "output_type": "display_data"
    },
    {
     "data": {
      "application/vnd.jupyter.widget-view+json": {
       "model_id": "889ea7bc599e49d58602b8560d182a6b",
       "version_major": 2,
       "version_minor": 0
      },
      "text/plain": [
       "train_50.csv:   0%|          | 0.00/131M [00:00<?, ?B/s]"
      ]
     },
     "metadata": {},
     "output_type": "display_data"
    }
   ],
   "source": [
    "from datasets import load_dataset\n",
    "\n",
    "ds = load_dataset(\"agemagician/uniref50\")"
   ]
  },
  {
   "cell_type": "code",
   "execution_count": null,
   "id": "0a233e97-673e-4862-ba29-e4a1ca6412c5",
   "metadata": {},
   "outputs": [],
   "source": []
  }
 ],
 "metadata": {
  "kernelspec": {
   "display_name": "Python 3 (ipykernel)",
   "language": "python",
   "name": "python3"
  },
  "language_info": {
   "codemirror_mode": {
    "name": "ipython",
    "version": 3
   },
   "file_extension": ".py",
   "mimetype": "text/x-python",
   "name": "python",
   "nbconvert_exporter": "python",
   "pygments_lexer": "ipython3",
   "version": "3.10.12"
  }
 },
 "nbformat": 4,
 "nbformat_minor": 5
}
