{
 "cells": [
  {
   "cell_type": "code",
   "execution_count": 150,
   "id": "67a8d247-14c2-4aba-b4eb-91073541e1c0",
   "metadata": {},
   "outputs": [
    {
     "name": "stdout",
     "output_type": "stream",
     "text": [
      "The autoreload extension is already loaded. To reload it, use:\n",
      "  %reload_ext autoreload\n"
     ]
    }
   ],
   "source": [
    "%load_ext autoreload\n",
    "%autoreload 2"
   ]
  },
  {
   "cell_type": "code",
   "execution_count": 162,
   "id": "aeaa0023-57b8-4001-96cc-033d1449dda8",
   "metadata": {},
   "outputs": [],
   "source": [
    "import datamol as dm\n",
    "import vae_cyc as vc\n",
    "import pandas as pd \n",
    "import pytorch_lightning as pl \n",
    "import wandb\n",
    "import numpy as np\n",
    "from torch.utils.data import DataLoader \n",
    "from pytorch_lightning.loggers import WandbLogger\n",
    "from pytorch_lightning.callbacks import ModelCheckpoint\n",
    "from sklearn.model_selection import train_test_split"
   ]
  },
  {
   "cell_type": "code",
   "execution_count": 163,
   "id": "a20661ea-5a3f-43b2-ba61-f8649138c108",
   "metadata": {},
   "outputs": [],
   "source": [
    "# from datasets import load_dataset\n",
    "\n",
    "# ds = load_dataset(\"sagawa/pubchem-10m-canonicalized\")"
   ]
  },
  {
   "cell_type": "code",
   "execution_count": 164,
   "id": "73115d80-f1ef-4be7-b268-3a2c17b9129f",
   "metadata": {},
   "outputs": [],
   "source": [
    "# df = ds['train'].to_pandas().sample(n=100000)"
   ]
  },
  {
   "cell_type": "code",
   "execution_count": 167,
   "id": "99d46d7b-7aff-4e17-b5ee-24550cf40343",
   "metadata": {
    "scrolled": true
   },
   "outputs": [],
   "source": [
    "df = pd.read_csv('/workspace/moses.csv')\n",
    "df = df.sample(n=1000000)\n",
    "df = df.reset_index()\n"
   ]
  },
  {
   "cell_type": "code",
   "execution_count": 168,
   "id": "023a27dd-1862-4767-919d-09eb24b9a86b",
   "metadata": {},
   "outputs": [
    {
     "name": "stdout",
     "output_type": "stream",
     "text": [
      "extracting charset..\n"
     ]
    },
    {
     "name": "stderr",
     "output_type": "stream",
     "text": [
      "\n",
      "  0%|          | 0/1000000 [00:00<?, ?it/s]\u001b[A\n",
      "  4%|▎         | 36615/1000000 [00:00<00:02, 366132.02it/s]\u001b[A\n",
      "  8%|▊         | 75012/1000000 [00:00<00:02, 376609.63it/s]\u001b[A\n",
      " 11%|█▏        | 113773/1000000 [00:00<00:02, 381628.06it/s]\u001b[A\n",
      " 15%|█▌        | 152336/1000000 [00:00<00:02, 383203.76it/s]\u001b[A\n",
      " 19%|█▉        | 191089/1000000 [00:00<00:02, 384759.96it/s]\u001b[A\n",
      " 23%|██▎       | 229746/1000000 [00:00<00:01, 385370.17it/s]\u001b[A\n",
      " 27%|██▋       | 268424/1000000 [00:00<00:01, 385826.08it/s]\u001b[A\n",
      " 31%|███       | 307007/1000000 [00:00<00:01, 385241.19it/s]\u001b[A\n",
      " 35%|███▍      | 345532/1000000 [00:00<00:01, 385039.08it/s]\u001b[A\n",
      " 38%|███▊      | 384218/1000000 [00:01<00:01, 385596.19it/s]\u001b[A\n",
      " 42%|████▏     | 422873/1000000 [00:01<00:01, 385883.49it/s]\u001b[A\n",
      " 46%|████▌     | 461462/1000000 [00:01<00:01, 385152.41it/s]\u001b[A\n",
      " 50%|█████     | 500166/1000000 [00:01<00:01, 385718.36it/s]\u001b[A\n",
      " 54%|█████▍    | 538739/1000000 [00:01<00:01, 377899.45it/s]\u001b[A\n",
      " 58%|█████▊    | 576564/1000000 [00:01<00:01, 376993.08it/s]\u001b[A\n",
      " 61%|██████▏   | 614681/1000000 [00:01<00:01, 378231.30it/s]\u001b[A\n",
      " 65%|██████▌   | 653167/1000000 [00:01<00:00, 380203.98it/s]\u001b[A\n",
      " 69%|██████▉   | 691620/1000000 [00:01<00:00, 381489.78it/s]\u001b[A\n",
      " 73%|███████▎  | 730168/1000000 [00:01<00:00, 382679.88it/s]\u001b[A\n",
      " 77%|███████▋  | 768444/1000000 [00:02<00:00, 382230.15it/s]\u001b[A\n",
      " 81%|████████  | 806781/1000000 [00:02<00:00, 382567.56it/s]\u001b[A\n",
      " 85%|████████▍ | 845448/1000000 [00:02<00:00, 383791.09it/s]\u001b[A\n",
      " 88%|████████▊ | 884139/1000000 [00:02<00:00, 384721.90it/s]\u001b[A\n",
      " 93%|█████████▎| 927196/1000000 [00:02<00:00, 398461.03it/s]\u001b[A\n",
      "100%|██████████| 1000000/1000000 [00:02<00:00, 389608.63it/s][A\n"
     ]
    }
   ],
   "source": [
    "vocab = vc.Vocab(df, 'SMILES')\n",
    "df['str_len'] = df.SMILES.str.len()"
   ]
  },
  {
   "cell_type": "code",
   "execution_count": 169,
   "id": "c673219a-4e7f-48e9-be1f-57b24c098904",
   "metadata": {},
   "outputs": [
    {
     "data": {
      "text/plain": [
       "{'<sos>': 0,\n",
       " '<eos>': 1,\n",
       " '<pad>': 2,\n",
       " '<unk>': 3,\n",
       " 'C': 4,\n",
       " 'N': 5,\n",
       " 'c': 6,\n",
       " '1': 7,\n",
       " 'n': 8,\n",
       " 'S': 9,\n",
       " '(': 10,\n",
       " '=': 11,\n",
       " 'O': 12,\n",
       " ')': 13,\n",
       " '2': 14,\n",
       " '3': 15,\n",
       " 's': 16,\n",
       " 'o': 17,\n",
       " '-': 18,\n",
       " 'Q': 19,\n",
       " 'F': 20,\n",
       " '#': 21,\n",
       " 'X': 22,\n",
       " 'W': 23,\n",
       " '4': 24,\n",
       " '5': 25,\n",
       " 'Y': 26,\n",
       " '6': 27}"
      ]
     },
     "execution_count": 169,
     "metadata": {},
     "output_type": "execute_result"
    }
   ],
   "source": [
    "vocab.char2idx"
   ]
  },
  {
   "cell_type": "code",
   "execution_count": 170,
   "id": "a3e72a79-f26d-4d4a-b4ed-614b88d86c11",
   "metadata": {
    "scrolled": true
   },
   "outputs": [
    {
     "name": "stderr",
     "output_type": "stream",
     "text": [
      "\n",
      "  0%|          | 0/900000 [00:00<?, ?it/s]\u001b[A\n",
      "  3%|▎         | 23564/900000 [00:00<00:03, 235628.99it/s]\u001b[A\n",
      "  5%|▌         | 47127/900000 [00:00<00:12, 69130.97it/s] \u001b[A\n",
      "  8%|▊         | 70730/900000 [00:00<00:08, 102139.47it/s]\u001b[A\n",
      " 10%|█         | 94212/900000 [00:00<00:06, 131367.63it/s]\u001b[A\n",
      " 13%|█▎        | 117471/900000 [00:00<00:05, 155596.25it/s]\u001b[A\n",
      " 16%|█▌        | 140875/900000 [00:01<00:04, 175583.76it/s]\u001b[A\n",
      " 18%|█▊        | 164086/900000 [00:01<00:03, 190667.67it/s]\u001b[A\n",
      " 21%|██        | 187391/900000 [00:01<00:03, 202364.00it/s]\u001b[A\n",
      " 23%|██▎       | 210910/900000 [00:01<00:03, 211632.64it/s]\u001b[A\n",
      " 26%|██▌       | 234260/900000 [00:01<00:03, 217921.54it/s]\u001b[A\n",
      " 29%|██▊       | 257303/900000 [00:01<00:05, 109865.33it/s]\u001b[A\n",
      " 31%|███       | 280634/900000 [00:01<00:04, 130979.58it/s]\u001b[A\n",
      " 34%|███▍      | 304193/900000 [00:02<00:03, 151521.34it/s]\u001b[A\n",
      " 36%|███▋      | 327471/900000 [00:02<00:03, 169320.91it/s]\u001b[A\n",
      " 39%|███▉      | 350934/900000 [00:02<00:02, 184885.24it/s]\u001b[A\n",
      " 42%|████▏     | 374325/900000 [00:02<00:02, 197335.64it/s]\u001b[A\n",
      " 44%|████▍     | 397733/900000 [00:02<00:02, 207116.39it/s]\u001b[A\n",
      " 47%|████▋     | 421680/900000 [00:02<00:02, 216028.02it/s]\u001b[A\n",
      " 49%|████▉     | 445336/900000 [00:02<00:02, 221825.20it/s]\u001b[A\n",
      " 52%|█████▏    | 468922/900000 [00:02<00:01, 225855.58it/s]\u001b[A\n",
      " 55%|█████▍    | 492282/900000 [00:02<00:01, 227956.82it/s]\u001b[A\n",
      " 57%|█████▋    | 515872/900000 [00:02<00:01, 230285.92it/s]\u001b[A\n",
      " 60%|█████▉    | 539290/900000 [00:03<00:03, 104259.12it/s]\u001b[A\n",
      " 63%|██████▎   | 567611/900000 [00:03<00:02, 132850.36it/s]\u001b[A\n",
      " 66%|██████▋   | 596525/900000 [00:03<00:01, 161893.30it/s]\u001b[A\n",
      " 69%|██████▉   | 624744/900000 [00:03<00:01, 187127.96it/s]\u001b[A\n",
      " 73%|███████▎  | 653662/900000 [00:03<00:01, 210657.24it/s]\u001b[A\n",
      " 76%|███████▌  | 682761/900000 [00:03<00:00, 230559.92it/s]\u001b[A\n",
      " 79%|███████▉  | 711545/900000 [00:04<00:00, 245532.85it/s]\u001b[A\n",
      " 82%|████████▏ | 740304/900000 [00:04<00:00, 256966.18it/s]\u001b[A\n",
      " 85%|████████▌ | 769277/900000 [00:04<00:00, 266129.82it/s]\u001b[A\n",
      " 89%|████████▊ | 798522/900000 [00:04<00:00, 273643.48it/s]\u001b[A\n",
      " 92%|█████████▏| 827483/900000 [00:04<00:00, 278265.35it/s]\u001b[A\n",
      " 95%|█████████▌| 856133/900000 [00:04<00:00, 276796.05it/s]\u001b[A\n",
      "100%|██████████| 900000/900000 [00:05<00:00, 174186.92it/s]\u001b[A\n",
      "\n",
      "  0%|          | 0/100000 [00:00<?, ?it/s]\u001b[A\n",
      " 29%|██▊       | 28552/100000 [00:00<00:00, 285507.34it/s]\u001b[A\n",
      " 58%|█████▊    | 57824/100000 [00:00<00:00, 289744.88it/s]\u001b[A\n",
      "100%|██████████| 100000/100000 [00:00<00:00, 287192.18it/s][A\n"
     ]
    }
   ],
   "source": [
    "train_df, val_df = train_test_split(df, test_size=0.1)\n",
    "\n",
    "train_dataset = vc.TransformerSMILESDataset(train_df.SMILES.values, vocab, 128 , pretokenize=True)\n",
    "\n",
    "val_dataset = vc.TransformerSMILESDataset(val_df.SMILES.values, vocab, 128, pretokenize=True)\n",
    "\n",
    "checkpoint_callback = ModelCheckpoint(dirpath='/workspace/pubchem-vae-large/', verbose=True, save_top_k=3,monitor='train_loss',save_last=True)"
   ]
  },
  {
   "cell_type": "code",
   "execution_count": 171,
   "id": "c18bfc3b-c903-44e5-8401-7e2a24055128",
   "metadata": {},
   "outputs": [
    {
     "data": {
      "text/plain": [
       "128"
      ]
     },
     "execution_count": 171,
     "metadata": {},
     "output_type": "execute_result"
    }
   ],
   "source": [
    "train_dataset.max_len"
   ]
  },
  {
   "cell_type": "code",
   "execution_count": 172,
   "id": "68919280-7f98-45ba-aefc-a44097f08575",
   "metadata": {},
   "outputs": [],
   "source": [
    "train_dl = DataLoader(train_dataset,batch_size=128,shuffle=True, collate_fn=train_dataset.collate,num_workers=0)\n",
    "val_dl = DataLoader(val_dataset, batch_size=128, shuffle=False, collate_fn=train_dataset.collate, num_workers=0)"
   ]
  },
  {
   "cell_type": "code",
   "execution_count": 173,
   "id": "bf76e46d-f21e-43d5-a9ce-c039cd82f6e5",
   "metadata": {},
   "outputs": [
    {
     "data": {
      "text/html": [
       "Finishing last run (ID:bbvwr8p0) before initializing another..."
      ],
      "text/plain": [
       "<IPython.core.display.HTML object>"
      ]
     },
     "metadata": {},
     "output_type": "display_data"
    },
    {
     "data": {
      "text/html": [
       "\n",
       "    <style>\n",
       "        .wandb-row {\n",
       "            display: flex;\n",
       "            flex-direction: row;\n",
       "            flex-wrap: wrap;\n",
       "            justify-content: flex-start;\n",
       "            width: 100%;\n",
       "        }\n",
       "        .wandb-col {\n",
       "            display: flex;\n",
       "            flex-direction: column;\n",
       "            flex-basis: 100%;\n",
       "            flex: 1;\n",
       "            padding: 10px;\n",
       "        }\n",
       "    </style>\n",
       "<div class=\"wandb-row\"><div class=\"wandb-col\"><h3>Run history:</h3><br/><table class=\"wandb\"><tr><td>epoch</td><td>▁▁▁▁▁▁▁▁▃▃▃▃▃▃▃▃▆▆▆▆▆▆▆▆█</td></tr><tr><td>train_kl_loss</td><td>█▄▃▁▁▁▁▁▂▁▁▁▁▁▁▁▁▁▁▁▁▂</td></tr><tr><td>train_kl_weight</td><td>▁▃▅▆████████████████▁▃</td></tr><tr><td>train_loss</td><td>█▇▅▄▃▃▃▃▂▂▂▂▂▂▂▁▁▁▁▁▁▁</td></tr><tr><td>train_r_loss</td><td>█▇▅▄▃▃▃▃▂▂▂▂▂▂▂▁▁▁▁▁▁▁</td></tr><tr><td>trainer/global_step</td><td>▁▁▂▂▂▃▃▃▃▄▄▄▅▅▅▅▆▆▆▇▇▇███</td></tr><tr><td>val_kl_loss</td><td>▄█▁</td></tr><tr><td>val_loss</td><td>█▃▁</td></tr><tr><td>val_r_loss</td><td>█▃▁</td></tr></table><br/></div><div class=\"wandb-col\"><h3>Run summary:</h3><br/><table class=\"wandb\"><tr><td>epoch</td><td>3</td></tr><tr><td>train_kl_loss</td><td>56.6227</td></tr><tr><td>train_kl_weight</td><td>0.2475</td></tr><tr><td>train_loss</td><td>5186.31006</td></tr><tr><td>train_r_loss</td><td>5129.6875</td></tr><tr><td>trainer/global_step</td><td>1099</td></tr><tr><td>val_kl_loss</td><td>29.82935</td></tr><tr><td>val_loss</td><td>4828.0332</td></tr><tr><td>val_r_loss</td><td>4798.20361</td></tr></table><br/></div></div>"
      ],
      "text/plain": [
       "<IPython.core.display.HTML object>"
      ]
     },
     "metadata": {},
     "output_type": "display_data"
    },
    {
     "data": {
      "text/html": [
       " View run <strong style=\"color:#cdcd00\">rare-glitter-155</strong> at: <a href='https://wandb.ai/rhaddad7/vae-cyc-notebooks_workspace_vae-cyc_notebooks/runs/bbvwr8p0' target=\"_blank\">https://wandb.ai/rhaddad7/vae-cyc-notebooks_workspace_vae-cyc_notebooks/runs/bbvwr8p0</a><br/> View project at: <a href='https://wandb.ai/rhaddad7/vae-cyc-notebooks_workspace_vae-cyc_notebooks' target=\"_blank\">https://wandb.ai/rhaddad7/vae-cyc-notebooks_workspace_vae-cyc_notebooks</a><br/>Synced 5 W&B file(s), 0 media file(s), 0 artifact file(s) and 0 other file(s)"
      ],
      "text/plain": [
       "<IPython.core.display.HTML object>"
      ]
     },
     "metadata": {},
     "output_type": "display_data"
    },
    {
     "data": {
      "text/html": [
       "Find logs at: <code>./wandb/run-20241119_221926-bbvwr8p0/logs</code>"
      ],
      "text/plain": [
       "<IPython.core.display.HTML object>"
      ]
     },
     "metadata": {},
     "output_type": "display_data"
    },
    {
     "data": {
      "text/html": [
       "Successfully finished last run (ID:bbvwr8p0). Initializing new run:<br/>"
      ],
      "text/plain": [
       "<IPython.core.display.HTML object>"
      ]
     },
     "metadata": {},
     "output_type": "display_data"
    },
    {
     "data": {
      "text/html": [
       "Tracking run with wandb version 0.18.6"
      ],
      "text/plain": [
       "<IPython.core.display.HTML object>"
      ]
     },
     "metadata": {},
     "output_type": "display_data"
    },
    {
     "data": {
      "text/html": [
       "Run data is saved locally in <code>/workspace/vae-cyc/notebooks/wandb/run-20241119_222509-6tix8f2x</code>"
      ],
      "text/plain": [
       "<IPython.core.display.HTML object>"
      ]
     },
     "metadata": {},
     "output_type": "display_data"
    },
    {
     "data": {
      "text/html": [
       "Syncing run <strong><a href='https://wandb.ai/rhaddad7/vae-cyc-notebooks_workspace_vae-cyc_notebooks/runs/6tix8f2x' target=\"_blank\">electric-surf-156</a></strong> to <a href='https://wandb.ai/rhaddad7/vae-cyc-notebooks_workspace_vae-cyc_notebooks' target=\"_blank\">Weights & Biases</a> (<a href='https://wandb.me/developer-guide' target=\"_blank\">docs</a>)<br/>"
      ],
      "text/plain": [
       "<IPython.core.display.HTML object>"
      ]
     },
     "metadata": {},
     "output_type": "display_data"
    },
    {
     "data": {
      "text/html": [
       " View project at <a href='https://wandb.ai/rhaddad7/vae-cyc-notebooks_workspace_vae-cyc_notebooks' target=\"_blank\">https://wandb.ai/rhaddad7/vae-cyc-notebooks_workspace_vae-cyc_notebooks</a>"
      ],
      "text/plain": [
       "<IPython.core.display.HTML object>"
      ]
     },
     "metadata": {},
     "output_type": "display_data"
    },
    {
     "data": {
      "text/html": [
       " View run at <a href='https://wandb.ai/rhaddad7/vae-cyc-notebooks_workspace_vae-cyc_notebooks/runs/6tix8f2x' target=\"_blank\">https://wandb.ai/rhaddad7/vae-cyc-notebooks_workspace_vae-cyc_notebooks/runs/6tix8f2x</a>"
      ],
      "text/plain": [
       "<IPython.core.display.HTML object>"
      ]
     },
     "metadata": {},
     "output_type": "display_data"
    },
    {
     "data": {
      "text/html": [
       "<button onClick=\"this.nextSibling.style.display='block';this.style.display='none';\">Display W&B run</button><iframe src='https://wandb.ai/rhaddad7/vae-cyc-notebooks_workspace_vae-cyc_notebooks/runs/6tix8f2x?jupyter=true' style='border:none;width:100%;height:420px;display:none;'></iframe>"
      ],
      "text/plain": [
       "<wandb.sdk.wandb_run.Run at 0x727afbdfdba0>"
      ]
     },
     "execution_count": 173,
     "metadata": {},
     "output_type": "execute_result"
    }
   ],
   "source": [
    "wandb_logger = WandbLogger(project=\"run_pod\", log_model=True)\n",
    "wandb.init()"
   ]
  },
  {
   "cell_type": "code",
   "execution_count": 174,
   "id": "370709f1-fb30-41ff-ab71-5431f9bb78af",
   "metadata": {},
   "outputs": [
    {
     "name": "stderr",
     "output_type": "stream",
     "text": [
      "GPU available: True (cuda), used: True\n",
      "TPU available: False, using: 0 TPU cores\n",
      "HPU available: False, using: 0 HPUs\n"
     ]
    }
   ],
   "source": [
    "trainer = pl.Trainer(logger=wandb_logger, callbacks=[checkpoint_callback],devices=1)"
   ]
  },
  {
   "cell_type": "code",
   "execution_count": 175,
   "id": "702b29f9-daad-4aca-9b50-a8d5a272c1a3",
   "metadata": {},
   "outputs": [],
   "source": [
    "model = vc.Transformer(vocab_size=len(vocab.char2idx), \n",
    "                       num_heads=4, \n",
    "                       hidden_dim=32, \n",
    "                       num_layers=10, \n",
    "                       embed_size=128, \n",
    "                       latent_dim=128, \n",
    "                       vocab=vocab, \n",
    "                       max_seq_length=train_dataset.max_len)"
   ]
  },
  {
   "cell_type": "code",
   "execution_count": 176,
   "id": "6f2d054e-b6a7-4fb6-bdd1-328f93b0bfa5",
   "metadata": {},
   "outputs": [
    {
     "data": {
      "text/plain": [
       "128"
      ]
     },
     "execution_count": 176,
     "metadata": {},
     "output_type": "execute_result"
    }
   ],
   "source": [
    "train_dataset.max_len"
   ]
  },
  {
   "cell_type": "code",
   "execution_count": null,
   "id": "eab0e3f8-12fc-4c86-95c5-7cb313aa76ec",
   "metadata": {
    "scrolled": true
   },
   "outputs": [
    {
     "name": "stderr",
     "output_type": "stream",
     "text": [
      "/usr/local/lib/python3.10/dist-packages/pytorch_lightning/loops/utilities.py:72: `max_epochs` was not set. Setting it to 1000 epochs. To train without an epoch limit, set `max_epochs=-1`.\n",
      "/usr/local/lib/python3.10/dist-packages/pytorch_lightning/utilities/parsing.py:44: Attribute 'vocab' removed from hparams because it cannot be pickled. You can suppress this warning by setting `self.save_hyperparameters(ignore=['vocab'])`.\n",
      "/usr/local/lib/python3.10/dist-packages/pytorch_lightning/loggers/wandb.py:396: There is a wandb run already in progress and newly created instances of `WandbLogger` will reuse this run. If this is not desired, call `wandb.finish()` before instantiating `WandbLogger`.\n",
      "/usr/local/lib/python3.10/dist-packages/pytorch_lightning/callbacks/model_checkpoint.py:654: Checkpoint directory /workspace/pubchem-vae-large exists and is not empty.\n",
      "LOCAL_RANK: 0 - CUDA_VISIBLE_DEVICES: [0]\n",
      "\n",
      "  | Name                | Type               | Params | Mode \n",
      "-------------------------------------------------------------------\n",
      "0 | embedding           | Embedding          | 3.6 K  | train\n",
      "1 | encoder             | TransformerEncoder | 749 K  | train\n",
      "2 | fc_mu               | Linear             | 16.5 K | train\n",
      "3 | fc_logvar           | Linear             | 16.5 K | train\n",
      "4 | fc_latent_to_hidden | Linear             | 16.5 K | train\n",
      "5 | decoder             | TransformerDecoder | 1.4 M  | train\n",
      "6 | output_fc           | Linear             | 3.6 K  | train\n",
      "7 | criterion           | CrossEntropyLoss   | 0      | train\n",
      "  | other params        | n/a                | 16.4 K | n/a  \n",
      "-------------------------------------------------------------------\n",
      "2.2 M     Trainable params\n",
      "0         Non-trainable params\n",
      "2.2 M     Total params\n",
      "8.938     Total estimated model params size (MB)\n",
      "250       Modules in train mode\n",
      "0         Modules in eval mode\n"
     ]
    },
    {
     "data": {
      "application/vnd.jupyter.widget-view+json": {
       "model_id": "",
       "version_major": 2,
       "version_minor": 0
      },
      "text/plain": [
       "Sanity Checking: |          | 0/? [00:00<?, ?it/s]"
      ]
     },
     "metadata": {},
     "output_type": "display_data"
    },
    {
     "name": "stderr",
     "output_type": "stream",
     "text": [
      "/usr/local/lib/python3.10/dist-packages/pytorch_lightning/trainer/connectors/data_connector.py:424: The 'val_dataloader' does not have many workers which may be a bottleneck. Consider increasing the value of the `num_workers` argument` to `num_workers=95` in the `DataLoader` to improve performance.\n",
      "/usr/local/lib/python3.10/dist-packages/pytorch_lightning/trainer/connectors/data_connector.py:424: The 'train_dataloader' does not have many workers which may be a bottleneck. Consider increasing the value of the `num_workers` argument` to `num_workers=95` in the `DataLoader` to improve performance.\n"
     ]
    },
    {
     "data": {
      "application/vnd.jupyter.widget-view+json": {
       "model_id": "1d04db0431f14bea8723cc971ef51e07",
       "version_major": 2,
       "version_minor": 0
      },
      "text/plain": [
       "Training: |          | 0/? [00:00<?, ?it/s]"
      ]
     },
     "metadata": {},
     "output_type": "display_data"
    }
   ],
   "source": [
    "trainer.fit(model, train_dl, val_dl)"
   ]
  },
  {
   "cell_type": "code",
   "execution_count": 143,
   "id": "9631878f-4359-424c-ac33-e31d66c0fac0",
   "metadata": {},
   "outputs": [],
   "source": [
    "model = model.eval()"
   ]
  },
  {
   "cell_type": "code",
   "execution_count": 144,
   "id": "9d7ceb0a-7d30-471a-a95b-eadf2f00ddf0",
   "metadata": {},
   "outputs": [],
   "source": [
    "model = model.to('cuda:0')"
   ]
  },
  {
   "cell_type": "code",
   "execution_count": 149,
   "id": "62774258-21a3-4be2-bbd8-423a0f5d16d8",
   "metadata": {},
   "outputs": [
    {
     "name": "stdout",
     "output_type": "stream",
     "text": [
      "COC(=O)c1cc(-c2ccc3c(c2)OCO3)[nH]c1N\n",
      "['COC(=O)c1cc(-c2ccc3c(c2)OCO3)[nH]c1N', 'CCC(C)C(=O)NCC(=O)NCCC1CCCCC1']\n"
     ]
    },
    {
     "data": {
      "image/svg+xml": [
       "<svg xmlns=\"http://www.w3.org/2000/svg\" xmlns:rdkit=\"http://www.rdkit.org/xml\" xmlns:xlink=\"http://www.w3.org/1999/xlink\" version=\"1.1\" baseProfile=\"full\" xml:space=\"preserve\" width=\"600px\" height=\"300px\" viewBox=\"0 0 600 300\">\n",
       "<!-- END OF HEADER -->\n",
       "<rect style=\"opacity:1.0;fill:#FFFFFF;stroke:none\" width=\"600.0\" height=\"300.0\" x=\"0.0\" y=\"0.0\"> </rect>\n",
       "<path class=\"bond-0 atom-0 atom-1\" d=\"M 269.7,137.6 L 259.1,142.2\" style=\"fill:none;fill-rule:evenodd;stroke:#000000;stroke-width:2.0px;stroke-linecap:butt;stroke-linejoin:miter;stroke-opacity:1\"/>\n",
       "<path class=\"bond-0 atom-0 atom-1\" d=\"M 259.1,142.2 L 248.4,146.9\" style=\"fill:none;fill-rule:evenodd;stroke:#FF0000;stroke-width:2.0px;stroke-linecap:butt;stroke-linejoin:miter;stroke-opacity:1\"/>\n",
       "<path class=\"bond-1 atom-1 atom-2\" d=\"M 239.3,145.5 L 230.2,138.8\" style=\"fill:none;fill-rule:evenodd;stroke:#FF0000;stroke-width:2.0px;stroke-linecap:butt;stroke-linejoin:miter;stroke-opacity:1\"/>\n",
       "<path class=\"bond-1 atom-1 atom-2\" d=\"M 230.2,138.8 L 221.2,132.1\" style=\"fill:none;fill-rule:evenodd;stroke:#000000;stroke-width:2.0px;stroke-linecap:butt;stroke-linejoin:miter;stroke-opacity:1\"/>\n",
       "<path class=\"bond-2 atom-2 atom-3\" d=\"M 223.2,133.5 L 224.5,121.5\" style=\"fill:none;fill-rule:evenodd;stroke:#000000;stroke-width:2.0px;stroke-linecap:butt;stroke-linejoin:miter;stroke-opacity:1\"/>\n",
       "<path class=\"bond-2 atom-2 atom-3\" d=\"M 224.5,121.5 L 225.9,109.4\" style=\"fill:none;fill-rule:evenodd;stroke:#FF0000;stroke-width:2.0px;stroke-linecap:butt;stroke-linejoin:miter;stroke-opacity:1\"/>\n",
       "<path class=\"bond-2 atom-2 atom-3\" d=\"M 219.0,133.1 L 220.3,121.0\" style=\"fill:none;fill-rule:evenodd;stroke:#000000;stroke-width:2.0px;stroke-linecap:butt;stroke-linejoin:miter;stroke-opacity:1\"/>\n",
       "<path class=\"bond-2 atom-2 atom-3\" d=\"M 220.3,121.0 L 221.7,108.9\" style=\"fill:none;fill-rule:evenodd;stroke:#FF0000;stroke-width:2.0px;stroke-linecap:butt;stroke-linejoin:miter;stroke-opacity:1\"/>\n",
       "<path class=\"bond-3 atom-2 atom-4\" d=\"M 221.2,132.1 L 195.4,143.3\" style=\"fill:none;fill-rule:evenodd;stroke:#000000;stroke-width:2.0px;stroke-linecap:butt;stroke-linejoin:miter;stroke-opacity:1\"/>\n",
       "<path class=\"bond-4 atom-4 atom-5\" d=\"M 195.4,143.3 L 171.1,129.1\" style=\"fill:none;fill-rule:evenodd;stroke:#000000;stroke-width:2.0px;stroke-linecap:butt;stroke-linejoin:miter;stroke-opacity:1\"/>\n",
       "<path class=\"bond-5 atom-5 atom-6\" d=\"M 171.1,129.1 L 150.0,147.7\" style=\"fill:none;fill-rule:evenodd;stroke:#000000;stroke-width:2.0px;stroke-linecap:butt;stroke-linejoin:miter;stroke-opacity:1\"/>\n",
       "<path class=\"bond-5 atom-5 atom-6\" d=\"M 171.6,134.3 L 155.1,148.9\" style=\"fill:none;fill-rule:evenodd;stroke:#000000;stroke-width:2.0px;stroke-linecap:butt;stroke-linejoin:miter;stroke-opacity:1\"/>\n",
       "<path class=\"bond-6 atom-6 atom-7\" d=\"M 150.0,147.7 L 122.5,141.6\" style=\"fill:none;fill-rule:evenodd;stroke:#000000;stroke-width:2.0px;stroke-linecap:butt;stroke-linejoin:miter;stroke-opacity:1\"/>\n",
       "<path class=\"bond-7 atom-7 atom-8\" d=\"M 122.5,141.6 L 114.0,114.8\" style=\"fill:none;fill-rule:evenodd;stroke:#000000;stroke-width:2.0px;stroke-linecap:butt;stroke-linejoin:miter;stroke-opacity:1\"/>\n",
       "<path class=\"bond-7 atom-7 atom-8\" d=\"M 117.7,140.6 L 110.7,118.4\" style=\"fill:none;fill-rule:evenodd;stroke:#000000;stroke-width:2.0px;stroke-linecap:butt;stroke-linejoin:miter;stroke-opacity:1\"/>\n",
       "<path class=\"bond-8 atom-8 atom-9\" d=\"M 114.0,114.8 L 86.5,108.7\" style=\"fill:none;fill-rule:evenodd;stroke:#000000;stroke-width:2.0px;stroke-linecap:butt;stroke-linejoin:miter;stroke-opacity:1\"/>\n",
       "<path class=\"bond-9 atom-9 atom-10\" d=\"M 86.5,108.7 L 67.4,129.5\" style=\"fill:none;fill-rule:evenodd;stroke:#000000;stroke-width:2.0px;stroke-linecap:butt;stroke-linejoin:miter;stroke-opacity:1\"/>\n",
       "<path class=\"bond-9 atom-9 atom-10\" d=\"M 87.9,113.3 L 72.2,130.5\" style=\"fill:none;fill-rule:evenodd;stroke:#000000;stroke-width:2.0px;stroke-linecap:butt;stroke-linejoin:miter;stroke-opacity:1\"/>\n",
       "<path class=\"bond-10 atom-10 atom-11\" d=\"M 67.4,129.5 L 75.9,156.3\" style=\"fill:none;fill-rule:evenodd;stroke:#000000;stroke-width:2.0px;stroke-linecap:butt;stroke-linejoin:miter;stroke-opacity:1\"/>\n",
       "<path class=\"bond-11 atom-11 atom-12\" d=\"M 75.9,156.3 L 103.4,162.4\" style=\"fill:none;fill-rule:evenodd;stroke:#000000;stroke-width:2.0px;stroke-linecap:butt;stroke-linejoin:miter;stroke-opacity:1\"/>\n",
       "<path class=\"bond-11 atom-11 atom-12\" d=\"M 79.2,152.7 L 102.0,157.8\" style=\"fill:none;fill-rule:evenodd;stroke:#000000;stroke-width:2.0px;stroke-linecap:butt;stroke-linejoin:miter;stroke-opacity:1\"/>\n",
       "<path class=\"bond-12 atom-11 atom-13\" d=\"M 75.9,156.3 L 66.7,162.9\" style=\"fill:none;fill-rule:evenodd;stroke:#000000;stroke-width:2.0px;stroke-linecap:butt;stroke-linejoin:miter;stroke-opacity:1\"/>\n",
       "<path class=\"bond-12 atom-11 atom-13\" d=\"M 66.7,162.9 L 57.6,169.4\" style=\"fill:none;fill-rule:evenodd;stroke:#FF0000;stroke-width:2.0px;stroke-linecap:butt;stroke-linejoin:miter;stroke-opacity:1\"/>\n",
       "<path class=\"bond-13 atom-13 atom-14\" d=\"M 48.4,169.3 L 39.3,162.6\" style=\"fill:none;fill-rule:evenodd;stroke:#FF0000;stroke-width:2.0px;stroke-linecap:butt;stroke-linejoin:miter;stroke-opacity:1\"/>\n",
       "<path class=\"bond-13 atom-13 atom-14\" d=\"M 39.3,162.6 L 30.3,156.0\" style=\"fill:none;fill-rule:evenodd;stroke:#000000;stroke-width:2.0px;stroke-linecap:butt;stroke-linejoin:miter;stroke-opacity:1\"/>\n",
       "<path class=\"bond-14 atom-14 atom-15\" d=\"M 30.3,156.0 L 33.9,145.1\" style=\"fill:none;fill-rule:evenodd;stroke:#000000;stroke-width:2.0px;stroke-linecap:butt;stroke-linejoin:miter;stroke-opacity:1\"/>\n",
       "<path class=\"bond-14 atom-14 atom-15\" d=\"M 33.9,145.1 L 37.5,134.3\" style=\"fill:none;fill-rule:evenodd;stroke:#FF0000;stroke-width:2.0px;stroke-linecap:butt;stroke-linejoin:miter;stroke-opacity:1\"/>\n",
       "<path class=\"bond-15 atom-6 atom-16\" d=\"M 150.0,147.7 L 154.5,158.2\" style=\"fill:none;fill-rule:evenodd;stroke:#000000;stroke-width:2.0px;stroke-linecap:butt;stroke-linejoin:miter;stroke-opacity:1\"/>\n",
       "<path class=\"bond-15 atom-6 atom-16\" d=\"M 154.5,158.2 L 159.1,168.6\" style=\"fill:none;fill-rule:evenodd;stroke:#0000FF;stroke-width:2.0px;stroke-linecap:butt;stroke-linejoin:miter;stroke-opacity:1\"/>\n",
       "<path class=\"bond-16 atom-16 atom-17\" d=\"M 165.2,173.2 L 177.2,172.0\" style=\"fill:none;fill-rule:evenodd;stroke:#0000FF;stroke-width:2.0px;stroke-linecap:butt;stroke-linejoin:miter;stroke-opacity:1\"/>\n",
       "<path class=\"bond-16 atom-16 atom-17\" d=\"M 177.2,172.0 L 189.3,170.9\" style=\"fill:none;fill-rule:evenodd;stroke:#000000;stroke-width:2.0px;stroke-linecap:butt;stroke-linejoin:miter;stroke-opacity:1\"/>\n",
       "<path class=\"bond-17 atom-17 atom-18\" d=\"M 189.3,170.9 L 196.6,179.2\" style=\"fill:none;fill-rule:evenodd;stroke:#000000;stroke-width:2.0px;stroke-linecap:butt;stroke-linejoin:miter;stroke-opacity:1\"/>\n",
       "<path class=\"bond-17 atom-17 atom-18\" d=\"M 196.6,179.2 L 204.0,187.5\" style=\"fill:none;fill-rule:evenodd;stroke:#0000FF;stroke-width:2.0px;stroke-linecap:butt;stroke-linejoin:miter;stroke-opacity:1\"/>\n",
       "<path class=\"bond-18 atom-17 atom-4\" d=\"M 189.3,170.9 L 195.4,143.3\" style=\"fill:none;fill-rule:evenodd;stroke:#000000;stroke-width:2.0px;stroke-linecap:butt;stroke-linejoin:miter;stroke-opacity:1\"/>\n",
       "<path class=\"bond-18 atom-17 atom-4\" d=\"M 185.8,166.9 L 190.6,145.4\" style=\"fill:none;fill-rule:evenodd;stroke:#000000;stroke-width:2.0px;stroke-linecap:butt;stroke-linejoin:miter;stroke-opacity:1\"/>\n",
       "<path class=\"bond-19 atom-12 atom-7\" d=\"M 103.4,162.4 L 122.5,141.6\" style=\"fill:none;fill-rule:evenodd;stroke:#000000;stroke-width:2.0px;stroke-linecap:butt;stroke-linejoin:miter;stroke-opacity:1\"/>\n",
       "<path class=\"bond-20 atom-15 atom-10\" d=\"M 43.8,129.3 L 55.6,129.4\" style=\"fill:none;fill-rule:evenodd;stroke:#FF0000;stroke-width:2.0px;stroke-linecap:butt;stroke-linejoin:miter;stroke-opacity:1\"/>\n",
       "<path class=\"bond-20 atom-15 atom-10\" d=\"M 55.6,129.4 L 67.4,129.5\" style=\"fill:none;fill-rule:evenodd;stroke:#000000;stroke-width:2.0px;stroke-linecap:butt;stroke-linejoin:miter;stroke-opacity:1\"/>\n",
       "<path d=\"M 221.6,132.4 L 221.2,132.1 L 219.9,132.7\" style=\"fill:none;stroke:#000000;stroke-width:2.0px;stroke-linecap:butt;stroke-linejoin:miter;stroke-opacity:1;\"/>\n",
       "<path d=\"M 172.3,129.8 L 171.1,129.1 L 170.0,130.0\" style=\"fill:none;stroke:#000000;stroke-width:2.0px;stroke-linecap:butt;stroke-linejoin:miter;stroke-opacity:1;\"/>\n",
       "<path d=\"M 114.4,116.1 L 114.0,114.8 L 112.6,114.5\" style=\"fill:none;stroke:#000000;stroke-width:2.0px;stroke-linecap:butt;stroke-linejoin:miter;stroke-opacity:1;\"/>\n",
       "<path d=\"M 87.8,109.0 L 86.5,108.7 L 85.5,109.7\" style=\"fill:none;stroke:#000000;stroke-width:2.0px;stroke-linecap:butt;stroke-linejoin:miter;stroke-opacity:1;\"/>\n",
       "<path d=\"M 102.0,162.1 L 103.4,162.4 L 104.4,161.4\" style=\"fill:none;stroke:#000000;stroke-width:2.0px;stroke-linecap:butt;stroke-linejoin:miter;stroke-opacity:1;\"/>\n",
       "<path d=\"M 30.8,156.3 L 30.3,156.0 L 30.5,155.4\" style=\"fill:none;stroke:#000000;stroke-width:2.0px;stroke-linecap:butt;stroke-linejoin:miter;stroke-opacity:1;\"/>\n",
       "<path class=\"atom-1\" d=\"M 240.2 148.9 Q 240.2 147.0, 241.1 145.9 Q 242.1 144.8, 243.8 144.8 Q 245.6 144.8, 246.6 145.9 Q 247.5 147.0, 247.5 148.9 Q 247.5 150.8, 246.6 151.9 Q 245.6 153.0, 243.8 153.0 Q 242.1 153.0, 241.1 151.9 Q 240.2 150.8, 240.2 148.9 M 243.8 152.1 Q 245.1 152.1, 245.7 151.3 Q 246.4 150.5, 246.4 148.9 Q 246.4 147.3, 245.7 146.5 Q 245.1 145.7, 243.8 145.7 Q 242.6 145.7, 242.0 146.5 Q 241.3 147.3, 241.3 148.9 Q 241.3 150.5, 242.0 151.3 Q 242.6 152.1, 243.8 152.1 \" fill=\"#FF0000\"/>\n",
       "<path class=\"atom-3\" d=\"M 220.7 104.1 Q 220.7 102.2, 221.7 101.1 Q 222.6 100.1, 224.4 100.1 Q 226.1 100.1, 227.1 101.1 Q 228.0 102.2, 228.0 104.1 Q 228.0 106.1, 227.1 107.2 Q 226.1 108.3, 224.4 108.3 Q 222.6 108.3, 221.7 107.2 Q 220.7 106.1, 220.7 104.1 M 224.4 107.4 Q 225.6 107.4, 226.2 106.5 Q 226.9 105.7, 226.9 104.1 Q 226.9 102.6, 226.2 101.8 Q 225.6 101.0, 224.4 101.0 Q 223.2 101.0, 222.5 101.8 Q 221.8 102.5, 221.8 104.1 Q 221.8 105.7, 222.5 106.5 Q 223.2 107.4, 224.4 107.4 \" fill=\"#FF0000\"/>\n",
       "<path class=\"atom-13\" d=\"M 49.3 172.7 Q 49.3 170.8, 50.3 169.7 Q 51.2 168.7, 53.0 168.7 Q 54.7 168.7, 55.7 169.7 Q 56.6 170.8, 56.6 172.7 Q 56.6 174.7, 55.7 175.8 Q 54.7 176.9, 53.0 176.9 Q 51.2 176.9, 50.3 175.8 Q 49.3 174.7, 49.3 172.7 M 53.0 176.0 Q 54.2 176.0, 54.8 175.2 Q 55.5 174.3, 55.5 172.7 Q 55.5 171.2, 54.8 170.4 Q 54.2 169.6, 53.0 169.6 Q 51.8 169.6, 51.1 170.4 Q 50.4 171.2, 50.4 172.7 Q 50.4 174.3, 51.1 175.2 Q 51.8 176.0, 53.0 176.0 \" fill=\"#FF0000\"/>\n",
       "<path class=\"atom-15\" d=\"M 35.6 129.2 Q 35.6 127.3, 36.5 126.3 Q 37.5 125.2, 39.2 125.2 Q 41.0 125.2, 42.0 126.3 Q 42.9 127.3, 42.9 129.2 Q 42.9 131.2, 42.0 132.3 Q 41.0 133.4, 39.2 133.4 Q 37.5 133.4, 36.5 132.3 Q 35.6 131.2, 35.6 129.2 M 39.2 132.5 Q 40.5 132.5, 41.1 131.7 Q 41.8 130.8, 41.8 129.2 Q 41.8 127.7, 41.1 126.9 Q 40.5 126.1, 39.2 126.1 Q 38.0 126.1, 37.4 126.9 Q 36.7 127.7, 36.7 129.2 Q 36.7 130.9, 37.4 131.7 Q 38.0 132.5, 39.2 132.5 \" fill=\"#FF0000\"/>\n",
       "<path class=\"atom-16\" d=\"M 150.4 169.6 L 151.5 169.6 L 151.5 173.0 L 155.5 173.0 L 155.5 169.6 L 156.6 169.6 L 156.6 177.6 L 155.5 177.6 L 155.5 173.9 L 151.5 173.9 L 151.5 177.6 L 150.4 177.6 L 150.4 169.6 \" fill=\"#0000FF\"/>\n",
       "<path class=\"atom-16\" d=\"M 159.4 169.6 L 162.1 173.8 Q 162.3 174.2, 162.7 175.0 Q 163.2 175.7, 163.2 175.8 L 163.2 169.6 L 164.2 169.6 L 164.2 177.6 L 163.1 177.6 L 160.3 172.9 Q 160.0 172.4, 159.7 171.8 Q 159.3 171.2, 159.2 171.0 L 159.2 177.6 L 158.2 177.6 L 158.2 169.6 L 159.4 169.6 \" fill=\"#0000FF\"/>\n",
       "<path class=\"atom-18\" d=\"M 206.2 188.0 L 208.8 192.2 Q 209.1 192.6, 209.5 193.4 Q 209.9 194.1, 209.9 194.2 L 209.9 188.0 L 211.0 188.0 L 211.0 195.9 L 209.9 195.9 L 207.1 191.3 Q 206.7 190.8, 206.4 190.2 Q 206.1 189.5, 206.0 189.4 L 206.0 195.9 L 204.9 195.9 L 204.9 188.0 L 206.2 188.0 \" fill=\"#0000FF\"/>\n",
       "<path class=\"atom-18\" d=\"M 212.5 188.0 L 213.6 188.0 L 213.6 191.4 L 217.7 191.4 L 217.7 188.0 L 218.7 188.0 L 218.7 195.9 L 217.7 195.9 L 217.7 192.3 L 213.6 192.3 L 213.6 195.9 L 212.5 195.9 L 212.5 188.0 \" fill=\"#0000FF\"/>\n",
       "<path class=\"atom-18\" d=\"M 220.3 195.7 Q 220.5 195.2, 221.0 194.9 Q 221.4 194.6, 222.1 194.6 Q 222.9 194.6, 223.3 195.0 Q 223.7 195.5, 223.7 196.2 Q 223.7 197.0, 223.2 197.7 Q 222.6 198.5, 221.4 199.3 L 223.8 199.3 L 223.8 199.9 L 220.3 199.9 L 220.3 199.4 Q 221.3 198.7, 221.8 198.2 Q 222.4 197.7, 222.7 197.2 Q 223.0 196.8, 223.0 196.3 Q 223.0 195.8, 222.7 195.5 Q 222.5 195.2, 222.1 195.2 Q 221.6 195.2, 221.3 195.4 Q 221.1 195.5, 220.9 195.9 L 220.3 195.7 \" fill=\"#0000FF\"/>\n",
       "<path class=\"bond-0 atom-0 atom-1\" d=\"M 317.4,104.7 L 341.2,119.8\" style=\"fill:none;fill-rule:evenodd;stroke:#000000;stroke-width:2.0px;stroke-linecap:butt;stroke-linejoin:miter;stroke-opacity:1\"/>\n",
       "<path class=\"bond-1 atom-1 atom-2\" d=\"M 341.2,119.8 L 340.0,147.9\" style=\"fill:none;fill-rule:evenodd;stroke:#000000;stroke-width:2.0px;stroke-linecap:butt;stroke-linejoin:miter;stroke-opacity:1\"/>\n",
       "<path class=\"bond-2 atom-2 atom-3\" d=\"M 340.0,147.9 L 315.0,161.0\" style=\"fill:none;fill-rule:evenodd;stroke:#000000;stroke-width:2.0px;stroke-linecap:butt;stroke-linejoin:miter;stroke-opacity:1\"/>\n",
       "<path class=\"bond-3 atom-2 atom-4\" d=\"M 340.0,147.9 L 363.8,163.0\" style=\"fill:none;fill-rule:evenodd;stroke:#000000;stroke-width:2.0px;stroke-linecap:butt;stroke-linejoin:miter;stroke-opacity:1\"/>\n",
       "<path class=\"bond-4 atom-4 atom-5\" d=\"M 361.7,161.7 L 361.2,173.9\" style=\"fill:none;fill-rule:evenodd;stroke:#000000;stroke-width:2.0px;stroke-linecap:butt;stroke-linejoin:miter;stroke-opacity:1\"/>\n",
       "<path class=\"bond-4 atom-4 atom-5\" d=\"M 361.2,173.9 L 360.7,186.1\" style=\"fill:none;fill-rule:evenodd;stroke:#FF0000;stroke-width:2.0px;stroke-linecap:butt;stroke-linejoin:miter;stroke-opacity:1\"/>\n",
       "<path class=\"bond-4 atom-4 atom-5\" d=\"M 365.9,161.9 L 365.4,174.1\" style=\"fill:none;fill-rule:evenodd;stroke:#000000;stroke-width:2.0px;stroke-linecap:butt;stroke-linejoin:miter;stroke-opacity:1\"/>\n",
       "<path class=\"bond-4 atom-4 atom-5\" d=\"M 365.4,174.1 L 364.9,186.3\" style=\"fill:none;fill-rule:evenodd;stroke:#FF0000;stroke-width:2.0px;stroke-linecap:butt;stroke-linejoin:miter;stroke-opacity:1\"/>\n",
       "<path class=\"bond-5 atom-4 atom-6\" d=\"M 363.8,163.0 L 374.3,157.5\" style=\"fill:none;fill-rule:evenodd;stroke:#000000;stroke-width:2.0px;stroke-linecap:butt;stroke-linejoin:miter;stroke-opacity:1\"/>\n",
       "<path class=\"bond-5 atom-4 atom-6\" d=\"M 374.3,157.5 L 384.8,152.1\" style=\"fill:none;fill-rule:evenodd;stroke:#0000FF;stroke-width:2.0px;stroke-linecap:butt;stroke-linejoin:miter;stroke-opacity:1\"/>\n",
       "<path class=\"bond-6 atom-6 atom-7\" d=\"M 392.7,152.5 L 402.6,158.8\" style=\"fill:none;fill-rule:evenodd;stroke:#0000FF;stroke-width:2.0px;stroke-linecap:butt;stroke-linejoin:miter;stroke-opacity:1\"/>\n",
       "<path class=\"bond-6 atom-6 atom-7\" d=\"M 402.6,158.8 L 412.5,165.1\" style=\"fill:none;fill-rule:evenodd;stroke:#000000;stroke-width:2.0px;stroke-linecap:butt;stroke-linejoin:miter;stroke-opacity:1\"/>\n",
       "<path class=\"bond-7 atom-7 atom-8\" d=\"M 412.5,165.1 L 437.5,152.1\" style=\"fill:none;fill-rule:evenodd;stroke:#000000;stroke-width:2.0px;stroke-linecap:butt;stroke-linejoin:miter;stroke-opacity:1\"/>\n",
       "<path class=\"bond-8 atom-8 atom-9\" d=\"M 439.6,153.4 L 440.1,141.2\" style=\"fill:none;fill-rule:evenodd;stroke:#000000;stroke-width:2.0px;stroke-linecap:butt;stroke-linejoin:miter;stroke-opacity:1\"/>\n",
       "<path class=\"bond-8 atom-8 atom-9\" d=\"M 440.1,141.2 L 440.6,129.1\" style=\"fill:none;fill-rule:evenodd;stroke:#FF0000;stroke-width:2.0px;stroke-linecap:butt;stroke-linejoin:miter;stroke-opacity:1\"/>\n",
       "<path class=\"bond-8 atom-8 atom-9\" d=\"M 435.3,153.2 L 435.9,141.0\" style=\"fill:none;fill-rule:evenodd;stroke:#000000;stroke-width:2.0px;stroke-linecap:butt;stroke-linejoin:miter;stroke-opacity:1\"/>\n",
       "<path class=\"bond-8 atom-8 atom-9\" d=\"M 435.9,141.0 L 436.4,128.9\" style=\"fill:none;fill-rule:evenodd;stroke:#FF0000;stroke-width:2.0px;stroke-linecap:butt;stroke-linejoin:miter;stroke-opacity:1\"/>\n",
       "<path class=\"bond-9 atom-8 atom-10\" d=\"M 437.5,152.1 L 447.4,158.4\" style=\"fill:none;fill-rule:evenodd;stroke:#000000;stroke-width:2.0px;stroke-linecap:butt;stroke-linejoin:miter;stroke-opacity:1\"/>\n",
       "<path class=\"bond-9 atom-8 atom-10\" d=\"M 447.4,158.4 L 457.3,164.7\" style=\"fill:none;fill-rule:evenodd;stroke:#0000FF;stroke-width:2.0px;stroke-linecap:butt;stroke-linejoin:miter;stroke-opacity:1\"/>\n",
       "<path class=\"bond-10 atom-10 atom-11\" d=\"M 465.3,165.1 L 475.8,159.6\" style=\"fill:none;fill-rule:evenodd;stroke:#0000FF;stroke-width:2.0px;stroke-linecap:butt;stroke-linejoin:miter;stroke-opacity:1\"/>\n",
       "<path class=\"bond-10 atom-10 atom-11\" d=\"M 475.8,159.6 L 486.3,154.1\" style=\"fill:none;fill-rule:evenodd;stroke:#000000;stroke-width:2.0px;stroke-linecap:butt;stroke-linejoin:miter;stroke-opacity:1\"/>\n",
       "<path class=\"bond-11 atom-11 atom-12\" d=\"M 486.3,154.1 L 510.1,169.2\" style=\"fill:none;fill-rule:evenodd;stroke:#000000;stroke-width:2.0px;stroke-linecap:butt;stroke-linejoin:miter;stroke-opacity:1\"/>\n",
       "<path class=\"bond-12 atom-12 atom-13\" d=\"M 510.1,169.2 L 535.0,156.2\" style=\"fill:none;fill-rule:evenodd;stroke:#000000;stroke-width:2.0px;stroke-linecap:butt;stroke-linejoin:miter;stroke-opacity:1\"/>\n",
       "<path class=\"bond-13 atom-13 atom-14\" d=\"M 535.0,156.2 L 536.2,128.0\" style=\"fill:none;fill-rule:evenodd;stroke:#000000;stroke-width:2.0px;stroke-linecap:butt;stroke-linejoin:miter;stroke-opacity:1\"/>\n",
       "<path class=\"bond-14 atom-14 atom-15\" d=\"M 536.2,128.0 L 561.2,115.0\" style=\"fill:none;fill-rule:evenodd;stroke:#000000;stroke-width:2.0px;stroke-linecap:butt;stroke-linejoin:miter;stroke-opacity:1\"/>\n",
       "<path class=\"bond-15 atom-15 atom-16\" d=\"M 561.2,115.0 L 585.0,130.1\" style=\"fill:none;fill-rule:evenodd;stroke:#000000;stroke-width:2.0px;stroke-linecap:butt;stroke-linejoin:miter;stroke-opacity:1\"/>\n",
       "<path class=\"bond-16 atom-16 atom-17\" d=\"M 585.0,130.1 L 583.8,158.3\" style=\"fill:none;fill-rule:evenodd;stroke:#000000;stroke-width:2.0px;stroke-linecap:butt;stroke-linejoin:miter;stroke-opacity:1\"/>\n",
       "<path class=\"bond-17 atom-17 atom-18\" d=\"M 583.8,158.3 L 558.8,171.3\" style=\"fill:none;fill-rule:evenodd;stroke:#000000;stroke-width:2.0px;stroke-linecap:butt;stroke-linejoin:miter;stroke-opacity:1\"/>\n",
       "<path class=\"bond-18 atom-18 atom-13\" d=\"M 558.8,171.3 L 535.0,156.2\" style=\"fill:none;fill-rule:evenodd;stroke:#000000;stroke-width:2.0px;stroke-linecap:butt;stroke-linejoin:miter;stroke-opacity:1\"/>\n",
       "<path d=\"M 340.0,119.0 L 341.2,119.8 L 341.1,121.2\" style=\"fill:none;stroke:#000000;stroke-width:2.0px;stroke-linecap:butt;stroke-linejoin:miter;stroke-opacity:1;\"/>\n",
       "<path d=\"M 362.6,162.3 L 363.8,163.0 L 364.3,162.8\" style=\"fill:none;stroke:#000000;stroke-width:2.0px;stroke-linecap:butt;stroke-linejoin:miter;stroke-opacity:1;\"/>\n",
       "<path d=\"M 412.0,164.8 L 412.5,165.1 L 413.8,164.5\" style=\"fill:none;stroke:#000000;stroke-width:2.0px;stroke-linecap:butt;stroke-linejoin:miter;stroke-opacity:1;\"/>\n",
       "<path d=\"M 436.3,152.7 L 437.5,152.1 L 438.0,152.4\" style=\"fill:none;stroke:#000000;stroke-width:2.0px;stroke-linecap:butt;stroke-linejoin:miter;stroke-opacity:1;\"/>\n",
       "<path d=\"M 485.7,154.4 L 486.3,154.1 L 487.5,154.9\" style=\"fill:none;stroke:#000000;stroke-width:2.0px;stroke-linecap:butt;stroke-linejoin:miter;stroke-opacity:1;\"/>\n",
       "<path d=\"M 508.9,168.5 L 510.1,169.2 L 511.3,168.6\" style=\"fill:none;stroke:#000000;stroke-width:2.0px;stroke-linecap:butt;stroke-linejoin:miter;stroke-opacity:1;\"/>\n",
       "<path d=\"M 536.2,129.5 L 536.2,128.0 L 537.5,127.4\" style=\"fill:none;stroke:#000000;stroke-width:2.0px;stroke-linecap:butt;stroke-linejoin:miter;stroke-opacity:1;\"/>\n",
       "<path d=\"M 560.0,115.7 L 561.2,115.0 L 562.4,115.8\" style=\"fill:none;stroke:#000000;stroke-width:2.0px;stroke-linecap:butt;stroke-linejoin:miter;stroke-opacity:1;\"/>\n",
       "<path d=\"M 583.8,129.4 L 585.0,130.1 L 584.9,131.5\" style=\"fill:none;stroke:#000000;stroke-width:2.0px;stroke-linecap:butt;stroke-linejoin:miter;stroke-opacity:1;\"/>\n",
       "<path d=\"M 583.9,156.9 L 583.8,158.3 L 582.6,158.9\" style=\"fill:none;stroke:#000000;stroke-width:2.0px;stroke-linecap:butt;stroke-linejoin:miter;stroke-opacity:1;\"/>\n",
       "<path d=\"M 560.1,170.7 L 558.8,171.3 L 557.6,170.6\" style=\"fill:none;stroke:#000000;stroke-width:2.0px;stroke-linecap:butt;stroke-linejoin:miter;stroke-opacity:1;\"/>\n",
       "<path class=\"atom-5\" d=\"M 358.9 191.2 Q 358.9 189.3, 359.9 188.2 Q 360.8 187.2, 362.6 187.2 Q 364.3 187.2, 365.3 188.2 Q 366.2 189.3, 366.2 191.2 Q 366.2 193.1, 365.3 194.3 Q 364.3 195.3, 362.6 195.3 Q 360.8 195.3, 359.9 194.3 Q 358.9 193.2, 358.9 191.2 M 362.6 194.4 Q 363.8 194.4, 364.4 193.6 Q 365.1 192.8, 365.1 191.2 Q 365.1 189.6, 364.4 188.9 Q 363.8 188.1, 362.6 188.1 Q 361.4 188.1, 360.7 188.8 Q 360.0 189.6, 360.0 191.2 Q 360.0 192.8, 360.7 193.6 Q 361.4 194.4, 362.6 194.4 \" fill=\"#FF0000\"/>\n",
       "<path class=\"atom-6\" d=\"M 387.0 146.0 L 389.6 150.2 Q 389.9 150.6, 390.3 151.4 Q 390.7 152.2, 390.7 152.2 L 390.7 146.0 L 391.8 146.0 L 391.8 154.0 L 390.7 154.0 L 387.9 149.4 Q 387.5 148.8, 387.2 148.2 Q 386.9 147.6, 386.8 147.4 L 386.8 154.0 L 385.7 154.0 L 385.7 146.0 L 387.0 146.0 \" fill=\"#0000FF\"/>\n",
       "<path class=\"atom-6\" d=\"M 385.6 137.2 L 386.7 137.2 L 386.7 140.6 L 390.8 140.6 L 390.8 137.2 L 391.9 137.2 L 391.9 145.2 L 390.8 145.2 L 390.8 141.5 L 386.7 141.5 L 386.7 145.2 L 385.6 145.2 L 385.6 137.2 \" fill=\"#0000FF\"/>\n",
       "<path class=\"atom-9\" d=\"M 435.0 123.9 Q 435.0 122.0, 436.0 120.9 Q 436.9 119.9, 438.7 119.9 Q 440.5 119.9, 441.4 120.9 Q 442.4 122.0, 442.4 123.9 Q 442.4 125.9, 441.4 127.0 Q 440.5 128.1, 438.7 128.1 Q 436.9 128.1, 436.0 127.0 Q 435.0 125.9, 435.0 123.9 M 438.7 127.2 Q 439.9 127.2, 440.6 126.4 Q 441.2 125.5, 441.2 123.9 Q 441.2 122.4, 440.6 121.6 Q 439.9 120.8, 438.7 120.8 Q 437.5 120.8, 436.8 121.6 Q 436.2 122.4, 436.2 123.9 Q 436.2 125.5, 436.8 126.4 Q 437.5 127.2, 438.7 127.2 \" fill=\"#FF0000\"/>\n",
       "<path class=\"atom-10\" d=\"M 459.5 163.2 L 462.1 167.4 Q 462.4 167.8, 462.8 168.6 Q 463.2 169.3, 463.3 169.4 L 463.3 163.2 L 464.3 163.2 L 464.3 171.2 L 463.2 171.2 L 460.4 166.5 Q 460.1 166.0, 459.7 165.4 Q 459.4 164.8, 459.3 164.6 L 459.3 171.2 L 458.3 171.2 L 458.3 163.2 L 459.5 163.2 \" fill=\"#0000FF\"/>\n",
       "<path class=\"atom-10\" d=\"M 458.2 172.0 L 459.3 172.0 L 459.3 175.4 L 463.3 175.4 L 463.3 172.0 L 464.4 172.0 L 464.4 179.9 L 463.3 179.9 L 463.3 176.3 L 459.3 176.3 L 459.3 179.9 L 458.2 179.9 L 458.2 172.0 \" fill=\"#0000FF\"/>\n",
       "</svg>"
      ],
      "text/plain": [
       "<IPython.core.display.SVG object>"
      ]
     },
     "execution_count": 149,
     "metadata": {},
     "output_type": "execute_result"
    }
   ],
   "source": [
    "outputs = []\n",
    "idx = 60\n",
    "smi = df.SMILES.values[idx]\n",
    "# smi = 'COc1ccc(C2CC(=O)Nc3nc(C)nn3C2)cc1'\n",
    "outputs.append(smi)\n",
    "for i in range(1):\n",
    "    outputs.append(model.generate(num_samples=1, smiles=None))\n",
    "print(smi)\n",
    "print(outputs)\n",
    "dm.to_image(outputs)"
   ]
  },
  {
   "cell_type": "code",
   "execution_count": 51,
   "id": "1ab173f3-9404-4fa6-a49b-0f3abfd41e02",
   "metadata": {},
   "outputs": [],
   "source": [
    "device = model.device"
   ]
  },
  {
   "cell_type": "code",
   "execution_count": 48,
   "id": "c6bb9115-589d-44ee-bc6f-a8d026a56460",
   "metadata": {},
   "outputs": [],
   "source": [
    "for i in val_dl:\n",
    "    with_bos, targets, masks = i \n",
    "    last_hidden_state, emb, logvar, mu = model.encode(with_bos.to(model.device), mask=masks.to(model.device))\n",
    "    z = model.reparameterize(mu, logvar)\n",
    "    outputs = model.decode(z.to(model.device), with_bos.to(model.device), mask=masks.to(model.device))\n",
    "    break"
   ]
  },
  {
   "cell_type": "code",
   "execution_count": 49,
   "id": "6f85fbc4-6ebd-47aa-978a-1624a1f99b30",
   "metadata": {},
   "outputs": [
    {
     "data": {
      "text/plain": [
       "(tensor(9580.8359, device='cuda:0', grad_fn=<NllLossBackward0>),\n",
       " tensor(19.8293, device='cuda:0', grad_fn=<MulBackward0>))"
      ]
     },
     "execution_count": 49,
     "metadata": {},
     "output_type": "execute_result"
    }
   ],
   "source": [
    "model.compute_loss(outputs.to(device), targets.to(device), logvar.to(device), mu.to(device))"
   ]
  },
  {
   "cell_type": "code",
   "execution_count": 50,
   "id": "2e096279-45d9-4621-a527-a521c1ad3592",
   "metadata": {},
   "outputs": [
    {
     "data": {
      "text/plain": [
       "tensor([[ 4, 11, 10,  ...,  2,  2,  2],\n",
       "        [ 4,  4,  6,  ...,  2,  2,  2],\n",
       "        [ 4,  8,  4,  ...,  2,  2,  2],\n",
       "        ...,\n",
       "        [ 4, 11, 10,  ...,  2,  2,  2],\n",
       "        [ 4,  4, 19,  ...,  2,  2,  2],\n",
       "        [ 8,  7,  4,  ...,  2,  2,  2]])"
      ]
     },
     "execution_count": 50,
     "metadata": {},
     "output_type": "execute_result"
    }
   ],
   "source": [
    "with_bos[:,1:]"
   ]
  },
  {
   "cell_type": "code",
   "execution_count": 28,
   "id": "b86fee81-1920-43f6-801e-afc92b40f052",
   "metadata": {},
   "outputs": [
    {
     "data": {
      "text/plain": [
       "torch.Size([32, 44, 32])"
      ]
     },
     "execution_count": 28,
     "metadata": {},
     "output_type": "execute_result"
    }
   ],
   "source": [
    "e = model.embedding(with_bos.to(device))\n",
    "e.shape"
   ]
  },
  {
   "cell_type": "code",
   "execution_count": 38,
   "id": "94b047ba-0652-416c-ab22-d494529e1a14",
   "metadata": {},
   "outputs": [
    {
     "data": {
      "text/plain": [
       "torch.Size([32, 44, 32])"
      ]
     },
     "execution_count": 38,
     "metadata": {},
     "output_type": "execute_result"
    }
   ],
   "source": [
    "e.shape"
   ]
  },
  {
   "cell_type": "code",
   "execution_count": 37,
   "id": "5c843dad-5dc2-47d3-bb0c-70569397c982",
   "metadata": {},
   "outputs": [
    {
     "data": {
      "text/plain": [
       "torch.Size([32, 32])"
      ]
     },
     "execution_count": 37,
     "metadata": {},
     "output_type": "execute_result"
    }
   ],
   "source": [
    "e[:,1].shape"
   ]
  },
  {
   "cell_type": "code",
   "execution_count": null,
   "id": "24462108-32cf-453c-93c1-7c9a81c9bd33",
   "metadata": {},
   "outputs": [],
   "source": []
  }
 ],
 "metadata": {
  "kernelspec": {
   "display_name": "Python 3 (ipykernel)",
   "language": "python",
   "name": "python3"
  },
  "language_info": {
   "codemirror_mode": {
    "name": "ipython",
    "version": 3
   },
   "file_extension": ".py",
   "mimetype": "text/x-python",
   "name": "python",
   "nbconvert_exporter": "python",
   "pygments_lexer": "ipython3",
   "version": "3.10.12"
  }
 },
 "nbformat": 4,
 "nbformat_minor": 5
}
