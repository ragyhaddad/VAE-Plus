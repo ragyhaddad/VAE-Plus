{
 "cells": [
  {
   "cell_type": "code",
   "execution_count": 1,
   "id": "67a8d247-14c2-4aba-b4eb-91073541e1c0",
   "metadata": {},
   "outputs": [],
   "source": [
    "%load_ext autoreload\n",
    "%autoreload 2"
   ]
  },
  {
   "cell_type": "code",
   "execution_count": 2,
   "id": "aeaa0023-57b8-4001-96cc-033d1449dda8",
   "metadata": {},
   "outputs": [],
   "source": [
    "import datamol as dm\n",
    "import vae_cyc as vc\n",
    "import pandas as pd \n",
    "import pytorch_lightning as pl \n",
    "import wandb\n",
    "import numpy as np\n",
    "from torch.utils.data import DataLoader \n",
    "from pytorch_lightning.loggers import WandbLogger\n",
    "from pytorch_lightning.callbacks import ModelCheckpoint\n",
    "from sklearn.model_selection import train_test_split"
   ]
  },
  {
   "cell_type": "code",
   "execution_count": 3,
   "id": "a20661ea-5a3f-43b2-ba61-f8649138c108",
   "metadata": {},
   "outputs": [],
   "source": [
    "# from datasets import load_dataset\n",
    "\n",
    "# ds = load_dataset(\"sagawa/pubchem-10m-canonicalized\")"
   ]
  },
  {
   "cell_type": "code",
   "execution_count": 4,
   "id": "99d46d7b-7aff-4e17-b5ee-24550cf40343",
   "metadata": {},
   "outputs": [
    {
     "name": "stdout",
     "output_type": "stream",
     "text": [
      "extracting charset with atomwise tokenizer..\n"
     ]
    },
    {
     "name": "stderr",
     "output_type": "stream",
     "text": [
      "100%|██████████| 50000/50000 [00:00<00:00, 133443.63it/s]\n"
     ]
    }
   ],
   "source": [
    "df = pd.read_csv('/workspace/moses.csv')\n",
    "\n",
    "df = df.sample(n=50000)\n",
    "\n",
    "vocab = vc.AtomVocab(df, 'SMILES')"
   ]
  },
  {
   "cell_type": "code",
   "execution_count": 5,
   "id": "3b44d1f6-0f9c-4acc-91d1-d4486ccab892",
   "metadata": {},
   "outputs": [
    {
     "data": {
      "image/svg+xml": [
       "<svg xmlns=\"http://www.w3.org/2000/svg\" xmlns:rdkit=\"http://www.rdkit.org/xml\" xmlns:xlink=\"http://www.w3.org/1999/xlink\" version=\"1.1\" baseProfile=\"full\" xml:space=\"preserve\" width=\"300px\" height=\"300px\" viewBox=\"0 0 300 300\">\n",
       "<!-- END OF HEADER -->\n",
       "<rect style=\"opacity:1.0;fill:#FFFFFF;stroke:none\" width=\"300.0\" height=\"300.0\" x=\"0.0\" y=\"0.0\"> </rect>\n",
       "<path class=\"bond-0 atom-0 atom-1\" d=\"M 15.0,199.9 L 42.9,188.8\" style=\"fill:none;fill-rule:evenodd;stroke:#000000;stroke-width:2.0px;stroke-linecap:butt;stroke-linejoin:miter;stroke-opacity:1\"/>\n",
       "<path class=\"bond-1 atom-1 atom-2\" d=\"M 40.4,189.8 L 50.3,197.5\" style=\"fill:none;fill-rule:evenodd;stroke:#000000;stroke-width:2.0px;stroke-linecap:butt;stroke-linejoin:miter;stroke-opacity:1\"/>\n",
       "<path class=\"bond-1 atom-1 atom-2\" d=\"M 50.3,197.5 L 60.1,205.3\" style=\"fill:none;fill-rule:evenodd;stroke:#FF0000;stroke-width:2.0px;stroke-linecap:butt;stroke-linejoin:miter;stroke-opacity:1\"/>\n",
       "<path class=\"bond-1 atom-1 atom-2\" d=\"M 43.2,186.3 L 53.1,194.0\" style=\"fill:none;fill-rule:evenodd;stroke:#000000;stroke-width:2.0px;stroke-linecap:butt;stroke-linejoin:miter;stroke-opacity:1\"/>\n",
       "<path class=\"bond-1 atom-1 atom-2\" d=\"M 53.1,194.0 L 62.9,201.8\" style=\"fill:none;fill-rule:evenodd;stroke:#FF0000;stroke-width:2.0px;stroke-linecap:butt;stroke-linejoin:miter;stroke-opacity:1\"/>\n",
       "<path class=\"bond-2 atom-1 atom-3\" d=\"M 42.9,188.8 L 47.2,159.1\" style=\"fill:none;fill-rule:evenodd;stroke:#000000;stroke-width:2.0px;stroke-linecap:butt;stroke-linejoin:miter;stroke-opacity:1\"/>\n",
       "<path class=\"bond-3 atom-3 atom-4\" d=\"M 47.2,159.1 L 23.6,140.6\" style=\"fill:none;fill-rule:evenodd;stroke:#000000;stroke-width:2.0px;stroke-linecap:butt;stroke-linejoin:miter;stroke-opacity:1\"/>\n",
       "<path class=\"bond-3 atom-3 atom-4\" d=\"M 47.9,154.0 L 28.4,138.6\" style=\"fill:none;fill-rule:evenodd;stroke:#000000;stroke-width:2.0px;stroke-linecap:butt;stroke-linejoin:miter;stroke-opacity:1\"/>\n",
       "<path class=\"bond-4 atom-4 atom-5\" d=\"M 23.6,140.6 L 27.9,110.9\" style=\"fill:none;fill-rule:evenodd;stroke:#000000;stroke-width:2.0px;stroke-linecap:butt;stroke-linejoin:miter;stroke-opacity:1\"/>\n",
       "<path class=\"bond-5 atom-5 atom-6\" d=\"M 27.9,110.9 L 55.8,99.8\" style=\"fill:none;fill-rule:evenodd;stroke:#000000;stroke-width:2.0px;stroke-linecap:butt;stroke-linejoin:miter;stroke-opacity:1\"/>\n",
       "<path class=\"bond-5 atom-5 atom-6\" d=\"M 32.0,114.1 L 55.0,104.9\" style=\"fill:none;fill-rule:evenodd;stroke:#000000;stroke-width:2.0px;stroke-linecap:butt;stroke-linejoin:miter;stroke-opacity:1\"/>\n",
       "<path class=\"bond-6 atom-6 atom-7\" d=\"M 55.8,99.8 L 79.3,118.3\" style=\"fill:none;fill-rule:evenodd;stroke:#000000;stroke-width:2.0px;stroke-linecap:butt;stroke-linejoin:miter;stroke-opacity:1\"/>\n",
       "<path class=\"bond-7 atom-7 atom-8\" d=\"M 79.3,118.3 L 90.8,113.8\" style=\"fill:none;fill-rule:evenodd;stroke:#000000;stroke-width:2.0px;stroke-linecap:butt;stroke-linejoin:miter;stroke-opacity:1\"/>\n",
       "<path class=\"bond-7 atom-7 atom-8\" d=\"M 90.8,113.8 L 102.3,109.2\" style=\"fill:none;fill-rule:evenodd;stroke:#FF0000;stroke-width:2.0px;stroke-linecap:butt;stroke-linejoin:miter;stroke-opacity:1\"/>\n",
       "<path class=\"bond-8 atom-8 atom-9\" d=\"M 112.1,111.1 L 121.4,118.4\" style=\"fill:none;fill-rule:evenodd;stroke:#FF0000;stroke-width:2.0px;stroke-linecap:butt;stroke-linejoin:miter;stroke-opacity:1\"/>\n",
       "<path class=\"bond-8 atom-8 atom-9\" d=\"M 121.4,118.4 L 130.8,125.8\" style=\"fill:none;fill-rule:evenodd;stroke:#000000;stroke-width:2.0px;stroke-linecap:butt;stroke-linejoin:miter;stroke-opacity:1\"/>\n",
       "<path class=\"bond-9 atom-9 atom-10\" d=\"M 128.7,124.2 L 126.9,137.0\" style=\"fill:none;fill-rule:evenodd;stroke:#000000;stroke-width:2.0px;stroke-linecap:butt;stroke-linejoin:miter;stroke-opacity:1\"/>\n",
       "<path class=\"bond-9 atom-9 atom-10\" d=\"M 126.9,137.0 L 125.0,149.9\" style=\"fill:none;fill-rule:evenodd;stroke:#FF0000;stroke-width:2.0px;stroke-linecap:butt;stroke-linejoin:miter;stroke-opacity:1\"/>\n",
       "<path class=\"bond-9 atom-9 atom-10\" d=\"M 133.2,124.8 L 131.3,137.7\" style=\"fill:none;fill-rule:evenodd;stroke:#000000;stroke-width:2.0px;stroke-linecap:butt;stroke-linejoin:miter;stroke-opacity:1\"/>\n",
       "<path class=\"bond-9 atom-9 atom-10\" d=\"M 131.3,137.7 L 129.4,150.5\" style=\"fill:none;fill-rule:evenodd;stroke:#FF0000;stroke-width:2.0px;stroke-linecap:butt;stroke-linejoin:miter;stroke-opacity:1\"/>\n",
       "<path class=\"bond-10 atom-9 atom-11\" d=\"M 130.8,125.8 L 158.6,114.7\" style=\"fill:none;fill-rule:evenodd;stroke:#000000;stroke-width:2.0px;stroke-linecap:butt;stroke-linejoin:miter;stroke-opacity:1\"/>\n",
       "<path class=\"bond-11 atom-11 atom-12\" d=\"M 158.6,114.7 L 168.3,122.3\" style=\"fill:none;fill-rule:evenodd;stroke:#000000;stroke-width:2.0px;stroke-linecap:butt;stroke-linejoin:miter;stroke-opacity:1\"/>\n",
       "<path class=\"bond-11 atom-11 atom-12\" d=\"M 168.3,122.3 L 178.0,129.9\" style=\"fill:none;fill-rule:evenodd;stroke:#0000FF;stroke-width:2.0px;stroke-linecap:butt;stroke-linejoin:miter;stroke-opacity:1\"/>\n",
       "<path class=\"bond-12 atom-12 atom-13\" d=\"M 181.4,138.5 L 178.6,157.7\" style=\"fill:none;fill-rule:evenodd;stroke:#0000FF;stroke-width:2.0px;stroke-linecap:butt;stroke-linejoin:miter;stroke-opacity:1\"/>\n",
       "<path class=\"bond-13 atom-13 atom-14\" d=\"M 182.1,166.3 L 191.7,173.9\" style=\"fill:none;fill-rule:evenodd;stroke:#0000FF;stroke-width:2.0px;stroke-linecap:butt;stroke-linejoin:miter;stroke-opacity:1\"/>\n",
       "<path class=\"bond-13 atom-13 atom-14\" d=\"M 191.7,173.9 L 201.4,181.5\" style=\"fill:none;fill-rule:evenodd;stroke:#000000;stroke-width:2.0px;stroke-linecap:butt;stroke-linejoin:miter;stroke-opacity:1\"/>\n",
       "<path class=\"bond-13 atom-13 atom-14\" d=\"M 184.9,162.7 L 193.5,169.6\" style=\"fill:none;fill-rule:evenodd;stroke:#0000FF;stroke-width:2.0px;stroke-linecap:butt;stroke-linejoin:miter;stroke-opacity:1\"/>\n",
       "<path class=\"bond-13 atom-13 atom-14\" d=\"M 193.5,169.6 L 202.2,176.4\" style=\"fill:none;fill-rule:evenodd;stroke:#000000;stroke-width:2.0px;stroke-linecap:butt;stroke-linejoin:miter;stroke-opacity:1\"/>\n",
       "<path class=\"bond-14 atom-14 atom-15\" d=\"M 201.4,181.5 L 229.3,170.4\" style=\"fill:none;fill-rule:evenodd;stroke:#000000;stroke-width:2.0px;stroke-linecap:butt;stroke-linejoin:miter;stroke-opacity:1\"/>\n",
       "<path class=\"bond-15 atom-15 atom-16\" d=\"M 229.3,170.4 L 252.8,189.0\" style=\"fill:none;fill-rule:evenodd;stroke:#000000;stroke-width:2.0px;stroke-linecap:butt;stroke-linejoin:miter;stroke-opacity:1\"/>\n",
       "<path class=\"bond-15 atom-15 atom-16\" d=\"M 234.1,168.5 L 253.6,183.8\" style=\"fill:none;fill-rule:evenodd;stroke:#000000;stroke-width:2.0px;stroke-linecap:butt;stroke-linejoin:miter;stroke-opacity:1\"/>\n",
       "<path class=\"bond-16 atom-16 atom-17\" d=\"M 252.8,189.0 L 280.7,177.9\" style=\"fill:none;fill-rule:evenodd;stroke:#000000;stroke-width:2.0px;stroke-linecap:butt;stroke-linejoin:miter;stroke-opacity:1\"/>\n",
       "<path class=\"bond-17 atom-17 atom-18\" d=\"M 280.7,177.9 L 285.0,148.2\" style=\"fill:none;fill-rule:evenodd;stroke:#000000;stroke-width:2.0px;stroke-linecap:butt;stroke-linejoin:miter;stroke-opacity:1\"/>\n",
       "<path class=\"bond-17 atom-17 atom-18\" d=\"M 276.6,174.7 L 280.2,150.1\" style=\"fill:none;fill-rule:evenodd;stroke:#000000;stroke-width:2.0px;stroke-linecap:butt;stroke-linejoin:miter;stroke-opacity:1\"/>\n",
       "<path class=\"bond-18 atom-18 atom-19\" d=\"M 285.0,148.2 L 261.4,129.6\" style=\"fill:none;fill-rule:evenodd;stroke:#000000;stroke-width:2.0px;stroke-linecap:butt;stroke-linejoin:miter;stroke-opacity:1\"/>\n",
       "<path class=\"bond-19 atom-19 atom-20\" d=\"M 261.4,129.6 L 233.6,140.7\" style=\"fill:none;fill-rule:evenodd;stroke:#000000;stroke-width:2.0px;stroke-linecap:butt;stroke-linejoin:miter;stroke-opacity:1\"/>\n",
       "<path class=\"bond-19 atom-19 atom-20\" d=\"M 260.7,134.8 L 237.7,143.9\" style=\"fill:none;fill-rule:evenodd;stroke:#000000;stroke-width:2.0px;stroke-linecap:butt;stroke-linejoin:miter;stroke-opacity:1\"/>\n",
       "<path class=\"bond-20 atom-20 atom-21\" d=\"M 233.6,140.7 L 210.0,122.2\" style=\"fill:none;fill-rule:evenodd;stroke:#000000;stroke-width:2.0px;stroke-linecap:butt;stroke-linejoin:miter;stroke-opacity:1\"/>\n",
       "<path class=\"bond-21 atom-21 atom-22\" d=\"M 212.1,123.8 L 213.9,111.0\" style=\"fill:none;fill-rule:evenodd;stroke:#000000;stroke-width:2.0px;stroke-linecap:butt;stroke-linejoin:miter;stroke-opacity:1\"/>\n",
       "<path class=\"bond-21 atom-21 atom-22\" d=\"M 213.9,111.0 L 215.8,98.2\" style=\"fill:none;fill-rule:evenodd;stroke:#FF0000;stroke-width:2.0px;stroke-linecap:butt;stroke-linejoin:miter;stroke-opacity:1\"/>\n",
       "<path class=\"bond-21 atom-21 atom-22\" d=\"M 207.6,123.1 L 209.5,110.3\" style=\"fill:none;fill-rule:evenodd;stroke:#000000;stroke-width:2.0px;stroke-linecap:butt;stroke-linejoin:miter;stroke-opacity:1\"/>\n",
       "<path class=\"bond-21 atom-21 atom-22\" d=\"M 209.5,110.3 L 211.3,97.6\" style=\"fill:none;fill-rule:evenodd;stroke:#FF0000;stroke-width:2.0px;stroke-linecap:butt;stroke-linejoin:miter;stroke-opacity:1\"/>\n",
       "<path class=\"bond-22 atom-7 atom-23\" d=\"M 79.3,118.3 L 75.0,148.0\" style=\"fill:none;fill-rule:evenodd;stroke:#000000;stroke-width:2.0px;stroke-linecap:butt;stroke-linejoin:miter;stroke-opacity:1\"/>\n",
       "<path class=\"bond-22 atom-7 atom-23\" d=\"M 74.5,120.3 L 71.0,144.8\" style=\"fill:none;fill-rule:evenodd;stroke:#000000;stroke-width:2.0px;stroke-linecap:butt;stroke-linejoin:miter;stroke-opacity:1\"/>\n",
       "<path class=\"bond-23 atom-23 atom-3\" d=\"M 75.0,148.0 L 47.2,159.1\" style=\"fill:none;fill-rule:evenodd;stroke:#000000;stroke-width:2.0px;stroke-linecap:butt;stroke-linejoin:miter;stroke-opacity:1\"/>\n",
       "<path class=\"bond-24 atom-21 atom-12\" d=\"M 210.0,122.2 L 198.2,126.9\" style=\"fill:none;fill-rule:evenodd;stroke:#000000;stroke-width:2.0px;stroke-linecap:butt;stroke-linejoin:miter;stroke-opacity:1\"/>\n",
       "<path class=\"bond-24 atom-21 atom-12\" d=\"M 198.2,126.9 L 186.4,131.6\" style=\"fill:none;fill-rule:evenodd;stroke:#0000FF;stroke-width:2.0px;stroke-linecap:butt;stroke-linejoin:miter;stroke-opacity:1\"/>\n",
       "<path class=\"bond-25 atom-20 atom-15\" d=\"M 233.6,140.7 L 229.3,170.4\" style=\"fill:none;fill-rule:evenodd;stroke:#000000;stroke-width:2.0px;stroke-linecap:butt;stroke-linejoin:miter;stroke-opacity:1\"/>\n",
       "<path d=\"M 41.5,189.4 L 42.9,188.8 L 43.1,187.3\" style=\"fill:none;stroke:#000000;stroke-width:2.0px;stroke-linecap:butt;stroke-linejoin:miter;stroke-opacity:1;\"/>\n",
       "<path d=\"M 24.8,141.5 L 23.6,140.6 L 23.8,139.1\" style=\"fill:none;stroke:#000000;stroke-width:2.0px;stroke-linecap:butt;stroke-linejoin:miter;stroke-opacity:1;\"/>\n",
       "<path d=\"M 27.7,112.4 L 27.9,110.9 L 29.3,110.3\" style=\"fill:none;stroke:#000000;stroke-width:2.0px;stroke-linecap:butt;stroke-linejoin:miter;stroke-opacity:1;\"/>\n",
       "<path d=\"M 54.4,100.3 L 55.8,99.8 L 57.0,100.7\" style=\"fill:none;stroke:#000000;stroke-width:2.0px;stroke-linecap:butt;stroke-linejoin:miter;stroke-opacity:1;\"/>\n",
       "<path d=\"M 130.3,125.4 L 130.8,125.8 L 132.1,125.2\" style=\"fill:none;stroke:#000000;stroke-width:2.0px;stroke-linecap:butt;stroke-linejoin:miter;stroke-opacity:1;\"/>\n",
       "<path d=\"M 157.2,115.2 L 158.6,114.7 L 159.1,115.1\" style=\"fill:none;stroke:#000000;stroke-width:2.0px;stroke-linecap:butt;stroke-linejoin:miter;stroke-opacity:1;\"/>\n",
       "<path d=\"M 200.9,181.1 L 201.4,181.5 L 202.8,181.0\" style=\"fill:none;stroke:#000000;stroke-width:2.0px;stroke-linecap:butt;stroke-linejoin:miter;stroke-opacity:1;\"/>\n",
       "<path d=\"M 251.7,188.1 L 252.8,189.0 L 254.2,188.4\" style=\"fill:none;stroke:#000000;stroke-width:2.0px;stroke-linecap:butt;stroke-linejoin:miter;stroke-opacity:1;\"/>\n",
       "<path d=\"M 279.3,178.4 L 280.7,177.9 L 280.9,176.4\" style=\"fill:none;stroke:#000000;stroke-width:2.0px;stroke-linecap:butt;stroke-linejoin:miter;stroke-opacity:1;\"/>\n",
       "<path d=\"M 284.8,149.7 L 285.0,148.2 L 283.8,147.3\" style=\"fill:none;stroke:#000000;stroke-width:2.0px;stroke-linecap:butt;stroke-linejoin:miter;stroke-opacity:1;\"/>\n",
       "<path d=\"M 262.6,130.5 L 261.4,129.6 L 260.1,130.2\" style=\"fill:none;stroke:#000000;stroke-width:2.0px;stroke-linecap:butt;stroke-linejoin:miter;stroke-opacity:1;\"/>\n",
       "<path d=\"M 211.2,123.1 L 210.0,122.2 L 209.4,122.4\" style=\"fill:none;stroke:#000000;stroke-width:2.0px;stroke-linecap:butt;stroke-linejoin:miter;stroke-opacity:1;\"/>\n",
       "<path d=\"M 75.2,146.5 L 75.0,148.0 L 73.6,148.6\" style=\"fill:none;stroke:#000000;stroke-width:2.0px;stroke-linecap:butt;stroke-linejoin:miter;stroke-opacity:1;\"/>\n",
       "<path class=\"atom-2\" d=\"M 62.5 207.4 Q 62.5 205.4, 63.5 204.2 Q 64.5 203.1, 66.4 203.1 Q 68.3 203.1, 69.3 204.2 Q 70.3 205.4, 70.3 207.4 Q 70.3 209.5, 69.3 210.7 Q 68.3 211.8, 66.4 211.8 Q 64.5 211.8, 63.5 210.7 Q 62.5 209.5, 62.5 207.4 M 66.4 210.9 Q 67.7 210.9, 68.4 210.0 Q 69.1 209.1, 69.1 207.4 Q 69.1 205.8, 68.4 204.9 Q 67.7 204.1, 66.4 204.1 Q 65.1 204.1, 64.4 204.9 Q 63.7 205.7, 63.7 207.4 Q 63.7 209.1, 64.4 210.0 Q 65.1 210.9, 66.4 210.9 \" fill=\"#FF0000\"/>\n",
       "<path class=\"atom-8\" d=\"M 103.3 107.3 Q 103.3 105.2, 104.3 104.1 Q 105.3 102.9, 107.2 102.9 Q 109.1 102.9, 110.1 104.1 Q 111.1 105.2, 111.1 107.3 Q 111.1 109.3, 110.1 110.5 Q 109.1 111.7, 107.2 111.7 Q 105.3 111.7, 104.3 110.5 Q 103.3 109.3, 103.3 107.3 M 107.2 110.7 Q 108.5 110.7, 109.2 109.8 Q 109.9 109.0, 109.9 107.3 Q 109.9 105.6, 109.2 104.7 Q 108.5 103.9, 107.2 103.9 Q 105.9 103.9, 105.2 104.7 Q 104.5 105.6, 104.5 107.3 Q 104.5 109.0, 105.2 109.8 Q 105.9 110.7, 107.2 110.7 \" fill=\"#FF0000\"/>\n",
       "<path class=\"atom-10\" d=\"M 122.5 155.5 Q 122.5 153.5, 123.6 152.3 Q 124.6 151.2, 126.4 151.2 Q 128.3 151.2, 129.3 152.3 Q 130.3 153.5, 130.3 155.5 Q 130.3 157.6, 129.3 158.8 Q 128.3 159.9, 126.4 159.9 Q 124.6 159.9, 123.6 158.8 Q 122.5 157.6, 122.5 155.5 M 126.4 159.0 Q 127.7 159.0, 128.4 158.1 Q 129.1 157.2, 129.1 155.5 Q 129.1 153.8, 128.4 153.0 Q 127.7 152.2, 126.4 152.2 Q 125.2 152.2, 124.4 153.0 Q 123.7 153.8, 123.7 155.5 Q 123.7 157.2, 124.4 158.1 Q 125.2 159.0, 126.4 159.0 \" fill=\"#FF0000\"/>\n",
       "<path class=\"atom-12\" d=\"M 180.3 129.0 L 183.1 133.5 Q 183.4 134.0, 183.8 134.8 Q 184.2 135.6, 184.3 135.6 L 184.3 129.0 L 185.4 129.0 L 185.4 137.5 L 184.2 137.5 L 181.2 132.6 Q 180.9 132.0, 180.5 131.4 Q 180.2 130.7, 180.1 130.5 L 180.1 137.5 L 178.9 137.5 L 178.9 129.0 L 180.3 129.0 \" fill=\"#0000FF\"/>\n",
       "<path class=\"atom-13\" d=\"M 176.0 158.7 L 178.8 163.2 Q 179.0 163.6, 179.5 164.5 Q 179.9 165.3, 180.0 165.3 L 180.0 158.7 L 181.1 158.7 L 181.1 167.2 L 179.9 167.2 L 176.9 162.3 Q 176.6 161.7, 176.2 161.0 Q 175.9 160.4, 175.7 160.2 L 175.7 167.2 L 174.6 167.2 L 174.6 158.7 L 176.0 158.7 \" fill=\"#0000FF\"/>\n",
       "<path class=\"atom-22\" d=\"M 210.4 92.5 Q 210.4 90.5, 211.4 89.3 Q 212.5 88.2, 214.3 88.2 Q 216.2 88.2, 217.2 89.3 Q 218.2 90.5, 218.2 92.5 Q 218.2 94.6, 217.2 95.7 Q 216.2 96.9, 214.3 96.9 Q 212.5 96.9, 211.4 95.7 Q 210.4 94.6, 210.4 92.5 M 214.3 95.9 Q 215.6 95.9, 216.3 95.1 Q 217.0 94.2, 217.0 92.5 Q 217.0 90.8, 216.3 90.0 Q 215.6 89.1, 214.3 89.1 Q 213.0 89.1, 212.3 90.0 Q 211.6 90.8, 211.6 92.5 Q 211.6 94.2, 212.3 95.1 Q 213.0 95.9, 214.3 95.9 \" fill=\"#FF0000\"/>\n",
       "</svg>"
      ],
      "text/plain": [
       "<IPython.core.display.SVG object>"
      ]
     },
     "execution_count": 5,
     "metadata": {},
     "output_type": "execute_result"
    }
   ],
   "source": [
    "dm.to_image('CC(=O)c1cccc(OC(=O)Cn2ncc3ccccc3c2=O)c1')"
   ]
  },
  {
   "cell_type": "code",
   "execution_count": 6,
   "id": "a4faeb7b-fab3-4f87-a716-8384031442ef",
   "metadata": {},
   "outputs": [
    {
     "data": {
      "text/plain": [
       "{'<sos>': 0,\n",
       " '<eos>': 1,\n",
       " '<pad>': 2,\n",
       " '<unk>': 3,\n",
       " 'C': 4,\n",
       " 'c': 5,\n",
       " '1': 6,\n",
       " 'N': 7,\n",
       " '(': 8,\n",
       " '=': 9,\n",
       " 'O': 10,\n",
       " ')': 11,\n",
       " '2': 12,\n",
       " 'n': 13,\n",
       " 'S': 14,\n",
       " 's': 15,\n",
       " 'Br': 16,\n",
       " 'o': 17,\n",
       " '3': 18,\n",
       " 'F': 19,\n",
       " '[nH]': 20,\n",
       " 'Cl': 21,\n",
       " '4': 22,\n",
       " '-': 23,\n",
       " '#': 24,\n",
       " '[H]': 25,\n",
       " '5': 26,\n",
       " '6': 27}"
      ]
     },
     "execution_count": 6,
     "metadata": {},
     "output_type": "execute_result"
    }
   ],
   "source": [
    "vocab.char2idx"
   ]
  },
  {
   "cell_type": "code",
   "execution_count": 7,
   "id": "742879c3-c4df-49e2-b96e-343bf1d53e66",
   "metadata": {},
   "outputs": [],
   "source": [
    "lengths = df.SMILES.str.len()\n",
    "max_len = np.max(lengths)"
   ]
  },
  {
   "cell_type": "code",
   "execution_count": 8,
   "id": "0c32a1dc-de73-4d5f-b9c1-51081319ced4",
   "metadata": {},
   "outputs": [],
   "source": [
    "df['str_len'] = lengths\n",
    "df = df[df.str_len <= 126]"
   ]
  },
  {
   "cell_type": "code",
   "execution_count": 10,
   "id": "a3e72a79-f26d-4d4a-b4ed-614b88d86c11",
   "metadata": {},
   "outputs": [],
   "source": [
    "train_df, val_df = train_test_split(df, test_size=0.001)\n",
    "\n",
    "train_dataset = vc.TransformerSMILESDataset(train_df.SMILES.values, vocab, max_len + 1)\n",
    "\n",
    "val_dataset = vc.TransformerSMILESDataset(val_df.SMILES.values, vocab, max_len + 1)\n",
    "\n",
    "checkpoint_callback = ModelCheckpoint(dirpath='/workspace/moses-vae-large/', verbose=True, save_top_k=3,monitor='val/loss', every_n_train_steps=5000)"
   ]
  },
  {
   "cell_type": "code",
   "execution_count": 11,
   "id": "68919280-7f98-45ba-aefc-a44097f08575",
   "metadata": {},
   "outputs": [],
   "source": [
    "train_dl = DataLoader(train_dataset,batch_size=128,shuffle=True, collate_fn=train_dataset.collate,num_workers=0)\n",
    "val_dl = DataLoader(val_dataset, batch_size=128, shuffle=False, collate_fn=val_dataset.collate, num_workers=0)"
   ]
  },
  {
   "cell_type": "code",
   "execution_count": 12,
   "id": "bf76e46d-f21e-43d5-a9ce-c039cd82f6e5",
   "metadata": {},
   "outputs": [
    {
     "name": "stderr",
     "output_type": "stream",
     "text": [
      "\u001b[34m\u001b[1mwandb\u001b[0m: Using wandb-core as the SDK backend.  Please refer to https://wandb.me/wandb-core for more information.\n",
      "\u001b[34m\u001b[1mwandb\u001b[0m: Currently logged in as: \u001b[33mrhaddad7\u001b[0m. Use \u001b[1m`wandb login --relogin`\u001b[0m to force relogin\n"
     ]
    },
    {
     "data": {
      "text/html": [
       "Tracking run with wandb version 0.18.6"
      ],
      "text/plain": [
       "<IPython.core.display.HTML object>"
      ]
     },
     "metadata": {},
     "output_type": "display_data"
    },
    {
     "data": {
      "text/html": [
       "Run data is saved locally in <code>/workspace/vae-cyc/notebooks/wandb/run-20241116_163246-16wl083t</code>"
      ],
      "text/plain": [
       "<IPython.core.display.HTML object>"
      ]
     },
     "metadata": {},
     "output_type": "display_data"
    },
    {
     "data": {
      "text/html": [
       "Syncing run <strong><a href='https://wandb.ai/rhaddad7/vae-cyc-notebooks_workspace_vae-cyc_notebooks/runs/16wl083t' target=\"_blank\">major-flower-40</a></strong> to <a href='https://wandb.ai/rhaddad7/vae-cyc-notebooks_workspace_vae-cyc_notebooks' target=\"_blank\">Weights & Biases</a> (<a href='https://wandb.me/developer-guide' target=\"_blank\">docs</a>)<br/>"
      ],
      "text/plain": [
       "<IPython.core.display.HTML object>"
      ]
     },
     "metadata": {},
     "output_type": "display_data"
    },
    {
     "data": {
      "text/html": [
       " View project at <a href='https://wandb.ai/rhaddad7/vae-cyc-notebooks_workspace_vae-cyc_notebooks' target=\"_blank\">https://wandb.ai/rhaddad7/vae-cyc-notebooks_workspace_vae-cyc_notebooks</a>"
      ],
      "text/plain": [
       "<IPython.core.display.HTML object>"
      ]
     },
     "metadata": {},
     "output_type": "display_data"
    },
    {
     "data": {
      "text/html": [
       " View run at <a href='https://wandb.ai/rhaddad7/vae-cyc-notebooks_workspace_vae-cyc_notebooks/runs/16wl083t' target=\"_blank\">https://wandb.ai/rhaddad7/vae-cyc-notebooks_workspace_vae-cyc_notebooks/runs/16wl083t</a>"
      ],
      "text/plain": [
       "<IPython.core.display.HTML object>"
      ]
     },
     "metadata": {},
     "output_type": "display_data"
    },
    {
     "data": {
      "text/html": [
       "<button onClick=\"this.nextSibling.style.display='block';this.style.display='none';\">Display W&B run</button><iframe src='https://wandb.ai/rhaddad7/vae-cyc-notebooks_workspace_vae-cyc_notebooks/runs/16wl083t?jupyter=true' style='border:none;width:100%;height:420px;display:none;'></iframe>"
      ],
      "text/plain": [
       "<wandb.sdk.wandb_run.Run at 0x7b26f110ad10>"
      ]
     },
     "execution_count": 12,
     "metadata": {},
     "output_type": "execute_result"
    }
   ],
   "source": [
    "wandb_logger = WandbLogger(project=\"run_pod\", log_model=True)\n",
    "wandb.init()\n",
    "# wandb_logger=None"
   ]
  },
  {
   "cell_type": "code",
   "execution_count": 13,
   "id": "370709f1-fb30-41ff-ab71-5431f9bb78af",
   "metadata": {},
   "outputs": [
    {
     "name": "stderr",
     "output_type": "stream",
     "text": [
      "Using 16bit Automatic Mixed Precision (AMP)\n",
      "GPU available: True (cuda), used: True\n",
      "TPU available: False, using: 0 TPU cores\n",
      "HPU available: False, using: 0 HPUs\n"
     ]
    }
   ],
   "source": [
    "trainer = pl.Trainer(devices=1, logger=wandb_logger, precision='16-mixed', callbacks=[checkpoint_callback])"
   ]
  },
  {
   "cell_type": "code",
   "execution_count": 14,
   "id": "702b29f9-daad-4aca-9b50-a8d5a272c1a3",
   "metadata": {},
   "outputs": [
    {
     "name": "stdout",
     "output_type": "stream",
     "text": [
      "here\n"
     ]
    }
   ],
   "source": [
    "model = vc.Transformer(vocab_size=len(vocab.char2idx), \n",
    "                       num_heads=8, \n",
    "                       hidden_dim=64, \n",
    "                       num_layers=12, \n",
    "                       embed_size=128, \n",
    "                       latent_dim=128, \n",
    "                       vocab=vocab, \n",
    "                       max_seq_length=128)"
   ]
  },
  {
   "cell_type": "code",
   "execution_count": null,
   "id": "eab0e3f8-12fc-4c86-95c5-7cb313aa76ec",
   "metadata": {},
   "outputs": [],
   "source": [
    "trainer.fit(model, train_dl, val_dl)"
   ]
  },
  {
   "cell_type": "code",
   "execution_count": 16,
   "id": "9631878f-4359-424c-ac33-e31d66c0fac0",
   "metadata": {},
   "outputs": [],
   "source": [
    "model = model.eval()"
   ]
  },
  {
   "cell_type": "code",
   "execution_count": 17,
   "id": "28409a64-dc2a-4446-8b87-8fa8e4620e65",
   "metadata": {},
   "outputs": [],
   "source": [
    "model = model.cuda()"
   ]
  },
  {
   "cell_type": "code",
   "execution_count": 18,
   "id": "ad40cfe6-7124-4474-bec8-dcab38675153",
   "metadata": {},
   "outputs": [],
   "source": [
    "import torch"
   ]
  },
  {
   "cell_type": "code",
   "execution_count": 19,
   "id": "4f1022af-80e1-4c75-a958-4a766ec71da1",
   "metadata": {},
   "outputs": [],
   "source": [
    "x = torch.randint(0, vocab.vocab_size, size=(4,20))"
   ]
  },
  {
   "cell_type": "code",
   "execution_count": 20,
   "id": "a7e8d434-7114-4614-829b-60c1797e55fa",
   "metadata": {},
   "outputs": [
    {
     "name": "stderr",
     "output_type": "stream",
     "text": [
      "[16:36:30] SMILES Parse Error: syntax error while parsing: CC(CCN(C(=)NC(=)c1cccc(NC(=)c2ccc2)c1\n",
      "[16:36:30] SMILES Parse Error: Failed parsing SMILES 'CC(CCN(C(=)NC(=)c1cccc(NC(=)c2ccc2)c1' for input: 'CC(CCN(C(=)NC(=)c1cccc(NC(=)c2ccc2)c1'\n"
     ]
    },
    {
     "data": {
      "image/svg+xml": [
       "<svg xmlns=\"http://www.w3.org/2000/svg\" xmlns:rdkit=\"http://www.rdkit.org/xml\" xmlns:xlink=\"http://www.w3.org/1999/xlink\" version=\"1.1\" baseProfile=\"full\" xml:space=\"preserve\" width=\"300px\" height=\"300px\" viewBox=\"0 0 300 300\">\n",
       "<!-- END OF HEADER -->\n",
       "</svg>"
      ],
      "text/plain": [
       "<IPython.core.display.SVG object>"
      ]
     },
     "execution_count": 20,
     "metadata": {},
     "output_type": "execute_result"
    }
   ],
   "source": [
    "import datamol as dm\n",
    "dm.to_image(model.generate(num_samples=1))"
   ]
  },
  {
   "cell_type": "code",
   "execution_count": 21,
   "id": "132d69d2-39d0-40d8-b0e5-f81ddb35ffa2",
   "metadata": {},
   "outputs": [
    {
     "name": "stdout",
     "output_type": "stream",
     "text": [
      "CC(CC(N)c1cccc(N(NC(=O)c2cccc2)c1\n",
      "CCC(CNC(=O)c1cccc(NC(=)c2cccc2)c1\n",
      "CC(CCN(C(=)c1ccccc1)c1cccc1ccc1\n",
      "CC(CC(C)NC(=O)c1ccc(NC(=)cc1cccc1\n",
      "CC(CCN(C(=)NC(=)c1ccccc1)c1cccc1\n",
      "CC(CC(C(N)c1cccc(NC(=)(N)cc1ccc1cccc1\n",
      "CC(CCN(C(=)NC(=)c1ccccc1C(N)C(C)C1\n",
      "CC(CC(N)C(=O)NC(=)c1cccc(NC(=O)c1cccc1\n",
      "CC(CC(N)c1cccc(N(NC(=)(N)cc1ccc1)cc1\n",
      "CC(CC(N)C(=O)NC(=)c1cccc(N(=O)c1\n"
     ]
    }
   ],
   "source": [
    "for i in range(10):\n",
    "    print(model.generate(num_samples=1))"
   ]
  }
 ],
 "metadata": {
  "kernelspec": {
   "display_name": "Python 3 (ipykernel)",
   "language": "python",
   "name": "python3"
  },
  "language_info": {
   "codemirror_mode": {
    "name": "ipython",
    "version": 3
   },
   "file_extension": ".py",
   "mimetype": "text/x-python",
   "name": "python",
   "nbconvert_exporter": "python",
   "pygments_lexer": "ipython3",
   "version": "3.10.12"
  }
 },
 "nbformat": 4,
 "nbformat_minor": 5
}
